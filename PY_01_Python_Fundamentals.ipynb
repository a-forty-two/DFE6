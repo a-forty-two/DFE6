{
  "cells": [
    {
      "cell_type": "markdown",
      "metadata": {
        "id": "view-in-github",
        "colab_type": "text"
      },
      "source": [
        "<a href=\"https://colab.research.google.com/github/a-forty-two/DFE6/blob/main/PY_01_Python_Fundamentals.ipynb\" target=\"_parent\"><img src=\"https://colab.research.google.com/assets/colab-badge.svg\" alt=\"Open In Colab\"/></a>"
      ]
    },
    {
      "cell_type": "markdown",
      "metadata": {
        "graffitiCellId": "id_6h8z85b",
        "id": "1HUd1L8hUhtp"
      },
      "source": [
        "# Introducing Python with Jupyter"
      ]
    },
    {
      "cell_type": "markdown",
      "metadata": {
        "graffitiCellId": "id_s8dhglt",
        "id": "E9XTN7nUUhts"
      },
      "source": [
        "## Python Overview\n",
        "* data \n",
        "* variables\n",
        "* operations\n",
        "* simple functions\n",
        "* objects\n",
        "* defining functions\n",
        "* data structure operations\n",
        "* libraries\n",
        "* conditions\n",
        "* loops\n",
        "\n"
      ]
    },
    {
      "cell_type": "markdown",
      "metadata": {
        "graffitiCellId": "id_lwspbj4",
        "id": "DxkRGL1bUhtt"
      },
      "source": [
        "# Data"
      ]
    },
    {
      "cell_type": "code",
      "execution_count": null,
      "metadata": {
        "graffitiCellId": "id_mddkqlw",
        "id": "5mrsVERNUhtu",
        "outputId": "298aa4c7-d00a-40b4-999a-745651454604"
      },
      "outputs": [
        {
          "name": "stdout",
          "output_type": "stream",
          "text": [
            "5\n",
            "5.0\n",
            "5\n",
            "True\n",
            "['Lovers', 'Haters', 'Needers']\n"
          ]
        }
      ],
      "source": [
        "print(5)\n",
        "print(5.0)\n",
        "print(\"5\")\n",
        "print(True)\n",
        "print([\"Lovers\", \"Haters\", \"Needers\"])"
      ]
    },
    {
      "cell_type": "code",
      "execution_count": null,
      "metadata": {
        "graffitiCellId": "id_eaw0qe7",
        "id": "MkQM5fyrUhtw",
        "outputId": "4c76790d-0bc0-4c30-9138-2c13101af2a6"
      },
      "outputs": [
        {
          "name": "stdout",
          "output_type": "stream",
          "text": [
            "<class 'int'>\n",
            "<class 'float'>\n",
            "<class 'str'>\n",
            "<class 'bool'>\n",
            "<class 'list'>\n"
          ]
        }
      ],
      "source": [
        "print(type(5))\n",
        "print(type(5.0))\n",
        "print(type(\"5\"))\n",
        "print(type(True))\n",
        "print(type([\"Lovers\", \"Haters\", \"Needers\"]))"
      ]
    },
    {
      "cell_type": "markdown",
      "metadata": {
        "graffitiCellId": "id_35yik7d",
        "id": "T2K3X3s4Uhtx"
      },
      "source": [
        "# Variables"
      ]
    },
    {
      "cell_type": "code",
      "execution_count": null,
      "metadata": {
        "graffitiCellId": "id_etx7o4q",
        "id": "3-z6KXLkUhtx",
        "outputId": "d53230a0-d64d-4362-cc12-390adad1a224"
      },
      "outputs": [
        {
          "name": "stdout",
          "output_type": "stream",
          "text": [
            "Kofi 41 1.82\n",
            "['Artificial Intelligence', 'Gaming', 'Functional Medicine']\n",
            "True\n",
            "Kofi is 41 and 182.0 cm\n"
          ]
        }
      ],
      "source": [
        "name = 'Kofi'\n",
        "age = 41\n",
        "height = 1.82\n",
        "hobbies = [\"Artificial Intelligence\", \"Gaming\", \"Functional Medicine\"]\n",
        "is_alive = True\n",
        "\n",
        "fmesg = f\"{name} is {age} and {height * 100} cm\" # formatted string\n",
        "\n",
        "print(name, age, height)  # print with multiple args = spaced output\n",
        "print(hobbies)\n",
        "print(is_alive)\n",
        "\n",
        "\n",
        "print(fmesg)"
      ]
    },
    {
      "cell_type": "code",
      "execution_count": null,
      "metadata": {
        "graffitiCellId": "id_hznxpkh",
        "id": "i1YZgwd7Uhty",
        "outputId": "c57b79fa-22c8-4d4c-c8cc-08e01fbd9106"
      },
      "outputs": [
        {
          "data": {
            "text/plain": [
              "42"
            ]
          },
          "execution_count": 4,
          "metadata": {},
          "output_type": "execute_result"
        }
      ],
      "source": [
        "age += 1\n",
        "\n",
        "age   # the last line of a jupyter cell is always printed"
      ]
    },
    {
      "cell_type": "markdown",
      "metadata": {
        "graffitiCellId": "id_2qqz5cp",
        "id": "7Zxkjn2vUhtz"
      },
      "source": [
        "# Operations"
      ]
    },
    {
      "cell_type": "code",
      "execution_count": null,
      "metadata": {
        "graffitiCellId": "id_7qvgwr0",
        "scrolled": true,
        "id": "WSriiqJqUhtz",
        "outputId": "497397be-954e-4fdf-ebf2-e2e43fec9f88"
      },
      "outputs": [
        {
          "name": "stdout",
          "output_type": "stream",
          "text": [
            "Kofi Glover\n",
            "8\n",
            "---\n",
            "True\n",
            "False\n",
            "['Cake', 'Cream', 'Flour', 'Sugar']\n",
            "True\n"
          ]
        }
      ],
      "source": [
        "print( \"Kofi \" + \"Glover\")\n",
        "print( 2 ** 3 )    # 2 * 2 * 2 = 2^3\n",
        "print( \"-\" * 3 )\n",
        "print( \"@\" in \"kofi.glover@qa.com\")\n",
        "print( True and False )\n",
        "print( [\"Cake\", \"Cream\"] + [\"Flour\", \"Sugar\"] )\n",
        "print( 1.14 <=  2.13 )\n"
      ]
    },
    {
      "cell_type": "markdown",
      "metadata": {
        "id": "jyaePO2uUht0"
      },
      "source": [
        "## How do I compare data values?"
      ]
    },
    {
      "cell_type": "code",
      "execution_count": null,
      "metadata": {
        "id": "R0czcnDIUht0"
      },
      "outputs": [],
      "source": [
        "michael_bp = 175\n",
        "alice_bp = 175\n",
        "eve_bp = 140"
      ]
    },
    {
      "cell_type": "markdown",
      "metadata": {
        "id": "QSe0dbNNUht1"
      },
      "source": [
        "Equality"
      ]
    },
    {
      "cell_type": "code",
      "execution_count": null,
      "metadata": {
        "id": "gIaK9yo0Uht1",
        "outputId": "f09fe60c-3f9a-46b7-8740-57662a6cd9af"
      },
      "outputs": [
        {
          "data": {
            "text/plain": [
              "True"
            ]
          },
          "execution_count": 56,
          "metadata": {},
          "output_type": "execute_result"
        }
      ],
      "source": [
        "michael_bp == alice_bp"
      ]
    },
    {
      "cell_type": "markdown",
      "metadata": {
        "id": "Uc-Gv26ZUht1"
      },
      "source": [
        "Inequality"
      ]
    },
    {
      "cell_type": "code",
      "execution_count": null,
      "metadata": {
        "id": "__oh4aNcUht1",
        "outputId": "e988fb32-8345-4949-bd20-4e953aea75eb"
      },
      "outputs": [
        {
          "data": {
            "text/plain": [
              "False"
            ]
          },
          "execution_count": 57,
          "metadata": {},
          "output_type": "execute_result"
        }
      ],
      "source": [
        "michael_bp != alice_bp"
      ]
    },
    {
      "cell_type": "code",
      "execution_count": null,
      "metadata": {
        "scrolled": true,
        "id": "IOM1zKq3Uht2",
        "outputId": "93a120d2-28ce-4f0d-e846-2c0bc0d2c134"
      },
      "outputs": [
        {
          "data": {
            "text/plain": [
              "True"
            ]
          },
          "execution_count": 58,
          "metadata": {},
          "output_type": "execute_result"
        }
      ],
      "source": [
        "michael_bp != eve_bp"
      ]
    },
    {
      "cell_type": "markdown",
      "metadata": {
        "id": "WqVBEkLoUht2"
      },
      "source": [
        "Greater than or equal to"
      ]
    },
    {
      "cell_type": "code",
      "execution_count": null,
      "metadata": {
        "id": "t-G02e52Uht2",
        "outputId": "80443c8c-d621-42fc-da22-8738efe50a33"
      },
      "outputs": [
        {
          "data": {
            "text/plain": [
              "True"
            ]
          },
          "execution_count": 59,
          "metadata": {},
          "output_type": "execute_result"
        }
      ],
      "source": [
        "michael_bp >= eve_bp"
      ]
    },
    {
      "cell_type": "markdown",
      "metadata": {
        "id": "DtR_QZg-Uht3"
      },
      "source": [
        "## How do I logically combine comparisons?"
      ]
    },
    {
      "cell_type": "markdown",
      "metadata": {
        "id": "VE47CESxUht3"
      },
      "source": [
        "#### `and`\n",
        "\n",
        "Are *both* conditions true?"
      ]
    },
    {
      "cell_type": "code",
      "execution_count": null,
      "metadata": {
        "id": "Cc3NOmKEUht4"
      },
      "outputs": [],
      "source": [
        "message = \"WARNING: Too High!\""
      ]
    },
    {
      "cell_type": "code",
      "execution_count": null,
      "metadata": {
        "scrolled": true,
        "id": "zn9ZWUgfUht4",
        "outputId": "676f9f6a-49a3-4946-f3e4-38161e3664e0"
      },
      "outputs": [
        {
          "data": {
            "text/plain": [
              "True"
            ]
          },
          "execution_count": 64,
          "metadata": {},
          "output_type": "execute_result"
        }
      ],
      "source": [
        "(\"WARNING\" in message) and (michael_bp >= eve_bp)"
      ]
    },
    {
      "cell_type": "code",
      "execution_count": null,
      "metadata": {
        "id": "T20rbX_5Uht4"
      },
      "outputs": [],
      "source": [
        "safe_max = 150\n",
        "safe_min = 80"
      ]
    },
    {
      "cell_type": "markdown",
      "metadata": {
        "id": "vlEDsItGUht5"
      },
      "source": [
        "#### `or`\n",
        "\n",
        "Is *either* condition `True` ?"
      ]
    },
    {
      "cell_type": "code",
      "execution_count": null,
      "metadata": {
        "id": "VLZtHipUUht5",
        "outputId": "060858fa-5dbf-4926-b934-dfa378ee90fc"
      },
      "outputs": [
        {
          "data": {
            "text/plain": [
              "False"
            ]
          },
          "execution_count": 68,
          "metadata": {},
          "output_type": "execute_result"
        }
      ],
      "source": [
        "michael_bp < safe_max"
      ]
    },
    {
      "cell_type": "code",
      "execution_count": null,
      "metadata": {
        "scrolled": true,
        "id": "wJSw6VtdUht5",
        "outputId": "6a4202a3-106b-4567-bf56-a748645db917"
      },
      "outputs": [
        {
          "data": {
            "text/plain": [
              "True"
            ]
          },
          "execution_count": 67,
          "metadata": {},
          "output_type": "execute_result"
        }
      ],
      "source": [
        "eve_bp < safe_max"
      ]
    },
    {
      "cell_type": "code",
      "execution_count": null,
      "metadata": {
        "id": "oV__nkIEUht5",
        "outputId": "37685f3a-a6bd-43f9-ba33-69886d1847f2"
      },
      "outputs": [
        {
          "data": {
            "text/plain": [
              "True"
            ]
          },
          "execution_count": 69,
          "metadata": {},
          "output_type": "execute_result"
        }
      ],
      "source": [
        "(eve_bp < safe_max) or (michael_bp < safe_max)"
      ]
    },
    {
      "cell_type": "markdown",
      "metadata": {
        "id": "EWV5tXcdUht6"
      },
      "source": [
        "#### `not`\n",
        "\n",
        "Isn't the condition `True`?"
      ]
    },
    {
      "cell_type": "code",
      "execution_count": null,
      "metadata": {
        "id": "YE6qklJNUht6",
        "outputId": "1790cd4a-b70e-46b2-b50d-51e014f16433"
      },
      "outputs": [
        {
          "data": {
            "text/plain": [
              "False"
            ]
          },
          "execution_count": 3,
          "metadata": {},
          "output_type": "execute_result"
        }
      ],
      "source": [
        "not (\"WARNING\" in message)"
      ]
    },
    {
      "cell_type": "markdown",
      "metadata": {
        "id": "0ENC9tluUht6"
      },
      "source": [
        "... sometimes python let's you place `not` in the middle of a condition because it reads better.."
      ]
    },
    {
      "cell_type": "code",
      "execution_count": null,
      "metadata": {
        "id": "pLshq8y2Uht6",
        "outputId": "a735f839-1520-4ed9-92ca-41f6e5190d81"
      },
      "outputs": [
        {
          "data": {
            "text/plain": [
              "False"
            ]
          },
          "execution_count": 4,
          "metadata": {},
          "output_type": "execute_result"
        }
      ],
      "source": [
        "\"WARNING\" not in message"
      ]
    },
    {
      "cell_type": "markdown",
      "metadata": {
        "id": "ghE8Lr7HUht7"
      },
      "source": [
        "## How do I use complex conditions to make decisions?"
      ]
    },
    {
      "cell_type": "code",
      "execution_count": null,
      "metadata": {
        "id": "jzZ_Ek6rUht7",
        "outputId": "dbe030ee-f81f-4ac9-e9d4-d505ce1ab311"
      },
      "outputs": [
        {
          "name": "stdout",
          "output_type": "stream",
          "text": [
            "GO TO HOSPITAL\n"
          ]
        }
      ],
      "source": [
        "if (\"WARNING\" in message) and (michael_bp > safe_max):\n",
        "    print(\"GO TO HOSPITAL\")\n",
        "else:\n",
        "    print(\"STAY AT HOME\")"
      ]
    },
    {
      "cell_type": "markdown",
      "metadata": {
        "graffitiCellId": "id_qew89wg",
        "id": "oDE-qJxQUht7"
      },
      "source": [
        "### Simple Functions\n",
        "\n",
        "\n",
        "output = fn(input)\n",
        "\n",
        "returnValue = procedure(requirements)\n",
        "\n",
        "makes a new value\n",
        "\n",
        "these are algorithms, not \"relationships between mathematical variables\""
      ]
    },
    {
      "cell_type": "code",
      "execution_count": null,
      "metadata": {
        "graffitiCellId": "id_91hfxgy",
        "id": "sgth3TMLUht7",
        "outputId": "571d64ee-aefe-44bb-d8ed-61f1f0af706f"
      },
      "outputs": [
        {
          "name": "stdout",
          "output_type": "stream",
          "text": [
            "Kofi\n",
            "140509698735152\n",
            "<class 'str'>\n",
            "4\n"
          ]
        }
      ],
      "source": [
        "name = \"Kofi\"\n",
        "\n",
        "print(name)          # output the value of name\n",
        "print( id(name) )    # output the memory location of the value of name\n",
        "print( type(name) )  # output the type of the value of name\n",
        "print( len(name) )   # output the length of (the value of) name \n"
      ]
    },
    {
      "cell_type": "markdown",
      "metadata": {
        "graffitiCellId": "id_ljm8tih",
        "id": "nbC2RHtIUht8"
      },
      "source": [
        "# Objects"
      ]
    },
    {
      "cell_type": "code",
      "execution_count": null,
      "metadata": {
        "graffitiCellId": "id_ipd1y1d",
        "id": "XGI_6a34Uht8",
        "outputId": "f1827795-81f2-48cb-9351-9de58a27b594"
      },
      "outputs": [
        {
          "name": "stdout",
          "output_type": "stream",
          "text": [
            "KOFI\n",
            "kofi\n",
            "True\n",
            "False\n"
          ]
        }
      ],
      "source": [
        "# data.operation(requirements)\n",
        "# obj.method(parameters)\n",
        "# ask name to upper() itself \n",
        "# ask name if it startswith(M)\n",
        "\n",
        "print( name.upper()  )\n",
        "print( name.lower()   )\n",
        "print( name.startswith(\"K\") )\n",
        "print( name.endswith(\"K\") )\n",
        "\n",
        "# all data in python is an object\n",
        "# objects are data structures:  values (properties), types (class), id, methods"
      ]
    },
    {
      "cell_type": "code",
      "execution_count": null,
      "metadata": {
        "graffitiCellId": "id_bsadkld",
        "id": "VsXuHu9EUht-",
        "outputId": "bd6631d9-7ad7-4ede-a3b9-84099b22ac2a"
      },
      "outputs": [
        {
          "data": {
            "text/plain": [
              "['swapcase', 'title', 'translate', 'upper', 'zfill']"
            ]
          },
          "execution_count": 8,
          "metadata": {},
          "output_type": "execute_result"
        }
      ],
      "source": [
        "dir(name)[-5:] # lists the last 5 attributes & methods of the object "
      ]
    },
    {
      "cell_type": "markdown",
      "metadata": {
        "graffitiCellId": "id_ix5t7mi",
        "id": "UBbIBYcqUht_"
      },
      "source": [
        "## Exercise 1:\n",
        "* define variables of each type mentioned\n",
        "* they should describe you (name, age, location, etc.)\n",
        "\n",
        "* print these out\n",
        "* print all strings in upper case\n",
        "* print whether your age is over 18\n",
        "* print 10 dashes"
      ]
    },
    {
      "cell_type": "markdown",
      "metadata": {
        "graffitiCellId": "id_dpwwm1o",
        "id": "Y2fs3aIXUht_"
      },
      "source": [
        "# Functions"
      ]
    },
    {
      "cell_type": "markdown",
      "metadata": {
        "id": "cbEc2r9vUht_"
      },
      "source": [
        "Functions are, in part, a mechaism by which you can repeat and reuse blocks of code.\n",
        "\n",
        "However, importantly, they are a key mechanism for structring your program!\n",
        "\n",
        "Even when your function will only be called once, it is often still helpful to define it, so you can enclose some logic under a heading, and use that heading to clarify the structure & intention of your code."
      ]
    },
    {
      "cell_type": "markdown",
      "metadata": {
        "graffitiCellId": "id_jvhiwzf",
        "id": "fdKMg6b1UhuA"
      },
      "source": [
        "### Defining Functions\n",
        "* algorithm can be used to calculate the value of a mathematical function...\n",
        "\n",
        "* error(pred, obv) = (pred - obv)^2  (known as the MSE, or, Mean Square Error)\n",
        "\n",
        "* def error(pred, obv)                <- LHS of math\n",
        "* return (pred - obv)^2               <- RHS of math  (return aprox., = )\n",
        "\n",
        "* return actually means store calcuated value in memory "
      ]
    },
    {
      "cell_type": "code",
      "execution_count": null,
      "metadata": {
        "graffitiCellId": "id_zv74rst",
        "id": "sVJI7hBBUhuA",
        "outputId": "dc305b35-736c-43a4-c99c-789eaec46b3c"
      },
      "outputs": [
        {
          "data": {
            "text/plain": [
              "0.0899999999999999"
            ]
          },
          "execution_count": 9,
          "metadata": {},
          "output_type": "execute_result"
        }
      ],
      "source": [
        "def error(pred, obv):\n",
        "    return (pred - obv) ** 2\n",
        "\n",
        "error(3, 3.3)"
      ]
    },
    {
      "cell_type": "markdown",
      "metadata": {
        "graffitiCellId": "id_eyn6dbd",
        "id": "FfIKbTp6UhuB"
      },
      "source": [
        "* indendation groups operations together\n",
        "* def defines a function\n",
        "* parameters are listed after the function name\n",
        "* one new line after the definintion ends the def. \n",
        "* notice colon before indentation"
      ]
    },
    {
      "cell_type": "markdown",
      "metadata": {
        "id": "BqXH-hClUhuB"
      },
      "source": [
        "Consider the following function which could be used to predict a person's weight in `kg`:"
      ]
    },
    {
      "cell_type": "code",
      "execution_count": null,
      "metadata": {
        "id": "zm_8bOzQUhuB"
      },
      "outputs": [],
      "source": [
        "def predict(age, height, parameters=(0.5, 0.5, 0)):\n",
        "    \"\"\"\n",
        "    Predict a weight (kg) from an age (yr), height (cm) and\n",
        "        parameters :\n",
        "            (age importance, height importance, base weight)\n",
        "    \"\"\"\n",
        "    # reset the scales so each goes from 0 to 1\n",
        "    age, height = age/100, height/200\n",
        "    \n",
        "    # extract the parameters for each variable\n",
        "    a, h, w = parameters\n",
        "    \n",
        "    # predict a weight\n",
        "    weight = 100 * (a * age + h * height + w)\n",
        "    \n",
        "    return round(weight, 2)"
      ]
    },
    {
      "cell_type": "code",
      "execution_count": null,
      "metadata": {
        "id": "lnN2qXctUhuC",
        "outputId": "4e8f2971-b625-4f54-e1e6-04ef029e0b1a"
      },
      "outputs": [
        {
          "name": "stdout",
          "output_type": "stream",
          "text": [
            "Help on function predict in module __main__:\n",
            "\n",
            "predict(age, height, parameters=(0.5, 0.5, 0))\n",
            "    Predict a weight (kg) from an age (yr), height (cm) and\n",
            "        parameters :\n",
            "            (age importance, height importance, base weight)\n",
            "\n"
          ]
        }
      ],
      "source": [
        "help(predict)"
      ]
    },
    {
      "cell_type": "code",
      "execution_count": null,
      "metadata": {
        "id": "BRLbRSeXUhuC",
        "outputId": "e5850b37-f0d0-45a0-937f-e2f43b5f4e8b"
      },
      "outputs": [
        {
          "data": {
            "text/plain": [
              "56.0"
            ]
          },
          "execution_count": 12,
          "metadata": {},
          "output_type": "execute_result"
        }
      ],
      "source": [
        "predict(10, 150, (0.6, 0.4, 0.2)) # pass arguments by position"
      ]
    },
    {
      "cell_type": "code",
      "execution_count": null,
      "metadata": {
        "id": "jnb76PKSUhuD",
        "outputId": "9fe99775-79c0-4b6a-f48e-2103851eea86"
      },
      "outputs": [
        {
          "data": {
            "text/plain": [
              "42.5"
            ]
          },
          "execution_count": 13,
          "metadata": {},
          "output_type": "execute_result"
        }
      ],
      "source": [
        "predict(10, 150) # pass arguments by position, one by default"
      ]
    },
    {
      "cell_type": "code",
      "execution_count": null,
      "metadata": {
        "id": "yiVQUpnFUhuD",
        "outputId": "28581376-2c4d-4f97-e023-e481a539cdd5"
      },
      "outputs": [
        {
          "data": {
            "text/plain": [
              "42.5"
            ]
          },
          "execution_count": 14,
          "metadata": {},
          "output_type": "execute_result"
        }
      ],
      "source": [
        "predict(age=10, height=150) # pass by name"
      ]
    },
    {
      "cell_type": "code",
      "execution_count": null,
      "metadata": {
        "graffitiCellId": "id_btwewgl",
        "id": "QwI7CoQ6UhuD",
        "outputId": "5f9b8f48-9673-404e-99d6-7f715cee9383"
      },
      "outputs": [
        {
          "name": "stdout",
          "output_type": "stream",
          "text": [
            "----------\n",
            "[12, 12, 15]\n",
            "----------\n",
            "4.4\n",
            "----------\n",
            "[10, 12]\n",
            "----------\n",
            "<class 'NoneType'>\n",
            "None\n"
          ]
        }
      ],
      "source": [
        "# functions = procedures\n",
        "# can also not return anything\n",
        "\n",
        "def show_results(results):\n",
        "    print(\"-\" * 10)\n",
        "    print(results)\n",
        "    print(\"-\" * 10)\n",
        "    \n",
        "show_results([12, 12, 15])   # writes to screen, but has no return value\n",
        "\n",
        "def distance(x1, x2):\n",
        "    return (x2 - x1) ** 2   # euclidean distance, aka. L2 norm\n",
        "    \n",
        "\n",
        "dist = distance(10, 12)\n",
        "print(dist * 1.1)  # calculated value can be stored in variable\n",
        "\n",
        "\n",
        "rtn = show_results([10, 12])\n",
        "\n",
        "print(type(rtn))\n",
        "print(rtn) # nothing is stored here, no return value"
      ]
    },
    {
      "cell_type": "markdown",
      "metadata": {
        "graffitiCellId": "id_khzovon",
        "id": "mxkFrrWRUhuD"
      },
      "source": [
        "### Exercise 2:\n",
        "define a function called :\n",
        "\n",
        "* mean: which takes three parameters and returns their mean\n",
        "* cube: which cubes its first argument\n",
        "* is_adult: which says whetehr its first argument is more than 18 \n",
        "\n",
        "\n",
        "\n",
        "* define three variables:   \n",
        "* mean_ages: which is mean of 18,18,20 \n",
        "* two_later: which is 2 cubed\n",
        "* teen_is_adult: which is whether an age of 15 is adult\n",
        "\n",
        "\n",
        "* define function show() \n",
        "* which prints the three variables above "
      ]
    },
    {
      "cell_type": "code",
      "execution_count": null,
      "metadata": {
        "graffitiCellId": "id_v0pk59z",
        "id": "Ug5GjAKwUhuE",
        "outputId": "9be8eebf-abfe-4b04-df1c-ebbe09d2aa1c"
      },
      "outputs": [
        {
          "name": "stdout",
          "output_type": "stream",
          "text": [
            "mean: 18.666666666666668\n",
            "cube: 8\n",
            "age: False\n"
          ]
        }
      ],
      "source": [
        "def mean(x, y, z):\n",
        "    return (x + y + z)/3\n",
        "\n",
        "def cube(x):\n",
        "    return x ** 3\n",
        "\n",
        "def is_adult(age):\n",
        "    return age >= 18\n",
        "\n",
        "\n",
        "def show(m, c, a):\n",
        "    print(\"mean:\", m)\n",
        "    print(\"cube:\", c)\n",
        "    print(\"age:\", a)\n",
        "    \n",
        "mean_ages = mean(18,18,20)\n",
        "two_late = cube(2)\n",
        "teen = is_adult(15)\n",
        "\n",
        "show(mean_ages, two_late, teen)"
      ]
    },
    {
      "cell_type": "markdown",
      "metadata": {
        "graffitiCellId": "id_sp7hkjb",
        "id": "c5QIbmZIUhuE"
      },
      "source": [
        "### Data Structures\n",
        "* strings - groups of characters\n",
        "* lists - ordered groups of data where each element is indexed by an int\n",
        "* sets - unordered groups of data where there is no indexing\n",
        "* tuples - uneditable (immutable) groups of data where elements are int-indexed\n",
        "* dictionaries - groups of data where indexes are chosen by you"
      ]
    },
    {
      "cell_type": "code",
      "execution_count": null,
      "metadata": {
        "graffitiCellId": "id_04v3it3",
        "id": "h51JqLHJUhuE",
        "outputId": "738c0f68-46b6-4a48-aeff-a11db17e2003"
      },
      "outputs": [
        {
          "name": "stdout",
          "output_type": "stream",
          "text": [
            "B\n",
            "e\n",
            "d\n",
            "!\n"
          ]
        }
      ],
      "source": [
        "# strings\n",
        "\n",
        "quote = \"Be the change you wish to see in the world!\"\n",
        "\n",
        "print( quote[0] )   # first\n",
        "print( quote[1] )   # second\n",
        "print( quote[-2] )  # second from last\n",
        "print( quote[-1] )  # last"
      ]
    },
    {
      "cell_type": "code",
      "execution_count": null,
      "metadata": {
        "graffitiCellId": "id_jzmhcin",
        "id": "wEItPihNUhuF",
        "outputId": "21919630-a885-4dd2-f30d-1db3b7f1054e"
      },
      "outputs": [
        {
          "name": "stdout",
          "output_type": "stream",
          "text": [
            "Be\n"
          ]
        }
      ],
      "source": [
        "print( quote[0:2] )  # zero until postn-2"
      ]
    },
    {
      "cell_type": "code",
      "execution_count": null,
      "metadata": {
        "graffitiCellId": "id_krre8vd",
        "id": "ZWxnbv-vUhuF",
        "outputId": "a4b905c0-4202-44dd-fcf6-d05cb85fb795"
      },
      "outputs": [
        {
          "name": "stdout",
          "output_type": "stream",
          "text": [
            "Be the change you wish to see in the \n"
          ]
        }
      ],
      "source": [
        "print( quote[0:-6] ) # beginning until -6th postn"
      ]
    },
    {
      "cell_type": "code",
      "execution_count": null,
      "metadata": {
        "graffitiCellId": "id_35m1h9h",
        "id": "gY86dsDXUhuH",
        "outputId": "c3904243-dad8-4818-9732-6d336f4b0011"
      },
      "outputs": [
        {
          "name": "stdout",
          "output_type": "stream",
          "text": [
            "Be the change you wish to see in the  bed\n"
          ]
        }
      ],
      "source": [
        "print( quote[0:-6]  + \" bed\" )"
      ]
    },
    {
      "cell_type": "code",
      "execution_count": null,
      "metadata": {
        "graffitiCellId": "id_9ufw90a",
        "id": "LC4p_bVJUhuH",
        "outputId": "152f770c-c80f-42cf-b0b5-6c10c9f8fa6f"
      },
      "outputs": [
        {
          "name": "stdout",
          "output_type": "stream",
          "text": [
            "Be\n",
            "world!\n"
          ]
        }
      ],
      "source": [
        "print(quote[:2])    # leave off start postn = zero\n",
        "print(quote[-6:] )  # leave off end postn = end of string"
      ]
    },
    {
      "cell_type": "code",
      "execution_count": null,
      "metadata": {
        "graffitiCellId": "id_spz8pv6",
        "id": "HxekBFKGUhuI",
        "outputId": "46c73599-c06e-41aa-efba-69e6c372515a"
      },
      "outputs": [
        {
          "name": "stdout",
          "output_type": "stream",
          "text": [
            "10\n",
            "20\n",
            "30\n",
            "(10, 20)\n",
            "('OldSt', 'London')\n"
          ]
        }
      ],
      "source": [
        "# tuple\n",
        "\n",
        "point = (10, 20, 30)\n",
        "\n",
        "print( point[0] )\n",
        "print( point[1] )\n",
        "print( point[-1] )\n",
        "\n",
        "print( point[0:2] ) #slice, as with strings\n",
        "\n",
        "# point[0] = 15 # error: not allowed to overwrite\n",
        "\n",
        "# technically, () not required...\n",
        "\n",
        "address = \"OldSt\", \"London\"\n",
        "\n",
        "print(address)"
      ]
    },
    {
      "cell_type": "code",
      "execution_count": null,
      "metadata": {
        "graffitiCellId": "id_nfns8jy",
        "id": "YFIRPBNYUhuI",
        "outputId": "2a945978-d525-465c-80be-8e6af650bdbf"
      },
      "outputs": [
        {
          "name": "stdout",
          "output_type": "stream",
          "text": [
            "[300, 1000, 'London', ('Old Street', 'London')]\n",
            "4\n",
            "('Old Street', 'London')\n",
            "2\n"
          ]
        }
      ],
      "source": [
        "# lists\n",
        "# y target customer satisfaction\n",
        "# x customer features \n",
        "# (days-since-first-purchase, total-spent, nearest-store, addresss)\n",
        "#  \n",
        "\n",
        "x = [300, 1000, \"London\", (\"Old Street\", \"London\")]\n",
        "\n",
        "print(x)\n",
        "print(len(x))\n",
        "\n",
        "print(x[-1])\n",
        "print(len(x[-1]))\n",
        "\n"
      ]
    },
    {
      "cell_type": "code",
      "execution_count": null,
      "metadata": {
        "graffitiCellId": "id_63qv26q",
        "id": "tkYt-mEhUhuJ",
        "outputId": "f1ee3ae5-f24d-4915-f9f4-abb86b2d5845"
      },
      "outputs": [
        {
          "data": {
            "text/plain": [
              "[300, 1000, 'London', ('Old Street', 'London'), 1]"
            ]
          },
          "execution_count": 24,
          "metadata": {},
          "output_type": "execute_result"
        }
      ],
      "source": [
        "x.append(1)\n",
        "x"
      ]
    },
    {
      "cell_type": "code",
      "execution_count": null,
      "metadata": {
        "graffitiCellId": "id_hrt3m6v",
        "id": "bBZUpxjpUhuJ",
        "outputId": "c39b6621-b0da-442e-c7c2-6f052375488c"
      },
      "outputs": [
        {
          "data": {
            "text/plain": [
              "1"
            ]
          },
          "execution_count": 25,
          "metadata": {},
          "output_type": "execute_result"
        }
      ],
      "source": [
        "x.pop()"
      ]
    },
    {
      "cell_type": "code",
      "execution_count": null,
      "metadata": {
        "graffitiCellId": "id_rn2pudk",
        "id": "27UoS2wPUhuJ",
        "outputId": "463ffc09-2aa8-432c-b7da-931db3e41203"
      },
      "outputs": [
        {
          "name": "stdout",
          "output_type": "stream",
          "text": [
            "[300, 1000, 'London', ('Old Street', 'London')]\n",
            "[1, 300, 1000, 'London', ('Old Street', 'London')]\n"
          ]
        }
      ],
      "source": [
        "print(x)\n",
        "x.insert(0, 1) # insert at postn 0, the element 1\n",
        "\n",
        "print(x)"
      ]
    },
    {
      "cell_type": "markdown",
      "metadata": {
        "graffitiCellId": "id_pmpnyrf",
        "id": "1h3ACT_aUhuJ"
      },
      "source": [
        "### Using Lists in Functions"
      ]
    },
    {
      "cell_type": "code",
      "execution_count": null,
      "metadata": {
        "graffitiCellId": "id_a2vvojn",
        "id": "T7K5Q6MSUhuK"
      },
      "outputs": [],
      "source": [
        "def error(y_pred, y, i):\n",
        "    return (y_pred - y[i]) ** 2"
      ]
    },
    {
      "cell_type": "code",
      "execution_count": null,
      "metadata": {
        "graffitiCellId": "id_636e5d0",
        "id": "CjVpqMp2UhuK",
        "outputId": "5b8d5688-9e1d-48fb-9383-3561763f3368"
      },
      "outputs": [
        {
          "data": {
            "text/plain": [
              "0.6399999999999997"
            ]
          },
          "execution_count": 28,
          "metadata": {},
          "output_type": "execute_result"
        }
      ],
      "source": [
        "y = [2, 3, 5, 8]\n",
        "guess = 2.2\n",
        "\n",
        "error(guess, y, 1)   #   (2.2 - 3) ** 2"
      ]
    },
    {
      "cell_type": "markdown",
      "metadata": {
        "graffitiCellId": "id_9775rav",
        "id": "2qA9NPYnUhuK"
      },
      "source": [
        "## Exericse 3:  Lists\n",
        "* define a list \"cart\" which is a shopping cart\n",
        "* add several items to it\n",
        "* print out the first, last and middle two items\n",
        "\n",
        "* insert a new item at the start\n",
        "* print the whole list"
      ]
    },
    {
      "cell_type": "markdown",
      "metadata": {
        "graffitiCellId": "id_95cpghz",
        "id": "C4L5oPVPUhuK"
      },
      "source": [
        "### Dictionaries\n",
        "* key-value data structures\n",
        "* where the keys are defined by you (generally strings)"
      ]
    },
    {
      "cell_type": "code",
      "execution_count": null,
      "metadata": {
        "graffitiCellId": "id_8d7q51m",
        "id": "9tfaHqBsUhuK",
        "outputId": "97a9624d-832d-4270-865f-da1131de0f34"
      },
      "outputs": [
        {
          "name": "stdout",
          "output_type": "stream",
          "text": [
            "kofi\n",
            "41\n",
            "uk\n"
          ]
        }
      ],
      "source": [
        "user = {\n",
        "    \"name\": \"kofi\",\n",
        "    \"age\": 41,\n",
        "    \"location\": \"uk\"\n",
        "}\n",
        "\n",
        "print(user[\"name\"])     # use string keys to look up value rather than int index\n",
        "print(user[\"age\"])\n",
        "print(user[\"location\"])"
      ]
    },
    {
      "cell_type": "code",
      "execution_count": null,
      "metadata": {
        "graffitiCellId": "id_w4qs62z",
        "id": "qUbAkBgTUhuL",
        "outputId": "e1fbe73e-6713-4728-f70c-088f3d4ddf01"
      },
      "outputs": [
        {
          "data": {
            "text/plain": [
              "'Fraud'"
            ]
          },
          "execution_count": 30,
          "metadata": {},
          "output_type": "execute_result"
        }
      ],
      "source": [
        "# data science example: labelling for Fraud|NotFraud\n",
        "# dict keys can be lots of diff. thigns, not just strings...\n",
        "# but must be unique!\n",
        "# key = (age, days-since-purchase-of-insurance)  \n",
        "user = {\n",
        "    (18, 13) : \"Fraud\",\n",
        "    (60, 300) : \"NotFraud\"\n",
        "}\n",
        "\n",
        "user[(18, 13)]"
      ]
    },
    {
      "cell_type": "code",
      "execution_count": null,
      "metadata": {
        "graffitiCellId": "id_70uhkvw",
        "id": "QDqPqJBwUhuL",
        "outputId": "f798def3-9b23-4c9c-ad0a-e27068d187cc"
      },
      "outputs": [
        {
          "data": {
            "text/plain": [
              "39.0"
            ]
          },
          "execution_count": 31,
          "metadata": {},
          "output_type": "execute_result"
        }
      ],
      "source": [
        "# dictionaries more commonly are more like matrices...\n",
        "users = {\n",
        "    \"age-at-purchase\": [18, 60],\n",
        "    \"days-from-purcahse\": [13, 300]\n",
        "}\n",
        "\n",
        "ages = users['age-at-purchase']\n",
        "\n",
        "sum(ages)/len(ages)"
      ]
    },
    {
      "cell_type": "markdown",
      "metadata": {
        "graffitiCellId": "id_c45pu5d",
        "id": "dLxe5UozUhuQ"
      },
      "source": [
        "### Control Flow"
      ]
    },
    {
      "cell_type": "code",
      "execution_count": null,
      "metadata": {
        "graffitiCellId": "id_vtsvpi9",
        "id": "z1Y0ml3GUhuQ",
        "outputId": "77517cc7-6775-4a09-d8a4-e3046a7b4aef"
      },
      "outputs": [
        {
          "name": "stdout",
          "output_type": "stream",
          "text": [
            "See Education Plans\n"
          ]
        }
      ],
      "source": [
        "user_age = 18\n",
        "\n",
        "if user_age > 65:                      # colons\n",
        "    print(\"See Retirement Plans\")      # indentation\n",
        "elif user_age > 21:                    # keyword, elif\n",
        "    print(\"See Vocation Plans\")\n",
        "elif user_age > 13:\n",
        "    print(\"See Education Plans\")\n",
        "else:\n",
        "    print(\"See your mother!\")\n",
        "    "
      ]
    },
    {
      "cell_type": "code",
      "execution_count": null,
      "metadata": {
        "graffitiCellId": "id_arffb5d",
        "id": "iCrAkDRZUhuQ",
        "outputId": "af73ed80-ebeb-4866-9f2f-bf293217c337"
      },
      "outputs": [
        {
          "name": "stdout",
          "output_type": "stream",
          "text": [
            "1\n",
            "8\n",
            "7\n",
            "6\n",
            "5\n",
            "5\n"
          ]
        }
      ],
      "source": [
        "# while loops are rare, usually bad -- repeating\n",
        "\n",
        "ratings = [5,5,6,7,8,1]\n",
        "\n",
        "while len(ratings) > 0:\n",
        "    print(ratings.pop())    # remove last one\n",
        "    \n",
        "    "
      ]
    },
    {
      "cell_type": "code",
      "execution_count": null,
      "metadata": {
        "graffitiCellId": "id_pm4zqhl",
        "id": "tp_61-mGUhuR",
        "outputId": "4099c7a3-2731-42d4-de05-4d3e91bf9c4c"
      },
      "outputs": [
        {
          "data": {
            "text/plain": [
              "[]"
            ]
          },
          "execution_count": 34,
          "metadata": {},
          "output_type": "execute_result"
        }
      ],
      "source": [
        "ratings"
      ]
    },
    {
      "cell_type": "code",
      "execution_count": null,
      "metadata": {
        "graffitiCellId": "id_8w2rtir",
        "scrolled": false,
        "id": "oxB6RTA7UhuR",
        "outputId": "449e86aa-636c-499d-9eea-43acae1a29c9"
      },
      "outputs": [
        {
          "name": "stdout",
          "output_type": "stream",
          "text": [
            "5\n",
            "5\n",
            "6\n",
            "7\n",
            "8\n",
            "1\n"
          ]
        },
        {
          "data": {
            "text/plain": [
              "[5, 5, 6, 7, 8, 1]"
            ]
          },
          "execution_count": 35,
          "metadata": {},
          "output_type": "execute_result"
        }
      ],
      "source": [
        "# for loop -- data processing loop\n",
        "\n",
        "ratings = [5,5,6,7,8,1]\n",
        "\n",
        "for element in ratings:      # for name-of-each-element  in source-data-input\n",
        "    print(element)           # algorithm for processing each-element\n",
        "    \n",
        "ratings"
      ]
    },
    {
      "cell_type": "markdown",
      "metadata": {
        "id": "1__UsgzAUhuS"
      },
      "source": [
        "## Exercise (20min)"
      ]
    },
    {
      "cell_type": "markdown",
      "metadata": {
        "id": "K0AA2BRcUhuS"
      },
      "source": [
        "(review notes)\n",
        "\n",
        "\n",
        "Your goal in this exercise is to simualte tracking health data for a user, and provide them with a custom health warning message if there are any issues with their health data. \n",
        "\n",
        "#### Part 1\n",
        "Ask the user for a single HR and BP reading. \n",
        "\n",
        "Report a warning based on where *both* of these values fall. \n",
        "\n",
        "* bad signs\n",
        "    * HR > 200 \n",
        "    * BP > 200 \n",
        "    * HR > 150, BP > 170 \n",
        "    * come up with your own conditions for the low warnings range\n",
        "\n",
        "\n",
        "#### Part 2\n",
        "Ask the user how they are feeling. Offer the user some advice on their mental health. \n",
        "\n",
        "* bad signs\n",
        "    * does the response contain \"sad\"\n",
        "    * does it end with \"!?\"\n",
        "* good signs\n",
        "    * does it contain \"happy\"\n",
        "    * does it end with \"!\""
      ]
    },
    {
      "cell_type": "markdown",
      "metadata": {
        "id": "isuDPXUAUhuS"
      },
      "source": [
        "## Solution"
      ]
    },
    {
      "cell_type": "code",
      "execution_count": null,
      "metadata": {
        "id": "Hyrehg1-UhuT",
        "outputId": "45b05ce9-62e5-420d-a7bc-2ebe165baf7f"
      },
      "outputs": [
        {
          "name": "stdout",
          "output_type": "stream",
          "text": [
            "BP?0459\n",
            "HR?4059\n",
            "WARNING\n"
          ]
        }
      ],
      "source": [
        "bp = float(input(\"BP?\"))\n",
        "hr = float(input(\"HR?\"))\n",
        "\n",
        "if (bp > 200) or (hr > 200):\n",
        "    print(\"WARNING\")\n",
        "elif (bp > 150) and (hr > 170):\n",
        "    print(\"WARNING\")\n",
        "elif (bp < 100) and (hr < 40):\n",
        "    print(\"WARNING\")\n",
        "else:\n",
        "    print(\"OK!\")"
      ]
    },
    {
      "cell_type": "code",
      "execution_count": null,
      "metadata": {
        "id": "CN5LRPmNUhuT",
        "outputId": "86fcd7b6-a755-407d-be1a-210ed3e28672"
      },
      "outputs": [
        {
          "name": "stdout",
          "output_type": "stream",
          "text": [
            "How do you feel? i'm sad\n"
          ]
        }
      ],
      "source": [
        "feeling = input(\"How do you feel? \")"
      ]
    },
    {
      "cell_type": "code",
      "execution_count": null,
      "metadata": {
        "id": "H0fHeoJ8UhuU",
        "outputId": "6fa32257-bbf2-42a8-9b03-1f135c89769a"
      },
      "outputs": [
        {
          "name": "stdout",
          "output_type": "stream",
          "text": [
            "try some exercise!\n"
          ]
        }
      ],
      "source": [
        "if (\"sad\" in feeling) or (feeling.endswith(\"!?\")):\n",
        "    print(\"try some exercise!\")\n",
        "elif (\"happy\" in feeling) or (feeling.endswith(\"!\")):\n",
        "    print(\"try relaxing\")\n",
        "else:\n",
        "    print(\"not possible to offer advice\")"
      ]
    },
    {
      "cell_type": "markdown",
      "metadata": {
        "id": "TN5OR1XiUhuV"
      },
      "source": [
        "# Analysing Datasets with `for`\n"
      ]
    },
    {
      "cell_type": "markdown",
      "metadata": {
        "id": "MDa2bXBxUhuV"
      },
      "source": [
        "When using the `for` loop we encouter the same kind of problems over and over again:\n",
        "\n",
        "* looping over multiple collections\n",
        "    * `zip()`\n",
        "* looping over a range of numbers\n",
        "    * `range()`\n",
        "* looping over a collection *and requring* the index of each element\n",
        "    * `enumerate()`\n"
      ]
    },
    {
      "cell_type": "markdown",
      "metadata": {
        "id": "lSudbamnUhuV"
      },
      "source": [
        "## How do I loop over multiple collections?"
      ]
    },
    {
      "cell_type": "markdown",
      "metadata": {
        "id": "ca62VS5-UhuV"
      },
      "source": [
        "When using a `for` loop you can only loop over *one* dataset. \n",
        "\n",
        "However, you can combine multiple datasets into one, using `zip()`.\n",
        "\n",
        "The zip() function returns a zip object, which is an iterator of tuples where the first item in each passed iterator is paired together, and then the second item in each passed iterator are paired together etc."
      ]
    },
    {
      "cell_type": "code",
      "execution_count": null,
      "metadata": {
        "id": "BxySVUBIUhuW"
      },
      "outputs": [],
      "source": [
        "hrs = [60, 70, 80]\n",
        "bps = [100, 200, 250]"
      ]
    },
    {
      "cell_type": "code",
      "execution_count": null,
      "metadata": {
        "id": "pSRqW4h6UhuW",
        "outputId": "a53d0c4d-0d97-41b0-b9e2-a2519e172cb1"
      },
      "outputs": [
        {
          "data": {
            "text/plain": [
              "[(60, 100), (70, 200), (80, 250)]"
            ]
          },
          "execution_count": 37,
          "metadata": {},
          "output_type": "execute_result"
        }
      ],
      "source": [
        "bundled = list(zip(hrs, bps))\n",
        "bundled"
      ]
    },
    {
      "cell_type": "markdown",
      "metadata": {
        "id": "iQq9uYR3UhuW"
      },
      "source": [
        "Note here that each element of `bundled` has two entires... ( `bundled` is one list )."
      ]
    },
    {
      "cell_type": "code",
      "execution_count": null,
      "metadata": {
        "id": "kJUuIqNBUhuW",
        "outputId": "bc74a6e2-1de8-40a1-a94b-f883f15a7554"
      },
      "outputs": [
        {
          "name": "stdout",
          "output_type": "stream",
          "text": [
            "60 100\n",
            "70 200\n",
            "80 250\n"
          ]
        }
      ],
      "source": [
        "for hr, bp in zip(hrs, bps):\n",
        "    print(hr, bp)"
      ]
    },
    {
      "cell_type": "markdown",
      "metadata": {
        "id": "Zfy0JEVtUhuX"
      },
      "source": [
        "...in sum, you can use `zip()` to loop over multiple lists at once. "
      ]
    },
    {
      "cell_type": "code",
      "execution_count": null,
      "metadata": {
        "id": "ibYo8r93UhuX",
        "outputId": "adfb5b49-51e9-401a-f19e-8f9886c2835a"
      },
      "outputs": [
        {
          "name": "stdout",
          "output_type": "stream",
          "text": [
            "We measured:  60 bpm\n",
            "We measured:  100 mmHg\n",
            "OK\n",
            "\n",
            "We measured:  70 bpm\n",
            "We measured:  200 mmHg\n",
            "OK\n",
            "\n",
            "We measured:  80 bpm\n",
            "We measured:  250 mmHg\n",
            "WARNING\n",
            "\n"
          ]
        }
      ],
      "source": [
        "for hr, bp in zip(hrs, bps):\n",
        "    print(\"We measured: \", hr, \"bpm\")\n",
        "    print(\"We measured: \", bp, \"mmHg\")\n",
        "    \n",
        "    if (hr > 200) or (bp > 200):\n",
        "        print(\"WARNING\")\n",
        "    else:\n",
        "        print(\"OK\")\n",
        "        \n",
        "    print() # prints an empty line"
      ]
    },
    {
      "cell_type": "markdown",
      "metadata": {
        "id": "Za1eJcA_UhuX"
      },
      "source": [
        "## How do I loop over a range of numbers?\n"
      ]
    },
    {
      "cell_type": "markdown",
      "metadata": {
        "id": "OvHpq9RrUhuX"
      },
      "source": [
        "`range` will produce numbers in the range `START` to `END` seperated by `STEP`:\n",
        "\n",
        "`range( START, END, STEP) `\n",
        "\n",
        "- start\tOptional. An integer number specifying at which position to start. Default is 0\n",
        "- stop\tRequired. An integer number specifying at which position to stop (not included).\n",
        "- step\tOptional. An integer number specifying the incrementation. Default is 1\n",
        "\n",
        "You can loop over these numbers. "
      ]
    },
    {
      "cell_type": "code",
      "execution_count": null,
      "metadata": {
        "id": "y_VDm4d-UhuY",
        "outputId": "734da240-d36c-4399-fe3a-c9b6f8703a61"
      },
      "outputs": [
        {
          "data": {
            "text/plain": [
              "[0, 20, 40, 60, 80]"
            ]
          },
          "execution_count": 40,
          "metadata": {},
          "output_type": "execute_result"
        }
      ],
      "source": [
        "list(range(0, 100, 20))"
      ]
    },
    {
      "cell_type": "code",
      "execution_count": null,
      "metadata": {
        "id": "uP8XpqP-UhuY",
        "outputId": "cdb1a854-3a88-43ad-d0b5-01a2b6f966a1"
      },
      "outputs": [
        {
          "name": "stdout",
          "output_type": "stream",
          "text": [
            "0\n",
            "20\n",
            "40\n",
            "60\n",
            "80\n"
          ]
        }
      ],
      "source": [
        "for i in range(0, 100, 20):\n",
        "    print(i)"
      ]
    },
    {
      "cell_type": "markdown",
      "metadata": {
        "id": "N7b15q74UhuY"
      },
      "source": [
        "For example we may wish to build a dataset from a range by `append`ing in a loop:"
      ]
    },
    {
      "cell_type": "code",
      "execution_count": null,
      "metadata": {
        "id": "H4vV4J7OUhuY",
        "outputId": "5679cfb4-d2b8-4828-e931-c2d36656b73c"
      },
      "outputs": [
        {
          "data": {
            "text/plain": [
              "[55.0, 64.0, 73.0, 82.0, 91.0, 100.0, 109.0, 118.0, 127.0, 136.0, 145.0, 154.0]"
            ]
          },
          "execution_count": 42,
          "metadata": {},
          "output_type": "execute_result"
        }
      ],
      "source": [
        "predicted_hr = []\n",
        "\n",
        "for hr in range(60, 180, 10):\n",
        "    predicted_hr.append(0.9 * hr + 1)\n",
        "    \n",
        "predicted_hr"
      ]
    },
    {
      "cell_type": "markdown",
      "metadata": {
        "id": "hSxhzgtRUhuZ"
      },
      "source": [
        "## How do I loop with an index?\n"
      ]
    },
    {
      "cell_type": "markdown",
      "metadata": {
        "id": "--PzDkfLUhuZ"
      },
      "source": [
        "- The `enumerate()` function takes a collection (e.g. a tuple) and returns it as an enumerate object.\n",
        "- The `enumerate()` function adds a counter as the key of the enumerate object.\n",
        "- Syntax: `enumerate(iterable, start)`\n",
        "- Parameters:\n",
        "    - iterable:\tAn iterable object\n",
        "    - start:\tA Number. Defining the start number of the enumerate object. Default 0\n"
      ]
    },
    {
      "cell_type": "code",
      "execution_count": null,
      "metadata": {
        "id": "1XOfJwXHUhuZ"
      },
      "outputs": [],
      "source": [
        "hr_readings = [70,50,60,80]"
      ]
    },
    {
      "cell_type": "code",
      "execution_count": null,
      "metadata": {
        "id": "lfExOfp0UhuZ",
        "outputId": "f14703ce-6b53-4a16-b5e2-d7ee9603b04f"
      },
      "outputs": [
        {
          "name": "stdout",
          "output_type": "stream",
          "text": [
            "70\n",
            "50\n",
            "60\n",
            "80\n"
          ]
        }
      ],
      "source": [
        "for hr in hr_readings:\n",
        "    print(hr)"
      ]
    },
    {
      "cell_type": "code",
      "execution_count": null,
      "metadata": {
        "id": "RrqWIApuUhuZ",
        "outputId": "be0cd4c0-f3e4-4219-e682-4d20d8f8cb9b"
      },
      "outputs": [
        {
          "name": "stdout",
          "output_type": "stream",
          "text": [
            "Reading 1 was 70 bpm\n",
            "Reading 2 was 50 bpm\n",
            "Reading 3 was 60 bpm\n",
            "Reading 4 was 80 bpm\n"
          ]
        }
      ],
      "source": [
        "for i, hr in enumerate(hr_readings):\n",
        "    print(f\"Reading {i + 1} was {hr} bpm\")"
      ]
    },
    {
      "cell_type": "markdown",
      "metadata": {
        "id": "dz5vS3nbUhuZ"
      },
      "source": [
        "## What more should I be aware of with looping in python?"
      ]
    },
    {
      "cell_type": "markdown",
      "metadata": {
        "id": "nn5Nbg4pUhua"
      },
      "source": [
        "The basic `for` loop can do almost everything you need. But, as above, helpers like `zip()`, `range()`, `enumerate()` exist to make looping easier. \n",
        "\n",
        "There is also:\n",
        "* `sorted()`\n",
        "* `reversed()`\n",
        "* ... \n",
        "\n",
        "For this course we are aiming to basic looping patterns, but these are worth further study. "
      ]
    },
    {
      "cell_type": "markdown",
      "metadata": {
        "graffitiCellId": "id_7ephlpc",
        "id": "LXHxDyrHUhua"
      },
      "source": [
        "### Type Conversions"
      ]
    },
    {
      "cell_type": "code",
      "execution_count": null,
      "metadata": {
        "graffitiCellId": "id_5mhu108",
        "id": "u0IK7P98Uhua",
        "outputId": "1ed4c517-61a7-410b-d50d-abce5ac91abe"
      },
      "outputs": [
        {
          "name": "stdout",
          "output_type": "stream",
          "text": [
            "range(0, 10)\n"
          ]
        }
      ],
      "source": [
        "# iterators -- like data structures, but whole data not stored...\n",
        "\n",
        "ten = range(0, 10)\n",
        "\n",
        "print(ten)"
      ]
    },
    {
      "cell_type": "code",
      "execution_count": null,
      "metadata": {
        "graffitiCellId": "id_uhyla2h",
        "id": "sPGN4SH5Uhua",
        "outputId": "9f47fa03-3a4e-4637-c194-ffa00edc092c"
      },
      "outputs": [
        {
          "name": "stdout",
          "output_type": "stream",
          "text": [
            "0\n",
            "1\n",
            "2\n",
            "3\n",
            "4\n",
            "5\n",
            "6\n",
            "7\n",
            "8\n",
            "9\n"
          ]
        }
      ],
      "source": [
        "for i in ten:      # the range gives a number each go around\n",
        "    print(i)"
      ]
    },
    {
      "cell_type": "code",
      "execution_count": null,
      "metadata": {
        "graffitiCellId": "id_2qlzbr9",
        "id": "9iKQ412WUhua",
        "outputId": "5347aed7-5aec-4943-b7fa-730fbabcb9a5"
      },
      "outputs": [
        {
          "data": {
            "text/plain": [
              "[0, 1, 2, 3, 4, 5, 6, 7, 8, 9]"
            ]
          },
          "execution_count": 48,
          "metadata": {},
          "output_type": "execute_result"
        }
      ],
      "source": [
        "numbers = list(ten) # collects all data from ten into list, which stores all in memory\n",
        "\n",
        "numbers"
      ]
    },
    {
      "cell_type": "code",
      "execution_count": null,
      "metadata": {
        "graffitiCellId": "id_xxmsji6",
        "id": "KHT9YmA4Uhub",
        "outputId": "a26663db-d719-4da6-f526-a262159814d3"
      },
      "outputs": [
        {
          "ename": "TypeError",
          "evalue": "'<' not supported between instances of 'str' and 'int'",
          "output_type": "error",
          "traceback": [
            "\u001b[0;31m---------------------------------------------------------------------------\u001b[0m",
            "\u001b[0;31mTypeError\u001b[0m                                 Traceback (most recent call last)",
            "\u001b[0;32m<ipython-input-49-387956351189>\u001b[0m in \u001b[0;36m<module>\u001b[0;34m\u001b[0m\n\u001b[1;32m      1\u001b[0m \u001b[0mage\u001b[0m \u001b[0;34m=\u001b[0m \u001b[0;34m\"18\"\u001b[0m\u001b[0;34m\u001b[0m\u001b[0;34m\u001b[0m\u001b[0m\n\u001b[1;32m      2\u001b[0m \u001b[0;34m\u001b[0m\u001b[0m\n\u001b[0;32m----> 3\u001b[0;31m \u001b[0mage\u001b[0m \u001b[0;34m<\u001b[0m \u001b[0;36m20\u001b[0m\u001b[0;34m\u001b[0m\u001b[0;34m\u001b[0m\u001b[0m\n\u001b[0m",
            "\u001b[0;31mTypeError\u001b[0m: '<' not supported between instances of 'str' and 'int'"
          ]
        }
      ],
      "source": [
        "age = \"18\"\n",
        "\n",
        "age < 20"
      ]
    },
    {
      "cell_type": "code",
      "execution_count": null,
      "metadata": {
        "graffitiCellId": "id_70xhoie",
        "id": "LsR2TXnmUhub",
        "outputId": "3f8fbc1a-22ce-4192-f94f-54e74677bef0"
      },
      "outputs": [
        {
          "data": {
            "text/plain": [
              "True"
            ]
          },
          "execution_count": 50,
          "metadata": {},
          "output_type": "execute_result"
        }
      ],
      "source": [
        "int(age) < 20"
      ]
    },
    {
      "cell_type": "code",
      "execution_count": null,
      "metadata": {
        "graffitiCellId": "id_assptqz",
        "id": "OuQNMtDFUhub",
        "outputId": "e83c7618-4b43-4474-adbc-a92e289d021d"
      },
      "outputs": [
        {
          "data": {
            "text/plain": [
              "'55'"
            ]
          },
          "execution_count": 51,
          "metadata": {},
          "output_type": "execute_result"
        }
      ],
      "source": [
        "str(5) * 2  # \"5\" * 2"
      ]
    },
    {
      "cell_type": "code",
      "execution_count": null,
      "metadata": {
        "graffitiCellId": "id_fovcpad",
        "id": "luaLLgZtUhub",
        "outputId": "f37957ac-abee-4ea3-9457-71b433406d63"
      },
      "outputs": [
        {
          "data": {
            "text/plain": [
              "{'name': 'Michael', 'age': 29}"
            ]
          },
          "execution_count": 52,
          "metadata": {},
          "output_type": "execute_result"
        }
      ],
      "source": [
        "dict( [ (\"name\", \"Michael\"), (\"age\", 29 )])"
      ]
    }
  ],
  "metadata": {
    "celltoolbar": "Slideshow",
    "graffiti": {
      "firstAuthorId": "dev",
      "id": "id_o268vaa",
      "language": "EN"
    },
    "kernelspec": {
      "display_name": "Python 3",
      "language": "python",
      "name": "python3"
    },
    "language_info": {
      "codemirror_mode": {
        "name": "ipython",
        "version": 3
      },
      "file_extension": ".py",
      "mimetype": "text/x-python",
      "name": "python",
      "nbconvert_exporter": "python",
      "pygments_lexer": "ipython3",
      "version": "3.7.4"
    },
    "colab": {
      "name": "03 - Python-Fundamentals.ipynb",
      "provenance": [],
      "include_colab_link": true
    }
  },
  "nbformat": 4,
  "nbformat_minor": 0
}