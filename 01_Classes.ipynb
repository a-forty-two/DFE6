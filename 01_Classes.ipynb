{
  "nbformat": 4,
  "nbformat_minor": 0,
  "metadata": {
    "colab": {
      "name": "01 Classes.ipynb",
      "provenance": [],
      "collapsed_sections": [],
      "authorship_tag": "ABX9TyN82JMt9S5jTuUX6D5rpOo+",
      "include_colab_link": true
    },
    "kernelspec": {
      "name": "python3",
      "display_name": "Python 3"
    },
    "language_info": {
      "name": "python"
    }
  },
  "cells": [
    {
      "cell_type": "markdown",
      "metadata": {
        "id": "view-in-github",
        "colab_type": "text"
      },
      "source": [
        "<a href=\"https://colab.research.google.com/github/a-forty-two/DFE6/blob/main/01_Classes.ipynb\" target=\"_parent\"><img src=\"https://colab.research.google.com/assets/colab-badge.svg\" alt=\"Open In Colab\"/></a>"
      ]
    },
    {
      "cell_type": "code",
      "source": [
        "# Geographic point-> lati, long\n",
        "# a,b -> remember 2 names; operate on 2 names\n",
        "# CLASS \n",
        "\n",
        "# functional-> functions\n",
        "# how to do things\n",
        "# 1. Switch on the fan _ def fan_on():\n",
        "# 2. change the speed def change_speed():\n",
        "# 3. switch off the fan def fan_off():\n",
        "\n",
        "# Objected oriented-> classes \n",
        "# IDENTIFY-> NOUN, VERBS\n",
        "# CLASS FAN-> can perform 3 functions\n",
        "# class Fan:\n",
        "# def switch_on, change_speed, switch_off\n",
        "# Fan f1; f1.on(). "
      ],
      "metadata": {
        "id": "fzRpp1jktqAF"
      },
      "execution_count": null,
      "outputs": []
    },
    {
      "cell_type": "code",
      "execution_count": 3,
      "metadata": {
        "id": "IDCEKDW7nrFw"
      },
      "outputs": [],
      "source": [
        "# OBJECTS\n",
        "class Human:\n",
        "  def speak(this):\n",
        "    print('bye bye')\n",
        "  def jump(this):\n",
        "    return \"i jumped. Bye bye.\"\n",
        "  def eat(this, food):\n",
        "    return food-1"
      ]
    },
    {
      "cell_type": "code",
      "source": [
        "# linear sequence\n",
        "# Fibonacci\n",
        "# -1 1\n",
        "# 0 - first\n",
        "# 1 \n",
        "# 1, 2, 3, 5, 8, 13......."
      ],
      "metadata": {
        "id": "HTDX4AQNouEX"
      },
      "execution_count": 4,
      "outputs": []
    },
    {
      "cell_type": "code",
      "source": [
        "class Printer:\n",
        "  def hello(self):\n",
        "    print(\"hello world\")\n",
        "  def bye(self, randomtext):\n",
        "    print(randomtext)"
      ],
      "metadata": {
        "id": "PA2_DXftsB87"
      },
      "execution_count": 5,
      "outputs": []
    },
    {
      "cell_type": "code",
      "source": [
        "myprinter = Printer()\n",
        "myprinter.hello()"
      ],
      "metadata": {
        "colab": {
          "base_uri": "https://localhost:8080/"
        },
        "id": "Dtl4WzjWvNm4",
        "outputId": "5d7a9f13-fbee-4b72-ebf9-8c28fd0ce150"
      },
      "execution_count": 7,
      "outputs": [
        {
          "output_type": "stream",
          "name": "stdout",
          "text": [
            "hello world\n"
          ]
        }
      ]
    },
    {
      "cell_type": "code",
      "source": [
        "myprinter.bye(\"tada\")"
      ],
      "metadata": {
        "colab": {
          "base_uri": "https://localhost:8080/"
        },
        "id": "55BNt7XfvQqO",
        "outputId": "a7a12279-7779-4535-f410-36add1125d67"
      },
      "execution_count": 8,
      "outputs": [
        {
          "output_type": "stream",
          "name": "stdout",
          "text": [
            "tada\n"
          ]
        }
      ]
    },
    {
      "cell_type": "code",
      "source": [
        "#Human-> 1 nose\n",
        "# 3 noses;\n",
        "class Human:\n",
        "  def __init__(self): # called automatically \n",
        "    self.noseCount = 1\n",
        "    self.tailCount = 0\n",
        "  def getLimbCount(self):\n",
        "    print('Nose count = ' + str(self.noseCount))\n",
        "    print('Tail count = ' + str(self.tailCount))"
      ],
      "metadata": {
        "id": "uFgp6XVwvf29"
      },
      "execution_count": 11,
      "outputs": []
    },
    {
      "cell_type": "code",
      "source": [
        "john = Human()\n"
      ],
      "metadata": {
        "id": "FWOHd0WHww3J"
      },
      "execution_count": 12,
      "outputs": []
    },
    {
      "cell_type": "code",
      "source": [
        "print(dir(john))"
      ],
      "metadata": {
        "colab": {
          "base_uri": "https://localhost:8080/"
        },
        "id": "laWYwPh6w60S",
        "outputId": "195e00b1-1c71-41db-87ba-c95ecb0a6c6c"
      },
      "execution_count": 14,
      "outputs": [
        {
          "output_type": "stream",
          "name": "stdout",
          "text": [
            "['__class__', '__delattr__', '__dict__', '__dir__', '__doc__', '__eq__', '__format__', '__ge__', '__getattribute__', '__gt__', '__hash__', '__init__', '__init_subclass__', '__le__', '__lt__', '__module__', '__ne__', '__new__', '__reduce__', '__reduce_ex__', '__repr__', '__setattr__', '__sizeof__', '__str__', '__subclasshook__', '__weakref__', 'getLimbCount', 'noseCount', 'tailCount']\n"
          ]
        }
      ]
    },
    {
      "cell_type": "code",
      "source": [
        "john.getLimbCount()"
      ],
      "metadata": {
        "colab": {
          "base_uri": "https://localhost:8080/"
        },
        "id": "yld7TSVyxHI7",
        "outputId": "0bbaccc4-c000-4c66-ea69-2c71a7bbc9a0"
      },
      "execution_count": 15,
      "outputs": [
        {
          "output_type": "stream",
          "name": "stdout",
          "text": [
            "Nose count = 1\n",
            "Tail count = 0\n"
          ]
        }
      ]
    },
    {
      "cell_type": "code",
      "source": [
        "%%writefile script.py\n",
        "class LinearSeries:\n",
        "  def __iter__(self):\n",
        "    self.num = 1 # starting point\n",
        "    return self\n",
        "  def __next__(self):\n",
        "    self.num = self.num + 1 # how to calculate the next element\n",
        "    return self.num"
      ],
      "metadata": {
        "colab": {
          "base_uri": "https://localhost:8080/"
        },
        "id": "yJfWCgJk64QN",
        "outputId": "6b18b497-49ed-435f-bdb3-f77f77d2d1d6"
      },
      "execution_count": 24,
      "outputs": [
        {
          "output_type": "stream",
          "name": "stdout",
          "text": [
            "Writing script.py\n"
          ]
        }
      ]
    },
    {
      "cell_type": "code",
      "source": [
        "# Iterators\n",
        "class LinearSeries:\n",
        "  def __iter__(self):\n",
        "    self.num = 0 # starting point\n",
        "    return self\n",
        "  def __next__(self):\n",
        "    self.num = self.num + 1 # how to calculate the next element\n",
        "    return self.num"
      ],
      "metadata": {
        "id": "bFvs7-WXxxDC"
      },
      "execution_count": 23,
      "outputs": []
    },
    {
      "cell_type": "code",
      "source": [
        "%%writefile -a script.py\n",
        "myseries = LinearSeries()\n",
        "randompointer = iter(myseries)\n",
        "# the starting point of series"
      ],
      "metadata": {
        "colab": {
          "base_uri": "https://localhost:8080/"
        },
        "id": "B6biagZl5KwW",
        "outputId": "f87f1578-8f46-469c-c247-b7c1540eb401"
      },
      "execution_count": 25,
      "outputs": [
        {
          "output_type": "stream",
          "name": "stdout",
          "text": [
            "Appending to script.py\n"
          ]
        }
      ]
    },
    {
      "cell_type": "code",
      "source": [
        "next(randompointer)"
      ],
      "metadata": {
        "colab": {
          "base_uri": "https://localhost:8080/"
        },
        "id": "uLAAA2Ol5UrW",
        "outputId": "c7bdb124-d9bd-4368-9d73-faf3c439585c"
      },
      "execution_count": 18,
      "outputs": [
        {
          "output_type": "execute_result",
          "data": {
            "text/plain": [
              "1"
            ]
          },
          "metadata": {},
          "execution_count": 18
        }
      ]
    },
    {
      "cell_type": "code",
      "source": [
        "next(randompointer)"
      ],
      "metadata": {
        "colab": {
          "base_uri": "https://localhost:8080/"
        },
        "id": "qqDydAqJ5XZE",
        "outputId": "56ed4411-95d5-49dd-9ec1-b80ee06a1bc5"
      },
      "execution_count": 19,
      "outputs": [
        {
          "output_type": "execute_result",
          "data": {
            "text/plain": [
              "2"
            ]
          },
          "metadata": {},
          "execution_count": 19
        }
      ]
    },
    {
      "cell_type": "code",
      "source": [
        "next(randompointer)"
      ],
      "metadata": {
        "colab": {
          "base_uri": "https://localhost:8080/"
        },
        "id": "1xEGW-zt5bKx",
        "outputId": "9eb94463-0c64-4c36-e7ee-04f57b4830b7"
      },
      "execution_count": 20,
      "outputs": [
        {
          "output_type": "execute_result",
          "data": {
            "text/plain": [
              "3"
            ]
          },
          "metadata": {},
          "execution_count": 20
        }
      ]
    },
    {
      "cell_type": "code",
      "source": [
        "for i in range(10):\n",
        "  print(next(randompointer))"
      ],
      "metadata": {
        "colab": {
          "base_uri": "https://localhost:8080/"
        },
        "id": "EdzGiT-55blm",
        "outputId": "0bbe996c-90f3-4557-9267-fbd623939c08"
      },
      "execution_count": 26,
      "outputs": [
        {
          "output_type": "stream",
          "name": "stdout",
          "text": [
            "Appending to script.py\n"
          ]
        }
      ]
    },
    {
      "cell_type": "code",
      "source": [
        "# Website-> COlab,...notebook, VS, Anaconda\n",
        "# front end\n"
      ],
      "metadata": {
        "id": "gx4swVY35o3x"
      },
      "execution_count": 27,
      "outputs": []
    },
    {
      "cell_type": "code",
      "source": [
        "# every_element = sum of previous two elements\n",
        "class Fibonacci:\n",
        "  def __iter__(self):\n",
        "    self.first = -1\n",
        "    self.second = 1\n",
        "    return self\n",
        "  def __next__(self):\n",
        "    self.third = self.first + self.second\n",
        "    self.first = self.second\n",
        "    self.second = self.third\n",
        "    return self.third\n",
        "    # -1 + 1 = 0\n",
        "    # next-> +1 + 0\n"
      ],
      "metadata": {
        "id": "uhHP5OeJ77lj"
      },
      "execution_count": 28,
      "outputs": []
    },
    {
      "cell_type": "code",
      "source": [
        "myseries = Fibonacci()\n",
        "mynums = iter(myseries)\n",
        "for i in range(10):\n",
        "  print(next(mynums))"
      ],
      "metadata": {
        "colab": {
          "base_uri": "https://localhost:8080/"
        },
        "id": "oCqsBKjJ9Wsv",
        "outputId": "26e0f3c1-c605-4413-b53b-ad514710c93f"
      },
      "execution_count": 32,
      "outputs": [
        {
          "output_type": "stream",
          "name": "stdout",
          "text": [
            "0\n",
            "1\n",
            "1\n",
            "2\n",
            "3\n",
            "5\n",
            "8\n",
            "13\n",
            "21\n",
            "34\n"
          ]
        }
      ]
    },
    {
      "cell_type": "code",
      "source": [
        "# first second third\n",
        "# -1      1       0\n",
        "# 1       0       1\n",
        "#. 0      1       1\n",
        "# 1        1      2\n",
        "#. ...."
      ],
      "metadata": {
        "id": "gOqdqvJ_86p0"
      },
      "execution_count": null,
      "outputs": []
    },
    {
      "cell_type": "code",
      "source": [
        "# 1 4 9 16 25 36 ..... \n",
        "class SquaredList:\n",
        "  def __iter__(self):\n",
        "    self.base = 1\n",
        "    return self\n",
        "  def __next__(self):\n",
        "    self.square = self.base * self.base\n",
        "    self.base = self.base + 1\n",
        "    return self.square"
      ],
      "metadata": {
        "id": "YI2WDvcxUJZQ"
      },
      "execution_count": 1,
      "outputs": []
    },
    {
      "cell_type": "code",
      "source": [
        "mylist = SquaredList()\n",
        "i = iter(mylist)\n",
        "for j in range(10):\n",
        "  print(next(i))"
      ],
      "metadata": {
        "colab": {
          "base_uri": "https://localhost:8080/"
        },
        "id": "YcqUI5VyUysJ",
        "outputId": "fe27af7b-ec43-431e-802a-001fdedc6450"
      },
      "execution_count": 2,
      "outputs": [
        {
          "output_type": "stream",
          "name": "stdout",
          "text": [
            "1\n",
            "4\n",
            "9\n",
            "16\n",
            "25\n",
            "36\n",
            "49\n",
            "64\n",
            "81\n",
            "100\n"
          ]
        }
      ]
    },
    {
      "cell_type": "code",
      "source": [
        "# I own sheeps. I have a blue, pink, green and a black sheep. \n",
        "# Sheep say baa baa. Sheperd who cried wolf. \n"
      ],
      "metadata": {
        "id": "hXrJv1VqU8qS"
      },
      "execution_count": 3,
      "outputs": []
    },
    {
      "cell_type": "code",
      "source": [
        "# N-> Sheep, Sheperd \n",
        "# N-N: Sheep has a color; VARIABLE needed in __init__ or __iter__\n",
        "# N-V: Sheep says 'baa baa'; FUNCTION !\n",
        "# N-V: Sheperd cried wolf;\n"
      ],
      "metadata": {
        "id": "LeV4ZdTFVTHT"
      },
      "execution_count": 4,
      "outputs": []
    },
    {
      "cell_type": "code",
      "source": [
        "class Sheep:\n",
        "  def __init__(self, colour='white'):\n",
        "    self.localcolour = colour\n",
        "    self.defaultSound = 'baa baa'\n",
        "  def makeSound(self):\n",
        "    print(self.defaultSound)\n",
        "\n"
      ],
      "metadata": {
        "id": "9SrJQPArVpPW"
      },
      "execution_count": 8,
      "outputs": []
    },
    {
      "cell_type": "code",
      "source": [
        "class Sheperd:\n",
        "  def __init__(self):\n",
        "    self.defaultSound = 'wolf! WOLF!'\n",
        "  def makeSound(self):\n",
        "    print(self.defaultSound)\n",
        "  "
      ],
      "metadata": {
        "id": "KaiUhlskWoYg"
      },
      "execution_count": 9,
      "outputs": []
    },
    {
      "cell_type": "code",
      "source": [
        "# I am trying to sell cars. Cars can be blue or green. Cars have speed\n",
        "# and weight. \n",
        "# cars can go left or right. \n",
        "# cars can honk. \n",
        "\n",
        "\n",
        "\n"
      ],
      "metadata": {
        "id": "-BTN7NmNW2Q5"
      },
      "execution_count": null,
      "outputs": []
    }
  ]
}