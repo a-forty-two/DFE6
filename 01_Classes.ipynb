{
  "nbformat": 4,
  "nbformat_minor": 0,
  "metadata": {
    "colab": {
      "name": "01 Classes.ipynb",
      "provenance": [],
      "collapsed_sections": [],
      "authorship_tag": "ABX9TyMjDAMse6faIUMXPzsa75r5",
      "include_colab_link": true
    },
    "kernelspec": {
      "name": "python3",
      "display_name": "Python 3"
    },
    "language_info": {
      "name": "python"
    }
  },
  "cells": [
    {
      "cell_type": "markdown",
      "metadata": {
        "id": "view-in-github",
        "colab_type": "text"
      },
      "source": [
        "<a href=\"https://colab.research.google.com/github/a-forty-two/DFE6/blob/main/01_Classes.ipynb\" target=\"_parent\"><img src=\"https://colab.research.google.com/assets/colab-badge.svg\" alt=\"Open In Colab\"/></a>"
      ]
    },
    {
      "cell_type": "code",
      "source": [
        "# Geographic point-> lati, long\n",
        "# a,b -> remember 2 names; operate on 2 names\n",
        "# CLASS \n",
        "\n",
        "# functional-> functions\n",
        "# how to do things\n",
        "# 1. Switch on the fan _ def fan_on():\n",
        "# 2. change the speed def change_speed():\n",
        "# 3. switch off the fan def fan_off():\n",
        "\n",
        "# Objected oriented-> classes \n",
        "# IDENTIFY-> NOUN, VERBS\n",
        "# CLASS FAN-> can perform 3 functions\n",
        "# class Fan:\n",
        "# def switch_on, change_speed, switch_off\n",
        "# Fan f1; f1.on(). "
      ],
      "metadata": {
        "id": "fzRpp1jktqAF"
      },
      "execution_count": null,
      "outputs": []
    },
    {
      "cell_type": "code",
      "execution_count": 3,
      "metadata": {
        "id": "IDCEKDW7nrFw"
      },
      "outputs": [],
      "source": [
        "# OBJECTS\n",
        "class Human:\n",
        "  def speak(this):\n",
        "    print('bye bye')\n",
        "  def jump(this):\n",
        "    return \"i jumped. Bye bye.\"\n",
        "  def eat(this, food):\n",
        "    return food-1"
      ]
    },
    {
      "cell_type": "code",
      "source": [
        "# linear sequence\n",
        "# Fibonacci\n",
        "# -1 1\n",
        "# 0 - first\n",
        "# 1 \n",
        "# 1, 2, 3, 5, 8, 13......."
      ],
      "metadata": {
        "id": "HTDX4AQNouEX"
      },
      "execution_count": 4,
      "outputs": []
    },
    {
      "cell_type": "code",
      "source": [
        "class Printer:\n",
        "  def hello(self):\n",
        "    print(\"hello world\")\n",
        "  def bye(self, randomtext):\n",
        "    print(randomtext)"
      ],
      "metadata": {
        "id": "PA2_DXftsB87"
      },
      "execution_count": 5,
      "outputs": []
    },
    {
      "cell_type": "code",
      "source": [
        "myprinter = Printer()\n",
        "myprinter.hello()"
      ],
      "metadata": {
        "colab": {
          "base_uri": "https://localhost:8080/"
        },
        "id": "Dtl4WzjWvNm4",
        "outputId": "5d7a9f13-fbee-4b72-ebf9-8c28fd0ce150"
      },
      "execution_count": 7,
      "outputs": [
        {
          "output_type": "stream",
          "name": "stdout",
          "text": [
            "hello world\n"
          ]
        }
      ]
    },
    {
      "cell_type": "code",
      "source": [
        "myprinter.bye(\"tada\")"
      ],
      "metadata": {
        "colab": {
          "base_uri": "https://localhost:8080/"
        },
        "id": "55BNt7XfvQqO",
        "outputId": "a7a12279-7779-4535-f410-36add1125d67"
      },
      "execution_count": 8,
      "outputs": [
        {
          "output_type": "stream",
          "name": "stdout",
          "text": [
            "tada\n"
          ]
        }
      ]
    },
    {
      "cell_type": "code",
      "source": [
        "#Human-> 1 nose\n",
        "# 3 noses;\n",
        "class Human:\n",
        "  def __init__(self): # called automatically \n",
        "    self.noseCount = 1\n",
        "    self.tailCount = 0\n",
        "  def getLimbCount(self):\n",
        "    print('Nose count = ' + str(self.noseCount))\n",
        "    print('Tail count = ' + str(self.tailCount))"
      ],
      "metadata": {
        "id": "uFgp6XVwvf29"
      },
      "execution_count": 11,
      "outputs": []
    },
    {
      "cell_type": "code",
      "source": [
        "john = Human()\n"
      ],
      "metadata": {
        "id": "FWOHd0WHww3J"
      },
      "execution_count": 12,
      "outputs": []
    },
    {
      "cell_type": "code",
      "source": [
        "print(dir(john))"
      ],
      "metadata": {
        "colab": {
          "base_uri": "https://localhost:8080/"
        },
        "id": "laWYwPh6w60S",
        "outputId": "195e00b1-1c71-41db-87ba-c95ecb0a6c6c"
      },
      "execution_count": 14,
      "outputs": [
        {
          "output_type": "stream",
          "name": "stdout",
          "text": [
            "['__class__', '__delattr__', '__dict__', '__dir__', '__doc__', '__eq__', '__format__', '__ge__', '__getattribute__', '__gt__', '__hash__', '__init__', '__init_subclass__', '__le__', '__lt__', '__module__', '__ne__', '__new__', '__reduce__', '__reduce_ex__', '__repr__', '__setattr__', '__sizeof__', '__str__', '__subclasshook__', '__weakref__', 'getLimbCount', 'noseCount', 'tailCount']\n"
          ]
        }
      ]
    },
    {
      "cell_type": "code",
      "source": [
        "john.getLimbCount()"
      ],
      "metadata": {
        "colab": {
          "base_uri": "https://localhost:8080/"
        },
        "id": "yld7TSVyxHI7",
        "outputId": "0bbaccc4-c000-4c66-ea69-2c71a7bbc9a0"
      },
      "execution_count": 15,
      "outputs": [
        {
          "output_type": "stream",
          "name": "stdout",
          "text": [
            "Nose count = 1\n",
            "Tail count = 0\n"
          ]
        }
      ]
    },
    {
      "cell_type": "code",
      "source": [
        "%%writefile script.py\n",
        "class LinearSeries:\n",
        "  def __iter__(self):\n",
        "    self.num = 1 # starting point\n",
        "    return self\n",
        "  def __next__(self):\n",
        "    self.num = self.num + 1 # how to calculate the next element\n",
        "    return self.num"
      ],
      "metadata": {
        "colab": {
          "base_uri": "https://localhost:8080/"
        },
        "id": "yJfWCgJk64QN",
        "outputId": "6b18b497-49ed-435f-bdb3-f77f77d2d1d6"
      },
      "execution_count": 24,
      "outputs": [
        {
          "output_type": "stream",
          "name": "stdout",
          "text": [
            "Writing script.py\n"
          ]
        }
      ]
    },
    {
      "cell_type": "code",
      "source": [
        "# Iterators\n",
        "class LinearSeries:\n",
        "  def __iter__(self):\n",
        "    self.num = 0 # starting point\n",
        "    return self\n",
        "  def __next__(self):\n",
        "    self.num = self.num + 1 # how to calculate the next element\n",
        "    return self.num"
      ],
      "metadata": {
        "id": "bFvs7-WXxxDC"
      },
      "execution_count": 23,
      "outputs": []
    },
    {
      "cell_type": "code",
      "source": [
        "%%writefile -a script.py\n",
        "myseries = LinearSeries()\n",
        "randompointer = iter(myseries)\n",
        "# the starting point of series"
      ],
      "metadata": {
        "colab": {
          "base_uri": "https://localhost:8080/"
        },
        "id": "B6biagZl5KwW",
        "outputId": "f87f1578-8f46-469c-c247-b7c1540eb401"
      },
      "execution_count": 25,
      "outputs": [
        {
          "output_type": "stream",
          "name": "stdout",
          "text": [
            "Appending to script.py\n"
          ]
        }
      ]
    },
    {
      "cell_type": "code",
      "source": [
        "next(randompointer)"
      ],
      "metadata": {
        "colab": {
          "base_uri": "https://localhost:8080/"
        },
        "id": "uLAAA2Ol5UrW",
        "outputId": "c7bdb124-d9bd-4368-9d73-faf3c439585c"
      },
      "execution_count": 18,
      "outputs": [
        {
          "output_type": "execute_result",
          "data": {
            "text/plain": [
              "1"
            ]
          },
          "metadata": {},
          "execution_count": 18
        }
      ]
    },
    {
      "cell_type": "code",
      "source": [
        "next(randompointer)"
      ],
      "metadata": {
        "colab": {
          "base_uri": "https://localhost:8080/"
        },
        "id": "qqDydAqJ5XZE",
        "outputId": "56ed4411-95d5-49dd-9ec1-b80ee06a1bc5"
      },
      "execution_count": 19,
      "outputs": [
        {
          "output_type": "execute_result",
          "data": {
            "text/plain": [
              "2"
            ]
          },
          "metadata": {},
          "execution_count": 19
        }
      ]
    },
    {
      "cell_type": "code",
      "source": [
        "next(randompointer)"
      ],
      "metadata": {
        "colab": {
          "base_uri": "https://localhost:8080/"
        },
        "id": "1xEGW-zt5bKx",
        "outputId": "9eb94463-0c64-4c36-e7ee-04f57b4830b7"
      },
      "execution_count": 20,
      "outputs": [
        {
          "output_type": "execute_result",
          "data": {
            "text/plain": [
              "3"
            ]
          },
          "metadata": {},
          "execution_count": 20
        }
      ]
    },
    {
      "cell_type": "code",
      "source": [
        "for i in range(10):\n",
        "  print(next(randompointer))"
      ],
      "metadata": {
        "colab": {
          "base_uri": "https://localhost:8080/"
        },
        "id": "EdzGiT-55blm",
        "outputId": "0bbe996c-90f3-4557-9267-fbd623939c08"
      },
      "execution_count": 26,
      "outputs": [
        {
          "output_type": "stream",
          "name": "stdout",
          "text": [
            "Appending to script.py\n"
          ]
        }
      ]
    },
    {
      "cell_type": "code",
      "source": [
        "# Website-> COlab,...notebook, VS, Anaconda\n",
        "# front end\n"
      ],
      "metadata": {
        "id": "gx4swVY35o3x"
      },
      "execution_count": 27,
      "outputs": []
    },
    {
      "cell_type": "code",
      "source": [
        "# every_element = sum of previous two elements\n",
        "class Fibonacci:\n",
        "  def __iter__(self):\n",
        "    self.first = -1\n",
        "    self.second = 1\n",
        "    return self\n",
        "  def __next__(self):\n",
        "    self.third = self.first + self.second\n",
        "    self.first = self.second\n",
        "    self.second = self.third\n",
        "    return self.third\n",
        "    # -1 + 1 = 0\n",
        "    # next-> +1 + 0\n"
      ],
      "metadata": {
        "id": "uhHP5OeJ77lj"
      },
      "execution_count": 28,
      "outputs": []
    },
    {
      "cell_type": "code",
      "source": [
        "myseries = Fibonacci()\n",
        "mynums = iter(myseries)\n",
        "for i in range(10):\n",
        "  print(next(mynums))"
      ],
      "metadata": {
        "colab": {
          "base_uri": "https://localhost:8080/"
        },
        "id": "oCqsBKjJ9Wsv",
        "outputId": "26e0f3c1-c605-4413-b53b-ad514710c93f"
      },
      "execution_count": 32,
      "outputs": [
        {
          "output_type": "stream",
          "name": "stdout",
          "text": [
            "0\n",
            "1\n",
            "1\n",
            "2\n",
            "3\n",
            "5\n",
            "8\n",
            "13\n",
            "21\n",
            "34\n"
          ]
        }
      ]
    },
    {
      "cell_type": "code",
      "source": [
        "# first second third\n",
        "# -1      1       0\n",
        "# 1       0       1\n",
        "#. 0      1       1\n",
        "# 1        1      2\n",
        "#. ...."
      ],
      "metadata": {
        "id": "gOqdqvJ_86p0"
      },
      "execution_count": null,
      "outputs": []
    },
    {
      "cell_type": "code",
      "source": [
        "# 1 4 9 16 25 36 ..... \n",
        "class SquaredList:\n",
        "  def __iter__(self):\n",
        "    self.base = 1\n",
        "    return self\n",
        "  def __next__(self):\n",
        "    self.square = self.base * self.base\n",
        "    self.base = self.base + 1\n",
        "    return self.square"
      ],
      "metadata": {
        "id": "YI2WDvcxUJZQ"
      },
      "execution_count": 1,
      "outputs": []
    },
    {
      "cell_type": "code",
      "source": [
        "mylist = SquaredList()\n",
        "i = iter(mylist)\n",
        "for j in range(10):\n",
        "  print(next(i))"
      ],
      "metadata": {
        "colab": {
          "base_uri": "https://localhost:8080/"
        },
        "id": "YcqUI5VyUysJ",
        "outputId": "fe27af7b-ec43-431e-802a-001fdedc6450"
      },
      "execution_count": 2,
      "outputs": [
        {
          "output_type": "stream",
          "name": "stdout",
          "text": [
            "1\n",
            "4\n",
            "9\n",
            "16\n",
            "25\n",
            "36\n",
            "49\n",
            "64\n",
            "81\n",
            "100\n"
          ]
        }
      ]
    },
    {
      "cell_type": "code",
      "source": [
        "# I own sheeps. I have a blue, pink, green and a black sheep. \n",
        "# Sheep say baa baa. Sheperd who cried wolf. \n"
      ],
      "metadata": {
        "id": "hXrJv1VqU8qS"
      },
      "execution_count": 3,
      "outputs": []
    },
    {
      "cell_type": "code",
      "source": [
        "# N-> Sheep, Sheperd \n",
        "# N-N: Sheep has a color; VARIABLE needed in __init__ or __iter__\n",
        "# N-V: Sheep says 'baa baa'; FUNCTION !\n",
        "# N-V: Sheperd cried wolf;\n"
      ],
      "metadata": {
        "id": "LeV4ZdTFVTHT"
      },
      "execution_count": 4,
      "outputs": []
    },
    {
      "cell_type": "code",
      "source": [
        "class Sheep:\n",
        "  def __init__(self, colour='white'):\n",
        "    self.localcolour = colour\n",
        "    self.defaultSound = 'baa baa'\n",
        "  def makeSound(self):\n",
        "    print(self.defaultSound)\n",
        "\n"
      ],
      "metadata": {
        "id": "9SrJQPArVpPW"
      },
      "execution_count": 8,
      "outputs": []
    },
    {
      "cell_type": "code",
      "source": [
        "class Sheperd:\n",
        "  def __init__(self):\n",
        "    self.defaultSound = 'wolf! WOLF!'\n",
        "  def makeSound(self):\n",
        "    print(self.defaultSound)\n",
        "  "
      ],
      "metadata": {
        "id": "KaiUhlskWoYg"
      },
      "execution_count": 9,
      "outputs": []
    },
    {
      "cell_type": "code",
      "source": [
        "# I am trying to sell cars. Cars can be blue or green. Cars have speed\n",
        "# and weight. \n",
        "# cars can go left or right. \n",
        "# cars can honk. \n",
        "\n",
        "# Objects/Actors-> Me + Car\n",
        "# I-> sell cars\n",
        "# Car\n",
        "# properties: color- blue or green , speed, weight\n",
        "# can do: go left or right\n",
        "\n"
      ],
      "metadata": {
        "id": "-BTN7NmNW2Q5"
      },
      "execution_count": null,
      "outputs": []
    },
    {
      "cell_type": "code",
      "source": [
        "import random\n",
        "class Car:\n",
        "  def __init__(self, color):\n",
        "    if(color == 'blue' or color=='green'):\n",
        "      self.color = color\n",
        "      self.speed = int(random.random()*100)\n",
        "      self.weight = int(random.random()*10000)\n",
        "    else:\n",
        "      print('Sorry, not acceptable, sending you a blue one anyway!')\n",
        "      self.color = 'blue'\n",
        "  def goLeft(self):\n",
        "    print('Went Left!')\n",
        "  def goRight(self):\n",
        "    print('Went Right!')\n"
      ],
      "metadata": {
        "id": "TBFeeojQZRyt"
      },
      "execution_count": 25,
      "outputs": []
    },
    {
      "cell_type": "code",
      "source": [
        "import random\n",
        "class CarSalesman:\n",
        "  def tryToSellCar(self, money):\n",
        "    if(money<=0):\n",
        "      print('See you tomorrow.')\n",
        "      return \n",
        "    if(money<1000):\n",
        "      print('Did you try rickshaw instead?')\n",
        "      return \n",
        "    \n",
        "    mychance = int(random.random()*100) %2 # remainder-> either 0 or 1\n",
        "    if(mychance == 0):\n",
        "      print('Failed to sell car')\n",
        "      return \n",
        "    if(mychance == 1):\n",
        "      color = input(\"What's your fav color?\")\n",
        "      randomcar = Car(color)\n",
        "      return randomcar"
      ],
      "metadata": {
        "id": "lHGBkYrBvZEe"
      },
      "execution_count": 19,
      "outputs": []
    },
    {
      "cell_type": "code",
      "source": [
        "shantanu = CarSalesman()\n",
        "result = shantanu.tryToSellCar()"
      ],
      "metadata": {
        "colab": {
          "base_uri": "https://localhost:8080/"
        },
        "id": "bZoBWh6gv1t4",
        "outputId": "afbeb239-e542-4dd6-b50a-9f2eadff2378"
      },
      "execution_count": 21,
      "outputs": [
        {
          "output_type": "stream",
          "name": "stdout",
          "text": [
            "What's your fav color?orange\n",
            "Sorry, not acceptable, sending you a blue one anyway!\n"
          ]
        }
      ]
    },
    {
      "cell_type": "code",
      "source": [
        "result"
      ],
      "metadata": {
        "colab": {
          "base_uri": "https://localhost:8080/"
        },
        "id": "HR2Pmx59v202",
        "outputId": "d1ce229d-b492-44a3-dbfa-5a04596796d2"
      },
      "execution_count": 22,
      "outputs": [
        {
          "output_type": "execute_result",
          "data": {
            "text/plain": [
              "<__main__.Car at 0x7f215a8fb6d0>"
            ]
          },
          "metadata": {},
          "execution_count": 22
        }
      ]
    },
    {
      "cell_type": "code",
      "source": [
        "dir(result)"
      ],
      "metadata": {
        "colab": {
          "base_uri": "https://localhost:8080/"
        },
        "id": "3DnEiJtfxcwE",
        "outputId": "1b706e9d-9538-49c2-f976-9969c74f287c"
      },
      "execution_count": 23,
      "outputs": [
        {
          "output_type": "execute_result",
          "data": {
            "text/plain": [
              "['__class__',\n",
              " '__delattr__',\n",
              " '__dict__',\n",
              " '__dir__',\n",
              " '__doc__',\n",
              " '__eq__',\n",
              " '__format__',\n",
              " '__ge__',\n",
              " '__getattribute__',\n",
              " '__gt__',\n",
              " '__hash__',\n",
              " '__init__',\n",
              " '__init_subclass__',\n",
              " '__le__',\n",
              " '__lt__',\n",
              " '__module__',\n",
              " '__ne__',\n",
              " '__new__',\n",
              " '__reduce__',\n",
              " '__reduce_ex__',\n",
              " '__repr__',\n",
              " '__setattr__',\n",
              " '__sizeof__',\n",
              " '__str__',\n",
              " '__subclasshook__',\n",
              " '__weakref__',\n",
              " 'color',\n",
              " 'goLeft',\n",
              " 'goRight']"
            ]
          },
          "metadata": {},
          "execution_count": 23
        }
      ]
    },
    {
      "cell_type": "code",
      "source": [
        "result.goLeft()"
      ],
      "metadata": {
        "colab": {
          "base_uri": "https://localhost:8080/"
        },
        "id": "jj9mv20TxfDo",
        "outputId": "3c3b9808-9aa8-42e8-c959-6a6754c11ce4"
      },
      "execution_count": 24,
      "outputs": [
        {
          "output_type": "stream",
          "name": "stdout",
          "text": [
            "Went Left!\n"
          ]
        }
      ]
    },
    {
      "cell_type": "code",
      "source": [
        "#OBJECT -> anything\n",
        "# class defines an object\n",
        "# class ABC() # ABC is the class\n",
        "# bcd = ABC() # bcd is the object"
      ],
      "metadata": {
        "id": "OyuLvRl_xkk7"
      },
      "execution_count": 26,
      "outputs": []
    },
    {
      "cell_type": "code",
      "source": [
        "import random\n",
        "class Person:\n",
        "  def __init__(self, empID, career=None):\n",
        "    self.age = int(random.random()*100)\n",
        "    self.employeeID = empID\n",
        "    self.career = career\n",
        "  def doSomething(self):\n",
        "    print('Tell that to someone else')\n"
      ],
      "metadata": {
        "id": "AJJ_e1v10LpZ"
      },
      "execution_count": 40,
      "outputs": []
    },
    {
      "cell_type": "code",
      "source": [
        "class EmployeeGenerator:\n",
        "  def __iter__(self):\n",
        "    self.careers = ['Cop', 'Thief', 'Teacher', 'Doctor']\n",
        "    self.employeeID = 1\n",
        "    return self\n",
        "  def __next__(self):\n",
        "    randomCareerIndex = int(random.random()*100)%4\n",
        "    randomCareer = self.careers[randomCareerIndex]\n",
        "    self.newEmployee = Person(self.employeeID, randomCareer)\n",
        "    self.employeeID = self.employeeID+1\n",
        "    return self.newEmployee\n"
      ],
      "metadata": {
        "id": "1LYjMJnM0Xke"
      },
      "execution_count": 45,
      "outputs": []
    },
    {
      "cell_type": "code",
      "source": [
        "hr = EmployeeGenerator()"
      ],
      "metadata": {
        "id": "0oTslXLf2LmY"
      },
      "execution_count": 46,
      "outputs": []
    },
    {
      "cell_type": "code",
      "source": [
        "manager = iter(hr)"
      ],
      "metadata": {
        "id": "TswrsAx_2PRt"
      },
      "execution_count": 47,
      "outputs": []
    },
    {
      "cell_type": "code",
      "source": [
        "# Hire 10 employees!\n",
        "for empCount in range(10):\n",
        "  currentemp = next(manager) # generate a new Employee!\n",
        "  print(currentemp.employeeID)\n",
        "  print(currentemp.career)\n",
        "  print('*****')"
      ],
      "metadata": {
        "colab": {
          "base_uri": "https://localhost:8080/"
        },
        "id": "TyGHDYDm2SII",
        "outputId": "5aa24484-02ef-4174-a335-91c2312b45dd"
      },
      "execution_count": 48,
      "outputs": [
        {
          "output_type": "stream",
          "name": "stdout",
          "text": [
            "1\n",
            "Thief\n",
            "*****\n",
            "2\n",
            "Thief\n",
            "*****\n",
            "3\n",
            "Teacher\n",
            "*****\n",
            "4\n",
            "Doctor\n",
            "*****\n",
            "5\n",
            "Cop\n",
            "*****\n",
            "6\n",
            "Thief\n",
            "*****\n",
            "7\n",
            "Cop\n",
            "*****\n",
            "8\n",
            "Cop\n",
            "*****\n",
            "9\n",
            "Doctor\n",
            "*****\n",
            "10\n",
            "Teacher\n",
            "*****\n"
          ]
        }
      ]
    },
    {
      "cell_type": "code",
      "source": [
        ""
      ],
      "metadata": {
        "id": "hw1utNx_2dJx"
      },
      "execution_count": null,
      "outputs": []
    }
  ]
}