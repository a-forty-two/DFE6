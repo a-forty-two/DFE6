{
  "cells": [
    {
      "cell_type": "markdown",
      "metadata": {
        "id": "view-in-github",
        "colab_type": "text"
      },
      "source": [
        "<a href=\"https://colab.research.google.com/github/a-forty-two/DFE6/blob/main/Choosing_the_right_estimator_Enhanced.ipynb\" target=\"_parent\"><img src=\"https://colab.research.google.com/assets/colab-badge.svg\" alt=\"Open In Colab\"/></a>"
      ]
    },
    {
      "cell_type": "markdown",
      "metadata": {
        "id": "b-MeKKMs55WA"
      },
      "source": [
        "# Practical Machine Learning \n",
        "### Project: Model Selection"
      ]
    },
    {
      "cell_type": "markdown",
      "metadata": {
        "id": "FEge15Hl55WD"
      },
      "source": [
        "# Abstract"
      ]
    },
    {
      "cell_type": "markdown",
      "metadata": {
        "id": "rmJJOdz955WE"
      },
      "source": [
        "# Part 1: Business and Data Understanding"
      ]
    },
    {
      "cell_type": "markdown",
      "metadata": {
        "id": "K_EWcKs255WG"
      },
      "source": [
        "### Q. Identify a suitable dataset for your canditate question(s)"
      ]
    },
    {
      "cell_type": "markdown",
      "metadata": {
        "id": "NA2qaEL155WH"
      },
      "source": [
        "Go have a look at any of these websites:\n",
        "\n",
        "* https://www.kaggle.com/datasets \n",
        "* https://datasetsearch.research.google.com/\n",
        "* https://data.gov.uk/\n",
        "\n",
        "Find an interesting looking data set related to your problem domain and get a copy of it\n"
      ]
    },
    {
      "cell_type": "code",
      "execution_count": null,
      "metadata": {
        "id": "HuoWXO_Q55WH"
      },
      "outputs": [],
      "source": [
        "# read data and .head()\n",
        "# ASSUME- data.csv from BCA (cancer analysis)"
      ]
    },
    {
      "cell_type": "markdown",
      "metadata": {
        "id": "t6sxB-Op55WF"
      },
      "source": [
        "### Q. Define the problem domain"
      ]
    },
    {
      "cell_type": "code",
      "execution_count": null,
      "metadata": {
        "id": "KGICUusQ55WF"
      },
      "outputs": [],
      "source": [
        "# ENGLISH not Python\n",
        "# Diagnosis is an ideal label column because it is the result\n",
        "# useful for a doctor to speed up the diagnosis process. "
      ]
    },
    {
      "cell_type": "markdown",
      "metadata": {
        "id": "PasUNESl55WG"
      },
      "source": [
        "### Q. Identify candidate questions for your machine learning project"
      ]
    },
    {
      "cell_type": "code",
      "execution_count": null,
      "metadata": {
        "id": "MgdRmrtq55WG"
      },
      "outputs": [],
      "source": [
        "# value_counts\n",
        "# discrete or continuous numbers\n",
        "# what is label, what columns should be evaluated to become \n",
        "# features, Dimensions, Variables\n",
        "# \n",
        "# can i use the dataset as-is or does it need cleaning?\n",
        "\n"
      ]
    },
    {
      "cell_type": "markdown",
      "metadata": {
        "id": "zsCo6Gmf55WH"
      },
      "source": [
        "### Q. Generate a descriptive statistics report for the columns in your dataset"
      ]
    },
    {
      "cell_type": "code",
      "execution_count": null,
      "metadata": {
        "id": "1uvJKQH755WH"
      },
      "outputs": [],
      "source": [
        "# data.describe().T"
      ]
    },
    {
      "cell_type": "markdown",
      "metadata": {
        "id": "toYhhJ4v55WI"
      },
      "source": [
        "# Part 2: Data Preparation"
      ]
    },
    {
      "cell_type": "markdown",
      "metadata": {
        "id": "zUDh9O2T55WI"
      },
      "source": [
        "### Q. Discuss the following types of missing data and how they would be handled in reference to your dataset where applicable.\n",
        "*\tMissing completely at random (MCAR)\n",
        "*\tMissing at random (MAR)\n",
        "*\tMissing Not at Random (MNAR)"
      ]
    },
    {
      "cell_type": "code",
      "execution_count": null,
      "metadata": {
        "id": "u0IiUxwR55WI"
      },
      "outputs": [],
      "source": [
        "data.info()"
      ]
    },
    {
      "cell_type": "markdown",
      "source": [
        "Q. Is there any correlation in the data? How would you decide which columns to keep?"
      ],
      "metadata": {
        "id": "Z-_eDG2e_C2W"
      }
    },
    {
      "cell_type": "code",
      "source": [
        "# SEABORN and data.corr() to plot a heatmap\n",
        "# Github-> DFE6"
      ],
      "metadata": {
        "id": "_eRjAQ6u_CHm"
      },
      "execution_count": null,
      "outputs": []
    },
    {
      "cell_type": "markdown",
      "source": [
        "Q. Is there any imbalance in the label\n",
        "?"
      ],
      "metadata": {
        "id": "EUIqah7h_LAW"
      }
    },
    {
      "cell_type": "code",
      "source": [
        "# LABEL COLUMN-> Y/value you want to predict\n",
        "# diagnosis column from bca\n",
        "data['diagnosis'].value_counts()\n",
        "# Cat = 100, Parrot= 50, Ant= 5\n",
        "# either no action action required or just del extra rows!\n",
        "\n",
        "# if one class is less than quarter of the other class,\n",
        "# the data is imbalanced!\n",
        "#\n",
        "# Regression- NO ACTION REQUIRED. \n",
        "# Classification (LABEL/Y) - Diagnosis\n",
        "# 1) Del some of the rows of the larger dataset \n",
        "# 2) OR generate FAKE/SIMULATED data \n",
        "# 3) Ignore if you want to take a leap of faith in the model"
      ],
      "metadata": {
        "id": "puZaHYIU_Pif"
      },
      "execution_count": null,
      "outputs": []
    },
    {
      "cell_type": "markdown",
      "source": [
        "Q. Are there any outliers in the dataset? What do you do with them?"
      ],
      "metadata": {
        "id": "v9gQBGnZ_QiC"
      }
    },
    {
      "cell_type": "code",
      "source": [
        "# OPTIONAL\n",
        "# Z-Score\n",
        "# check for values >3 and <-3\n",
        "# What do i do with them?\n",
        "# 1) Remove them \n",
        "# 2) replace all >3 with max, <-3 with min\n",
        "# 3) Ignore\n",
        "\n",
        "# Detecting Frauds, Anomalies "
      ],
      "metadata": {
        "id": "qKUVWPJq_fTq"
      },
      "execution_count": null,
      "outputs": []
    },
    {
      "cell_type": "markdown",
      "source": [
        "Q. Are there any strings in the features that need to be converted to integers? Do you select One-Hot encoding or Label Encoding?"
      ],
      "metadata": {
        "id": "v3SRFiXRAzzu"
      }
    },
    {
      "cell_type": "code",
      "source": [
        "# if you are not sure, do label ENCODING\n",
        "# unique_values = data['diagnosis'].value_counts()\n",
        "# Form a dictionary of the unique values!\n",
        "# encoding_funk = lambda x : dictionary[x]\n",
        "# data['my_string_column'] = data['my_string_column'].apply(encoding_funk)"
      ],
      "metadata": {
        "id": "feWeqNtzOTWv"
      },
      "execution_count": null,
      "outputs": []
    },
    {
      "cell_type": "code",
      "source": [
        "# One hot encoding-> pandas-> get_dummies \n",
        "\n",
        "# data['diagnosis'] - get_dummies\n",
        "\n",
        "\n",
        "# if there are too many values-> one-hot encoding is NOT an option\n",
        "\n",
        "# GROUP_BY on ZIP_code or country or state!\n",
        "# or del that column altogether!\n",
        "\n",
        "# One Hot encoding\n",
        "\n",
        "# Sales City Profit\n",
        "#  100.  London  20\n",
        "#. 100.  Papua.  60\n",
        "#  123.  London. 21\n",
        "#. 65.   Paris.  13\n",
        "#. 92.   Bandar Seri Begawan 22\n",
        "\n",
        "# 2 kinds of ML problems- \n",
        "# 1) i can use city as a filter and generate multiple models\n",
        "# one for each city\n",
        "\n",
        "# 2) Or make a model that is GENERALIZED for each city and impacted\n",
        "# equally by each city\n",
        "\n",
        "# result of one hot encoding\n",
        "# Sales City_London City_Papua City_Paris City_BSB Profit\n",
        "#  100.  1            0         0          0          20\n",
        "#. 100.  0            1         0           0      .  60\n",
        "#  123.  1.            0         0          0         21\n",
        "#. 65.   0             0         1          0      .  13\n",
        "#. 92.   0            0          0          1         22\n",
        "\n",
        "\n",
        "\n",
        "\n",
        "# final ml equation\n",
        "# profit -> label\n",
        "# features-> [ 'Sales', 'Cit....']\n",
        "# profit=w1*Sales+w2*C_Lon+w3*C_Pap+w4*C_Par+w5*City_BSB + bias\n",
        "\n",
        "# Sales from london\n",
        "# 20=w1*100 + w2*1+ w3*0+ w4*0+ w5*0 + bias\n",
        "# 21=w1*123 + w2*1+ w3*0+ w4*0+ w5*0 + bias"
      ],
      "metadata": {
        "id": "3qLuwfTDAzbf"
      },
      "execution_count": null,
      "outputs": []
    },
    {
      "cell_type": "markdown",
      "source": [
        "Q. Split the data for TRAINING and SCORING (testing). OPTIONAL: Discuss what problems could happen we have poor distribution b/w training and testing?"
      ],
      "metadata": {
        "id": "TxPO0Ch5Pv3F"
      }
    },
    {
      "cell_type": "code",
      "source": [
        "# from sklearn.model_selection import train_test_split\n",
        "# xtrain,xtest,ytrain,ytest = train_test_split(x, y,\n",
        "#                             test_size=0.2, random_state=42)"
      ],
      "metadata": {
        "id": "W1XMipDDMiCG"
      },
      "execution_count": null,
      "outputs": []
    },
    {
      "cell_type": "markdown",
      "metadata": {
        "id": "s5jKhdFd55WJ"
      },
      "source": [
        "# Part 3: Model Selection"
      ]
    },
    {
      "cell_type": "markdown",
      "metadata": {
        "id": "bosw1yWg55WJ"
      },
      "source": [
        "### Q. Use the cheat sheet below to choose the algorithm/estimator suitable for building a model to address your candidate question(s)\n",
        "\n",
        "* https://scikit-learn.org/stable/tutorial/machine_learning_map/"
      ]
    },
    {
      "cell_type": "code",
      "source": [
        "# for loop b/w all your models\n",
        "\n",
        "# xtrain,xtest, ytrain,ytest = train_test_split\n",
        "\n",
        "# model.fit-> xTRAIN , xTEST\n",
        "# predictions = model.predict(xtest)\n",
        "# accuracy_score/rmse/mae/precision for (predictions, ytest)\n",
        "\n",
        "# MAJOR-> string/ranges values-> convert into numbers\n"
      ],
      "metadata": {
        "id": "39bauCNWR2ve"
      },
      "execution_count": null,
      "outputs": []
    },
    {
      "cell_type": "markdown",
      "metadata": {
        "id": "6SK8nej055WJ"
      },
      "source": [
        ""
      ]
    },
    {
      "cell_type": "markdown",
      "metadata": {
        "id": "gB-pblb255WJ"
      },
      "source": [
        "# Part 4: Model Evaluation"
      ]
    },
    {
      "cell_type": "markdown",
      "metadata": {
        "id": "w231rWpm55WK"
      },
      "source": [
        "### Q. Identify which of the statistical measures below are suitable for the evaluation of your model.\n",
        "\n",
        "Classification Metrics:\n",
        "* Accuracy\n",
        "* Precision\n",
        "* Recall\n",
        "* F1 Score\n",
        "\n",
        "Regression Metrics:\n",
        "    \n",
        "* Mean absolute error (MAE)\n",
        "* Root mean squared error (RMSE)\n",
        "* Relative absolute error (RAE)\n",
        "* Relative squared error (RSE)\n",
        "* Mean Zero One Error (MZOE)\n",
        "* Coefficient of determination\n",
        "\n",
        " "
      ]
    },
    {
      "cell_type": "code",
      "execution_count": null,
      "metadata": {
        "id": "MKlEwnam55WK"
      },
      "outputs": [],
      "source": [
        ""
      ]
    },
    {
      "cell_type": "markdown",
      "metadata": {
        "id": "V_GR5s4K55WK"
      },
      "source": [
        "# Part 5: Stretch - Model Deployment"
      ]
    },
    {
      "cell_type": "markdown",
      "metadata": {
        "id": "0g_JJnoh55WL"
      },
      "source": [
        "### Q. Evaluate the open-source app framework for Machine Learning model deployment below in your own time.\n",
        "\n",
        "* https://streamlit.io/"
      ]
    },
    {
      "cell_type": "code",
      "execution_count": null,
      "metadata": {
        "id": "ghIEovDv55WL"
      },
      "outputs": [],
      "source": [
        "# EXPORT your model and upload to azure\n",
        "# deploy to Azure Container Instance\n",
        "# after 20-30 mins, consume tab will appear in your ENDPOINT\n",
        "# and then paste the PYTHON code below!"
      ]
    },
    {
      "cell_type": "code",
      "source": [
        ""
      ],
      "metadata": {
        "id": "mS9l7kc09sse"
      },
      "execution_count": null,
      "outputs": []
    }
  ],
  "metadata": {
    "kernelspec": {
      "display_name": "Python 3",
      "language": "python",
      "name": "python3"
    },
    "language_info": {
      "codemirror_mode": {
        "name": "ipython",
        "version": 3
      },
      "file_extension": ".py",
      "mimetype": "text/x-python",
      "name": "python",
      "nbconvert_exporter": "python",
      "pygments_lexer": "ipython3",
      "version": "3.7.4"
    },
    "colab": {
      "name": "Choosing the right estimator Enhanced.ipynb",
      "provenance": [],
      "include_colab_link": true
    }
  },
  "nbformat": 4,
  "nbformat_minor": 0
}