{
 "cells": [
  {
   "cell_type": "markdown",
   "metadata": {
    "id": "b-MeKKMs55WA"
   },
   "source": [
    "# Practical Machine Learning \n",
    "### Project: Model Selection"
   ]
  },
  {
   "cell_type": "markdown",
   "metadata": {
    "id": "FEge15Hl55WD"
   },
   "source": [
    "# Abstract"
   ]
  },
  {
   "cell_type": "markdown",
   "metadata": {
    "id": "rmJJOdz955WE"
   },
   "source": [
    "# Part 1: Business and Data Understanding"
   ]
  },
  {
   "cell_type": "markdown",
   "metadata": {
    "id": "K_EWcKs255WG"
   },
   "source": [
    "### Q. Identify a suitable dataset for your canditate question(s)"
   ]
  },
  {
   "cell_type": "markdown",
   "metadata": {
    "id": "NA2qaEL155WH"
   },
   "source": [
    "Go have a look at any of these websites:\n",
    "\n",
    "* https://www.kaggle.com/datasets \n",
    "* https://datasetsearch.research.google.com/\n",
    "* https://data.gov.uk/\n",
    "\n",
    "Find an interesting looking data set related to your problem domain and get a copy of it\n"
   ]
  },
  {
   "cell_type": "code",
   "execution_count": 34,
   "metadata": {
    "id": "HuoWXO_Q55WH"
   },
   "outputs": [
    {
     "data": {
      "text/html": [
       "<div>\n",
       "<style scoped>\n",
       "    .dataframe tbody tr th:only-of-type {\n",
       "        vertical-align: middle;\n",
       "    }\n",
       "\n",
       "    .dataframe tbody tr th {\n",
       "        vertical-align: top;\n",
       "    }\n",
       "\n",
       "    .dataframe thead th {\n",
       "        text-align: right;\n",
       "    }\n",
       "</style>\n",
       "<table border=\"1\" class=\"dataframe\">\n",
       "  <thead>\n",
       "    <tr style=\"text-align: right;\">\n",
       "      <th></th>\n",
       "      <th>Type</th>\n",
       "      <th>Date</th>\n",
       "      <th>Part of a policing operation</th>\n",
       "      <th>Policing operation</th>\n",
       "      <th>Latitude</th>\n",
       "      <th>Longitude</th>\n",
       "      <th>Gender</th>\n",
       "      <th>Age range</th>\n",
       "      <th>Self-defined ethnicity</th>\n",
       "      <th>Officer-defined ethnicity</th>\n",
       "      <th>Legislation</th>\n",
       "      <th>Object of search</th>\n",
       "      <th>Outcome</th>\n",
       "      <th>Outcome linked to object of search</th>\n",
       "      <th>Removal of more than just outer clothing</th>\n",
       "    </tr>\n",
       "  </thead>\n",
       "  <tbody>\n",
       "    <tr>\n",
       "      <th>0</th>\n",
       "      <td>Person search</td>\n",
       "      <td>2016-10-01T13:16:00+00:00</td>\n",
       "      <td>None</td>\n",
       "      <td>None</td>\n",
       "      <td>None</td>\n",
       "      <td>None</td>\n",
       "      <td>Male</td>\n",
       "      <td>18-24</td>\n",
       "      <td>Black or Black British - African (B2)</td>\n",
       "      <td>White</td>\n",
       "      <td>Misuse of Drugs Act 1971 (section 23)</td>\n",
       "      <td>Controlled drugs</td>\n",
       "      <td>Offender given drugs possession warning</td>\n",
       "      <td>True</td>\n",
       "      <td>False</td>\n",
       "    </tr>\n",
       "    <tr>\n",
       "      <th>1</th>\n",
       "      <td>Person search</td>\n",
       "      <td>2016-10-01T22:30:00+00:00</td>\n",
       "      <td>None</td>\n",
       "      <td>None</td>\n",
       "      <td>None</td>\n",
       "      <td>None</td>\n",
       "      <td>Male</td>\n",
       "      <td>25-34</td>\n",
       "      <td>White - Any other White ethnic background (W9)</td>\n",
       "      <td>White</td>\n",
       "      <td>Misuse of Drugs Act 1971 (section 23)</td>\n",
       "      <td>Controlled drugs</td>\n",
       "      <td>Nothing found - no further action</td>\n",
       "      <td>None</td>\n",
       "      <td>False</td>\n",
       "    </tr>\n",
       "    <tr>\n",
       "      <th>2</th>\n",
       "      <td>Person and Vehicle search</td>\n",
       "      <td>2016-10-02T00:15:00+00:00</td>\n",
       "      <td>None</td>\n",
       "      <td>None</td>\n",
       "      <td>None</td>\n",
       "      <td>None</td>\n",
       "      <td>Male</td>\n",
       "      <td>18-24</td>\n",
       "      <td>Black or Black British - African (B2)</td>\n",
       "      <td>Black</td>\n",
       "      <td>Misuse of Drugs Act 1971 (section 23)</td>\n",
       "      <td>Controlled drugs</td>\n",
       "      <td>Suspect summonsed to court</td>\n",
       "      <td>False</td>\n",
       "      <td>False</td>\n",
       "    </tr>\n",
       "    <tr>\n",
       "      <th>3</th>\n",
       "      <td>Person and Vehicle search</td>\n",
       "      <td>2016-10-02T00:15:00+00:00</td>\n",
       "      <td>None</td>\n",
       "      <td>None</td>\n",
       "      <td>None</td>\n",
       "      <td>None</td>\n",
       "      <td>Female</td>\n",
       "      <td>18-24</td>\n",
       "      <td>Black or Black British - African (B2)</td>\n",
       "      <td>Black</td>\n",
       "      <td>Misuse of Drugs Act 1971 (section 23)</td>\n",
       "      <td>Controlled drugs</td>\n",
       "      <td>Nothing found - no further action</td>\n",
       "      <td>None</td>\n",
       "      <td>False</td>\n",
       "    </tr>\n",
       "    <tr>\n",
       "      <th>4</th>\n",
       "      <td>Person and Vehicle search</td>\n",
       "      <td>2016-10-04T13:05:00+00:00</td>\n",
       "      <td>None</td>\n",
       "      <td>None</td>\n",
       "      <td>None</td>\n",
       "      <td>None</td>\n",
       "      <td>Male</td>\n",
       "      <td>18-24</td>\n",
       "      <td>White - Any other White ethnic background (W9)</td>\n",
       "      <td>White</td>\n",
       "      <td>Misuse of Drugs Act 1971 (section 23)</td>\n",
       "      <td>Controlled drugs</td>\n",
       "      <td>Suspect arrested</td>\n",
       "      <td>True</td>\n",
       "      <td>False</td>\n",
       "    </tr>\n",
       "  </tbody>\n",
       "</table>\n",
       "</div>"
      ],
      "text/plain": [
       "                        Type                       Date  \\\n",
       "0              Person search  2016-10-01T13:16:00+00:00   \n",
       "1              Person search  2016-10-01T22:30:00+00:00   \n",
       "2  Person and Vehicle search  2016-10-02T00:15:00+00:00   \n",
       "3  Person and Vehicle search  2016-10-02T00:15:00+00:00   \n",
       "4  Person and Vehicle search  2016-10-04T13:05:00+00:00   \n",
       "\n",
       "  Part of a policing operation Policing operation Latitude Longitude  Gender  \\\n",
       "0                         None               None     None      None    Male   \n",
       "1                         None               None     None      None    Male   \n",
       "2                         None               None     None      None    Male   \n",
       "3                         None               None     None      None  Female   \n",
       "4                         None               None     None      None    Male   \n",
       "\n",
       "  Age range                          Self-defined ethnicity  \\\n",
       "0     18-24           Black or Black British - African (B2)   \n",
       "1     25-34  White - Any other White ethnic background (W9)   \n",
       "2     18-24           Black or Black British - African (B2)   \n",
       "3     18-24           Black or Black British - African (B2)   \n",
       "4     18-24  White - Any other White ethnic background (W9)   \n",
       "\n",
       "  Officer-defined ethnicity                            Legislation  \\\n",
       "0                     White  Misuse of Drugs Act 1971 (section 23)   \n",
       "1                     White  Misuse of Drugs Act 1971 (section 23)   \n",
       "2                     Black  Misuse of Drugs Act 1971 (section 23)   \n",
       "3                     Black  Misuse of Drugs Act 1971 (section 23)   \n",
       "4                     White  Misuse of Drugs Act 1971 (section 23)   \n",
       "\n",
       "   Object of search                                  Outcome  \\\n",
       "0  Controlled drugs  Offender given drugs possession warning   \n",
       "1  Controlled drugs        Nothing found - no further action   \n",
       "2  Controlled drugs               Suspect summonsed to court   \n",
       "3  Controlled drugs        Nothing found - no further action   \n",
       "4  Controlled drugs                         Suspect arrested   \n",
       "\n",
       "  Outcome linked to object of search Removal of more than just outer clothing  \n",
       "0                               True                                    False  \n",
       "1                               None                                    False  \n",
       "2                              False                                    False  \n",
       "3                               None                                    False  \n",
       "4                               True                                    False  "
      ]
     },
     "execution_count": 34,
     "metadata": {},
     "output_type": "execute_result"
    }
   ],
   "source": [
    "# azureml-core of version 1.0.72 or higher is required\n",
    "# azureml-dataprep[pandas] of version 1.1.34 or higher is required\n",
    "from azureml.core import Workspace, Dataset\n",
    "\n",
    "subscription_id = 'c88e53c1-d877-470d-97fe-39cf4a13610e'\n",
    "resource_group = 'potato'\n",
    "workspace_name = 'tomato'\n",
    "\n",
    "workspace = Workspace(subscription_id, resource_group, workspace_name)\n",
    "\n",
    "dataset = Dataset.get_by_name(workspace, name='police-stop-search')\n",
    "df = dataset.to_pandas_dataframe()\n",
    "df.head()"
   ]
  },
  {
   "cell_type": "markdown",
   "metadata": {
    "id": "t6sxB-Op55WF"
   },
   "source": [
    "### Q. Define the problem domain"
   ]
  },
  {
   "cell_type": "code",
   "execution_count": null,
   "metadata": {
    "id": "KGICUusQ55WF"
   },
   "outputs": [],
   "source": [
    "# ENGLISH not Python\n",
    "# Diagnosis is an ideal label column because it is the result\n",
    "# useful for a doctor to speed up the diagnosis process. "
   ]
  },
  {
   "cell_type": "markdown",
   "metadata": {
    "id": "PasUNESl55WG"
   },
   "source": [
    "### Q. Identify candidate questions for your machine learning project"
   ]
  },
  {
   "cell_type": "code",
   "execution_count": null,
   "metadata": {
    "id": "MgdRmrtq55WG"
   },
   "outputs": [],
   "source": [
    "# value_counts\n",
    "# discrete or continuous numbers\n",
    "# what is label, what columns should be evaluated to become \n",
    "# features, Dimensions, Variables\n",
    "# \n",
    "# can i use the dataset as-is or does it need cleaning?\n",
    "\n"
   ]
  },
  {
   "cell_type": "markdown",
   "metadata": {
    "id": "zsCo6Gmf55WH"
   },
   "source": [
    "### Q. Generate a descriptive statistics report for the columns in your dataset"
   ]
  },
  {
   "cell_type": "code",
   "execution_count": null,
   "metadata": {
    "id": "1uvJKQH755WH"
   },
   "outputs": [],
   "source": []
  },
  {
   "cell_type": "markdown",
   "metadata": {
    "id": "toYhhJ4v55WI"
   },
   "source": [
    "# Part 2: Data Preparation"
   ]
  },
  {
   "cell_type": "markdown",
   "metadata": {
    "id": "zUDh9O2T55WI"
   },
   "source": [
    "### Q. Discuss the following types of missing data and how they would be handled in reference to your dataset where applicable.\n",
    "*\tMissing completely at random (MCAR)\n",
    "*\tMissing at random (MAR)\n",
    "*\tMissing Not at Random (MNAR)"
   ]
  },
  {
   "cell_type": "code",
   "execution_count": 35,
   "metadata": {
    "id": "u0IiUxwR55WI"
   },
   "outputs": [
    {
     "name": "stdout",
     "output_type": "stream",
     "text": [
      "(4679, 15)\n"
     ]
    },
    {
     "data": {
      "text/html": [
       "<div>\n",
       "<style scoped>\n",
       "    .dataframe tbody tr th:only-of-type {\n",
       "        vertical-align: middle;\n",
       "    }\n",
       "\n",
       "    .dataframe tbody tr th {\n",
       "        vertical-align: top;\n",
       "    }\n",
       "\n",
       "    .dataframe thead th {\n",
       "        text-align: right;\n",
       "    }\n",
       "</style>\n",
       "<table border=\"1\" class=\"dataframe\">\n",
       "  <thead>\n",
       "    <tr style=\"text-align: right;\">\n",
       "      <th></th>\n",
       "      <th>Type</th>\n",
       "      <th>Date</th>\n",
       "      <th>Part of a policing operation</th>\n",
       "      <th>Policing operation</th>\n",
       "      <th>Latitude</th>\n",
       "      <th>Longitude</th>\n",
       "      <th>Gender</th>\n",
       "      <th>Age range</th>\n",
       "      <th>Self-defined ethnicity</th>\n",
       "      <th>Officer-defined ethnicity</th>\n",
       "      <th>Legislation</th>\n",
       "      <th>Object of search</th>\n",
       "      <th>Outcome</th>\n",
       "      <th>Outcome linked to object of search</th>\n",
       "      <th>Removal of more than just outer clothing</th>\n",
       "    </tr>\n",
       "  </thead>\n",
       "  <tbody>\n",
       "    <tr>\n",
       "      <th>0</th>\n",
       "      <td>Person search</td>\n",
       "      <td>2016-10-01T13:16:00+00:00</td>\n",
       "      <td>None</td>\n",
       "      <td>None</td>\n",
       "      <td>None</td>\n",
       "      <td>None</td>\n",
       "      <td>Male</td>\n",
       "      <td>18-24</td>\n",
       "      <td>Black or Black British - African (B2)</td>\n",
       "      <td>White</td>\n",
       "      <td>Misuse of Drugs Act 1971 (section 23)</td>\n",
       "      <td>Controlled drugs</td>\n",
       "      <td>Offender given drugs possession warning</td>\n",
       "      <td>True</td>\n",
       "      <td>False</td>\n",
       "    </tr>\n",
       "    <tr>\n",
       "      <th>1</th>\n",
       "      <td>Person search</td>\n",
       "      <td>2016-10-01T22:30:00+00:00</td>\n",
       "      <td>None</td>\n",
       "      <td>None</td>\n",
       "      <td>None</td>\n",
       "      <td>None</td>\n",
       "      <td>Male</td>\n",
       "      <td>25-34</td>\n",
       "      <td>White - Any other White ethnic background (W9)</td>\n",
       "      <td>White</td>\n",
       "      <td>Misuse of Drugs Act 1971 (section 23)</td>\n",
       "      <td>Controlled drugs</td>\n",
       "      <td>Nothing found - no further action</td>\n",
       "      <td>None</td>\n",
       "      <td>False</td>\n",
       "    </tr>\n",
       "    <tr>\n",
       "      <th>2</th>\n",
       "      <td>Person and Vehicle search</td>\n",
       "      <td>2016-10-02T00:15:00+00:00</td>\n",
       "      <td>None</td>\n",
       "      <td>None</td>\n",
       "      <td>None</td>\n",
       "      <td>None</td>\n",
       "      <td>Male</td>\n",
       "      <td>18-24</td>\n",
       "      <td>Black or Black British - African (B2)</td>\n",
       "      <td>Black</td>\n",
       "      <td>Misuse of Drugs Act 1971 (section 23)</td>\n",
       "      <td>Controlled drugs</td>\n",
       "      <td>Suspect summonsed to court</td>\n",
       "      <td>False</td>\n",
       "      <td>False</td>\n",
       "    </tr>\n",
       "    <tr>\n",
       "      <th>3</th>\n",
       "      <td>Person and Vehicle search</td>\n",
       "      <td>2016-10-02T00:15:00+00:00</td>\n",
       "      <td>None</td>\n",
       "      <td>None</td>\n",
       "      <td>None</td>\n",
       "      <td>None</td>\n",
       "      <td>Female</td>\n",
       "      <td>18-24</td>\n",
       "      <td>Black or Black British - African (B2)</td>\n",
       "      <td>Black</td>\n",
       "      <td>Misuse of Drugs Act 1971 (section 23)</td>\n",
       "      <td>Controlled drugs</td>\n",
       "      <td>Nothing found - no further action</td>\n",
       "      <td>None</td>\n",
       "      <td>False</td>\n",
       "    </tr>\n",
       "    <tr>\n",
       "      <th>4</th>\n",
       "      <td>Person and Vehicle search</td>\n",
       "      <td>2016-10-04T13:05:00+00:00</td>\n",
       "      <td>None</td>\n",
       "      <td>None</td>\n",
       "      <td>None</td>\n",
       "      <td>None</td>\n",
       "      <td>Male</td>\n",
       "      <td>18-24</td>\n",
       "      <td>White - Any other White ethnic background (W9)</td>\n",
       "      <td>White</td>\n",
       "      <td>Misuse of Drugs Act 1971 (section 23)</td>\n",
       "      <td>Controlled drugs</td>\n",
       "      <td>Suspect arrested</td>\n",
       "      <td>True</td>\n",
       "      <td>False</td>\n",
       "    </tr>\n",
       "  </tbody>\n",
       "</table>\n",
       "</div>"
      ],
      "text/plain": [
       "                        Type                       Date  \\\n",
       "0              Person search  2016-10-01T13:16:00+00:00   \n",
       "1              Person search  2016-10-01T22:30:00+00:00   \n",
       "2  Person and Vehicle search  2016-10-02T00:15:00+00:00   \n",
       "3  Person and Vehicle search  2016-10-02T00:15:00+00:00   \n",
       "4  Person and Vehicle search  2016-10-04T13:05:00+00:00   \n",
       "\n",
       "  Part of a policing operation Policing operation Latitude Longitude  Gender  \\\n",
       "0                         None               None     None      None    Male   \n",
       "1                         None               None     None      None    Male   \n",
       "2                         None               None     None      None    Male   \n",
       "3                         None               None     None      None  Female   \n",
       "4                         None               None     None      None    Male   \n",
       "\n",
       "  Age range                          Self-defined ethnicity  \\\n",
       "0     18-24           Black or Black British - African (B2)   \n",
       "1     25-34  White - Any other White ethnic background (W9)   \n",
       "2     18-24           Black or Black British - African (B2)   \n",
       "3     18-24           Black or Black British - African (B2)   \n",
       "4     18-24  White - Any other White ethnic background (W9)   \n",
       "\n",
       "  Officer-defined ethnicity                            Legislation  \\\n",
       "0                     White  Misuse of Drugs Act 1971 (section 23)   \n",
       "1                     White  Misuse of Drugs Act 1971 (section 23)   \n",
       "2                     Black  Misuse of Drugs Act 1971 (section 23)   \n",
       "3                     Black  Misuse of Drugs Act 1971 (section 23)   \n",
       "4                     White  Misuse of Drugs Act 1971 (section 23)   \n",
       "\n",
       "   Object of search                                  Outcome  \\\n",
       "0  Controlled drugs  Offender given drugs possession warning   \n",
       "1  Controlled drugs        Nothing found - no further action   \n",
       "2  Controlled drugs               Suspect summonsed to court   \n",
       "3  Controlled drugs        Nothing found - no further action   \n",
       "4  Controlled drugs                         Suspect arrested   \n",
       "\n",
       "  Outcome linked to object of search Removal of more than just outer clothing  \n",
       "0                               True                                    False  \n",
       "1                               None                                    False  \n",
       "2                              False                                    False  \n",
       "3                               None                                    False  \n",
       "4                               True                                    False  "
      ]
     },
     "execution_count": 35,
     "metadata": {},
     "output_type": "execute_result"
    }
   ],
   "source": [
    "print(df.shape)\n",
    "df.head()"
   ]
  },
  {
   "cell_type": "code",
   "execution_count": 36,
   "metadata": {},
   "outputs": [],
   "source": [
    "df.columns\n",
    "\n",
    "features = ['Type', 'Gender', 'Age range',\n",
    "       'Self-defined ethnicity', 'Officer-defined ethnicity', 'Legislation',\n",
    "       'Object of search', 'Outcome linked to object of search',\n",
    "       'Removal of more than just outer clothing']"
   ]
  },
  {
   "cell_type": "code",
   "execution_count": 44,
   "metadata": {},
   "outputs": [
    {
     "name": "stdout",
     "output_type": "stream",
     "text": [
      "(3789, 9)\n",
      "(3789,)\n"
     ]
    },
    {
     "data": {
      "text/html": [
       "<div>\n",
       "<style scoped>\n",
       "    .dataframe tbody tr th:only-of-type {\n",
       "        vertical-align: middle;\n",
       "    }\n",
       "\n",
       "    .dataframe tbody tr th {\n",
       "        vertical-align: top;\n",
       "    }\n",
       "\n",
       "    .dataframe thead th {\n",
       "        text-align: right;\n",
       "    }\n",
       "</style>\n",
       "<table border=\"1\" class=\"dataframe\">\n",
       "  <thead>\n",
       "    <tr style=\"text-align: right;\">\n",
       "      <th></th>\n",
       "      <th>Type</th>\n",
       "      <th>Gender</th>\n",
       "      <th>Age range</th>\n",
       "      <th>Self-defined ethnicity</th>\n",
       "      <th>Officer-defined ethnicity</th>\n",
       "      <th>Legislation</th>\n",
       "      <th>Object of search</th>\n",
       "      <th>Outcome linked to object of search</th>\n",
       "      <th>Removal of more than just outer clothing</th>\n",
       "    </tr>\n",
       "  </thead>\n",
       "  <tbody>\n",
       "    <tr>\n",
       "      <th>0</th>\n",
       "      <td>Person search</td>\n",
       "      <td>Male</td>\n",
       "      <td>18-24</td>\n",
       "      <td>Black or Black British - African (B2)</td>\n",
       "      <td>White</td>\n",
       "      <td>Misuse of Drugs Act 1971 (section 23)</td>\n",
       "      <td>Controlled drugs</td>\n",
       "      <td>True</td>\n",
       "      <td>False</td>\n",
       "    </tr>\n",
       "    <tr>\n",
       "      <th>2</th>\n",
       "      <td>Person and Vehicle search</td>\n",
       "      <td>Male</td>\n",
       "      <td>18-24</td>\n",
       "      <td>Black or Black British - African (B2)</td>\n",
       "      <td>Black</td>\n",
       "      <td>Misuse of Drugs Act 1971 (section 23)</td>\n",
       "      <td>Controlled drugs</td>\n",
       "      <td>False</td>\n",
       "      <td>False</td>\n",
       "    </tr>\n",
       "    <tr>\n",
       "      <th>4</th>\n",
       "      <td>Person and Vehicle search</td>\n",
       "      <td>Male</td>\n",
       "      <td>18-24</td>\n",
       "      <td>White - Any other White ethnic background (W9)</td>\n",
       "      <td>White</td>\n",
       "      <td>Misuse of Drugs Act 1971 (section 23)</td>\n",
       "      <td>Controlled drugs</td>\n",
       "      <td>True</td>\n",
       "      <td>False</td>\n",
       "    </tr>\n",
       "    <tr>\n",
       "      <th>7</th>\n",
       "      <td>Person search</td>\n",
       "      <td>Female</td>\n",
       "      <td>over 34</td>\n",
       "      <td>White - White British (W1)</td>\n",
       "      <td>White</td>\n",
       "      <td>Police and Criminal Evidence Act 1984 (section 1)</td>\n",
       "      <td>Stolen goods</td>\n",
       "      <td>True</td>\n",
       "      <td>False</td>\n",
       "    </tr>\n",
       "    <tr>\n",
       "      <th>8</th>\n",
       "      <td>Person search</td>\n",
       "      <td>Male</td>\n",
       "      <td>25-34</td>\n",
       "      <td>White - White British (W1)</td>\n",
       "      <td>White</td>\n",
       "      <td>Police and Criminal Evidence Act 1984 (section 1)</td>\n",
       "      <td>Stolen goods</td>\n",
       "      <td>False</td>\n",
       "      <td>False</td>\n",
       "    </tr>\n",
       "  </tbody>\n",
       "</table>\n",
       "</div>"
      ],
      "text/plain": [
       "                        Type  Gender Age range  \\\n",
       "0              Person search    Male     18-24   \n",
       "2  Person and Vehicle search    Male     18-24   \n",
       "4  Person and Vehicle search    Male     18-24   \n",
       "7              Person search  Female   over 34   \n",
       "8              Person search    Male     25-34   \n",
       "\n",
       "                           Self-defined ethnicity Officer-defined ethnicity  \\\n",
       "0           Black or Black British - African (B2)                     White   \n",
       "2           Black or Black British - African (B2)                     Black   \n",
       "4  White - Any other White ethnic background (W9)                     White   \n",
       "7                      White - White British (W1)                     White   \n",
       "8                      White - White British (W1)                     White   \n",
       "\n",
       "                                         Legislation  Object of search  \\\n",
       "0              Misuse of Drugs Act 1971 (section 23)  Controlled drugs   \n",
       "2              Misuse of Drugs Act 1971 (section 23)  Controlled drugs   \n",
       "4              Misuse of Drugs Act 1971 (section 23)  Controlled drugs   \n",
       "7  Police and Criminal Evidence Act 1984 (section 1)      Stolen goods   \n",
       "8  Police and Criminal Evidence Act 1984 (section 1)      Stolen goods   \n",
       "\n",
       "  Outcome linked to object of search Removal of more than just outer clothing  \n",
       "0                               True                                    False  \n",
       "2                              False                                    False  \n",
       "4                               True                                    False  \n",
       "7                               True                                    False  \n",
       "8                              False                                    False  "
      ]
     },
     "execution_count": 44,
     "metadata": {},
     "output_type": "execute_result"
    }
   ],
   "source": [
    "x = df.loc[:, features]\n",
    "y = df.loc[:, 'Outcome']\n",
    "x.dropna(inplace=True)\n",
    "y = y.iloc[x.index]\n",
    "print(x.shape)\n",
    "print(y.shape)\n",
    "x.head()"
   ]
  },
  {
   "cell_type": "code",
   "execution_count": 45,
   "metadata": {},
   "outputs": [
    {
     "data": {
      "text/html": [
       "<div>\n",
       "<style scoped>\n",
       "    .dataframe tbody tr th:only-of-type {\n",
       "        vertical-align: middle;\n",
       "    }\n",
       "\n",
       "    .dataframe tbody tr th {\n",
       "        vertical-align: top;\n",
       "    }\n",
       "\n",
       "    .dataframe thead th {\n",
       "        text-align: right;\n",
       "    }\n",
       "</style>\n",
       "<table border=\"1\" class=\"dataframe\">\n",
       "  <thead>\n",
       "    <tr style=\"text-align: right;\">\n",
       "      <th></th>\n",
       "      <th>Type</th>\n",
       "      <th>Gender</th>\n",
       "      <th>Age range</th>\n",
       "      <th>Self-defined ethnicity</th>\n",
       "      <th>Officer-defined ethnicity</th>\n",
       "      <th>Legislation</th>\n",
       "      <th>Object of search</th>\n",
       "      <th>Outcome linked to object of search</th>\n",
       "      <th>Removal of more than just outer clothing</th>\n",
       "    </tr>\n",
       "  </thead>\n",
       "  <tbody>\n",
       "    <tr>\n",
       "      <th>0</th>\n",
       "      <td>1</td>\n",
       "      <td>2</td>\n",
       "      <td>1</td>\n",
       "      <td>9</td>\n",
       "      <td>4</td>\n",
       "      <td>4</td>\n",
       "      <td>3</td>\n",
       "      <td>2</td>\n",
       "      <td>0</td>\n",
       "    </tr>\n",
       "    <tr>\n",
       "      <th>2</th>\n",
       "      <td>0</td>\n",
       "      <td>2</td>\n",
       "      <td>1</td>\n",
       "      <td>9</td>\n",
       "      <td>1</td>\n",
       "      <td>4</td>\n",
       "      <td>3</td>\n",
       "      <td>0</td>\n",
       "      <td>0</td>\n",
       "    </tr>\n",
       "    <tr>\n",
       "      <th>4</th>\n",
       "      <td>0</td>\n",
       "      <td>2</td>\n",
       "      <td>1</td>\n",
       "      <td>29</td>\n",
       "      <td>4</td>\n",
       "      <td>4</td>\n",
       "      <td>3</td>\n",
       "      <td>2</td>\n",
       "      <td>0</td>\n",
       "    </tr>\n",
       "    <tr>\n",
       "      <th>7</th>\n",
       "      <td>1</td>\n",
       "      <td>0</td>\n",
       "      <td>4</td>\n",
       "      <td>32</td>\n",
       "      <td>4</td>\n",
       "      <td>5</td>\n",
       "      <td>11</td>\n",
       "      <td>2</td>\n",
       "      <td>0</td>\n",
       "    </tr>\n",
       "    <tr>\n",
       "      <th>8</th>\n",
       "      <td>1</td>\n",
       "      <td>2</td>\n",
       "      <td>2</td>\n",
       "      <td>32</td>\n",
       "      <td>4</td>\n",
       "      <td>5</td>\n",
       "      <td>11</td>\n",
       "      <td>0</td>\n",
       "      <td>0</td>\n",
       "    </tr>\n",
       "  </tbody>\n",
       "</table>\n",
       "</div>"
      ],
      "text/plain": [
       "   Type  Gender  Age range  Self-defined ethnicity  Officer-defined ethnicity  \\\n",
       "0     1       2          1                       9                          4   \n",
       "2     0       2          1                       9                          1   \n",
       "4     0       2          1                      29                          4   \n",
       "7     1       0          4                      32                          4   \n",
       "8     1       2          2                      32                          4   \n",
       "\n",
       "   Legislation  Object of search  Outcome linked to object of search  \\\n",
       "0            4                 3                                   2   \n",
       "2            4                 3                                   0   \n",
       "4            4                 3                                   2   \n",
       "7            5                11                                   2   \n",
       "8            5                11                                   0   \n",
       "\n",
       "   Removal of more than just outer clothing  \n",
       "0                                         0  \n",
       "2                                         0  \n",
       "4                                         0  \n",
       "7                                         0  \n",
       "8                                         0  "
      ]
     },
     "execution_count": 45,
     "metadata": {},
     "output_type": "execute_result"
    }
   ],
   "source": [
    "from sklearn.preprocessing import LabelEncoder \n",
    "\n",
    "for col in x.columns:\n",
    "    le = LabelEncoder()\n",
    "    x[col]= le.fit_transform(x[col])\n",
    "    \n",
    "x.head()\n"
   ]
  },
  {
   "cell_type": "markdown",
   "metadata": {
    "id": "Z-_eDG2e_C2W"
   },
   "source": [
    "Q. Is there any correlation in the data? How would you decide which columns to keep?"
   ]
  },
  {
   "cell_type": "code",
   "execution_count": 40,
   "metadata": {
    "id": "_eRjAQ6u_CHm"
   },
   "outputs": [
    {
     "data": {
      "image/png": "[encoded data removed]",
      "text/plain": [
       "<Figure size 640x480 with 2 Axes>"
      ]
     },
     "metadata": {},
     "output_type": "display_data"
    }
   ],
   "source": [
    "# SEABORN and data.corr() to plot a heatmap\n",
    "# Github-> DFE6\n",
    "corr = x.corr()\n",
    "import matplotlib.pyplot as plt\n",
    "import seaborn as sns\n",
    "plt.figure()\n",
    "sns.heatmap(corr)\n",
    "plt.show()"
   ]
  },
  {
   "cell_type": "markdown",
   "metadata": {
    "id": "EUIqah7h_LAW"
   },
   "source": [
    "Q. Is there any imbalance in the label\n",
    "?"
   ]
  },
  {
   "cell_type": "code",
   "execution_count": 46,
   "metadata": {
    "id": "puZaHYIU_Pif"
   },
   "outputs": [
    {
     "name": "stdout",
     "output_type": "stream",
     "text": [
      "*************\n"
     ]
    },
    {
     "data": {
      "text/plain": [
       "0     1\n",
       "2     1\n",
       "4     1\n",
       "7     1\n",
       "8     1\n",
       "9     1\n",
       "13    1\n",
       "14    1\n",
       "17    1\n",
       "18    1\n",
       "Name: Outcome, dtype: int64"
      ]
     },
     "execution_count": 46,
     "metadata": {},
     "output_type": "execute_result"
    }
   ],
   "source": [
    "#print(dict(y.value_counts()).keys())\n",
    "print('*************')\n",
    "all_label_values = list(dict(y.value_counts()).keys())\n",
    "logic = lambda x: 0 if (x == all_label_values[0] or x== all_label_values[1]) else 1\n",
    "y2 = y.map(logic)\n",
    "y2[:10]"
   ]
  },
  {
   "cell_type": "code",
   "execution_count": null,
   "metadata": {},
   "outputs": [],
   "source": [
    "# Approach 1-> filter out and select ONLY the top 2 classes!\n",
    "# Approach 2-> bundle all the weaker classes together as a SINGLE class"
   ]
  },
  {
   "cell_type": "markdown",
   "metadata": {
    "id": "v9gQBGnZ_QiC"
   },
   "source": [
    "Q. Are there any outliers in the dataset? What do you do with them?"
   ]
  },
  {
   "cell_type": "code",
   "execution_count": null,
   "metadata": {
    "id": "qKUVWPJq_fTq"
   },
   "outputs": [],
   "source": [
    "# OPTIONAL\n",
    "# Z-Score\n",
    "# check for values >3 and <-3\n",
    "# What do i do with them?\n",
    "# 1) Remove them \n",
    "# 2) replace all >3 with max, <-3 with min\n",
    "# 3) Ignore\n",
    "\n",
    "# Detecting Frauds, Anomalies "
   ]
  },
  {
   "cell_type": "markdown",
   "metadata": {
    "id": "v3SRFiXRAzzu"
   },
   "source": [
    "Q. Are there any strings in the features that need to be converted to integers? Do you select One-Hot encoding or Label Encoding?"
   ]
  },
  {
   "cell_type": "code",
   "execution_count": null,
   "metadata": {
    "id": "feWeqNtzOTWv"
   },
   "outputs": [],
   "source": [
    "# if you are not sure, do label ENCODING\n",
    "# unique_values = data['diagnosis'].value_counts()\n",
    "# Form a dictionary of the unique values!\n",
    "# encoding_funk = lambda x : dictionary[x]\n",
    "# data['my_string_column'] = data['my_string_column'].apply(encoding_funk)"
   ]
  },
  {
   "cell_type": "code",
   "execution_count": null,
   "metadata": {
    "id": "3qLuwfTDAzbf"
   },
   "outputs": [],
   "source": [
    "# One hot encoding-> pandas-> get_dummies \n",
    "\n",
    "# data['diagnosis'] - get_dummies\n",
    "\n",
    "\n",
    "# if there are too many values-> one-hot encoding is NOT an option\n",
    "\n",
    "# GROUP_BY on ZIP_code or country or state!\n",
    "# or del that column altogether!\n",
    "\n",
    "# One Hot encoding\n",
    "\n",
    "# Sales City Profit\n",
    "#  100.  London  20\n",
    "#. 100.  Papua.  60\n",
    "#  123.  London. 21\n",
    "#. 65.   Paris.  13\n",
    "#. 92.   Bandar Seri Begawan 22\n",
    "\n",
    "# 2 kinds of ML problems- \n",
    "# 1) i can use city as a filter and generate multiple models\n",
    "# one for each city\n",
    "\n",
    "# 2) Or make a model that is GENERALIZED for each city and impacted\n",
    "# equally by each city\n",
    "\n",
    "# result of one hot encoding\n",
    "# Sales City_London City_Papua City_Paris City_BSB Profit\n",
    "#  100.  1            0         0          0          20\n",
    "#. 100.  0            1         0           0      .  60\n",
    "#  123.  1.            0         0          0         21\n",
    "#. 65.   0             0         1          0      .  13\n",
    "#. 92.   0            0          0          1         22\n",
    "\n",
    "\n",
    "\n",
    "\n",
    "# final ml equation\n",
    "# profit -> label\n",
    "# features-> [ 'Sales', 'Cit....']\n",
    "# profit=w1*Sales+w2*C_Lon+w3*C_Pap+w4*C_Par+w5*City_BSB + bias\n",
    "\n",
    "# Sales from london\n",
    "# 20=w1*100 + w2*1+ w3*0+ w4*0+ w5*0 + bias\n",
    "# 21=w1*123 + w2*1+ w3*0+ w4*0+ w5*0 + bias"
   ]
  },
  {
   "cell_type": "markdown",
   "metadata": {
    "id": "TxPO0Ch5Pv3F"
   },
   "source": [
    "Q. Split the data for TRAINING and SCORING (testing). OPTIONAL: Discuss what problems could happen we have poor distribution b/w training and testing?"
   ]
  },
  {
   "cell_type": "code",
   "execution_count": 47,
   "metadata": {
    "id": "W1XMipDDMiCG"
   },
   "outputs": [],
   "source": [
    "from sklearn.model_selection import train_test_split\n",
    "xtrain,xtest,ytrain,ytest = train_test_split(x, y2,\n",
    "                             test_size=0.2, random_state=42)"
   ]
  },
  {
   "cell_type": "markdown",
   "metadata": {
    "id": "s5jKhdFd55WJ"
   },
   "source": [
    "# Part 3: Model Selection"
   ]
  },
  {
   "cell_type": "markdown",
   "metadata": {
    "id": "bosw1yWg55WJ"
   },
   "source": [
    "### Q. Use the cheat sheet below to choose the algorithm/estimator suitable for building a model to address your candidate question(s)\n",
    "\n",
    "* https://scikit-learn.org/stable/tutorial/machine_learning_map/"
   ]
  },
  {
   "cell_type": "code",
   "execution_count": 50,
   "metadata": {
    "id": "39bauCNWR2ve"
   },
   "outputs": [
    {
     "name": "stdout",
     "output_type": "stream",
     "text": [
      "0.8298153034300791\n",
      "0.8364116094986808\n",
      "0.8311345646437994\n",
      "0.8258575197889182\n",
      "0.8192612137203166\n",
      "0.8179419525065963\n"
     ]
    },
    {
     "name": "stderr",
     "output_type": "stream",
     "text": [
      "/anaconda/envs/azureml_py38/lib/python3.8/site-packages/sklearn/svm/_base.py:985: ConvergenceWarning: Liblinear failed to converge, increase the number of iterations.\n",
      "  warnings.warn(\"Liblinear failed to converge, increase \"\n"
     ]
    }
   ],
   "source": [
    "# for loop b/w all your models\n",
    "\n",
    "# xtrain,xtest, ytrain,ytest = train_test_split\n",
    "\n",
    "# model.fit-> xTRAIN , xTEST\n",
    "# predictions = model.predict(xtest)\n",
    "# accuracy_score/rmse/mae/precision for (predictions, ytest)\n",
    "\n",
    "# MAJOR-> string/ranges values-> convert into numbers\n",
    "from sklearn.ensemble import RandomForestClassifier\n",
    "from sklearn.naive_bayes import GaussianNB\n",
    "from sklearn.tree import DecisionTreeClassifier\n",
    "from sklearn.neighbors import KNeighborsClassifier\n",
    "from sklearn.svm import LinearSVC\n",
    "# HYPERPARAMETERS-> these are 2 diff HPs for Random Forest \n",
    "# SAME algo could also give 2 diff models!\n",
    "ntree1, ntree2 = 50,100\n",
    "from sklearn.metrics import accuracy_score\n",
    "for algo in [RandomForestClassifier(n_estimators=ntree1), RandomForestClassifier(n_estimators=ntree2), GaussianNB(), DecisionTreeClassifier(), KNeighborsClassifier(), LinearSVC()]:\n",
    "  model = algo\n",
    "  model.fit(xtrain, ytrain)\n",
    "  predictions = model.predict(xtest)\n",
    "  print(accuracy_score(predictions, ytest))\n"
   ]
  },
  {
   "cell_type": "markdown",
   "metadata": {
    "id": "6SK8nej055WJ"
   },
   "source": []
  },
  {
   "cell_type": "markdown",
   "metadata": {
    "id": "gB-pblb255WJ"
   },
   "source": [
    "# Part 4: Model Evaluation"
   ]
  },
  {
   "cell_type": "markdown",
   "metadata": {
    "id": "w231rWpm55WK"
   },
   "source": [
    "### Q. Identify which of the statistical measures below are suitable for the evaluation of your model.\n",
    "\n",
    "Classification Metrics:\n",
    "* Accuracy\n",
    "* Precision\n",
    "* Recall\n",
    "* F1 Score\n",
    "\n",
    "Regression Metrics:\n",
    "    \n",
    "* Mean absolute error (MAE)\n",
    "* Root mean squared error (RMSE)\n",
    "* Relative absolute error (RAE)\n",
    "* Relative squared error (RSE)\n",
    "* Mean Zero One Error (MZOE)\n",
    "* Coefficient of determination\n",
    "\n",
    " "
   ]
  },
  {
   "cell_type": "code",
   "execution_count": 52,
   "metadata": {
    "id": "MKlEwnam55WK"
   },
   "outputs": [
    {
     "name": "stdout",
     "output_type": "stream",
     "text": [
      "0.8311345646437994\n"
     ]
    }
   ],
   "source": [
    "# Based on Accuracy, Naive Bayes is based selection\n",
    "\n",
    "from sklearn.naive_bayes import GaussianNB\n",
    "final_model = GaussianNB()\n",
    "final_model.fit(xtrain,ytrain)\n",
    "p = final_model.predict(xtest)\n",
    "print(accuracy_score(p, ytest))"
   ]
  },
  {
   "cell_type": "code",
   "execution_count": 54,
   "metadata": {},
   "outputs": [
    {
     "data": {
      "text/plain": [
       "['filename.joblib']"
      ]
     },
     "execution_count": 54,
     "metadata": {},
     "output_type": "execute_result"
    }
   ],
   "source": [
    "from joblib import dump\n",
    "dump(final_model, 'filename.joblib') "
   ]
  },
  {
   "cell_type": "markdown",
   "metadata": {
    "id": "V_GR5s4K55WK"
   },
   "source": [
    "# Part 5: Stretch - Model Deployment"
   ]
  },
  {
   "cell_type": "markdown",
   "metadata": {
    "id": "0g_JJnoh55WL"
   },
   "source": [
    "### Q. Evaluate the open-source app framework for Machine Learning model deployment below in your own time.\n",
    "\n",
    "* https://streamlit.io/"
   ]
  },
  {
   "cell_type": "code",
   "execution_count": null,
   "metadata": {
    "id": "ghIEovDv55WL"
   },
   "outputs": [],
   "source": [
    "# EXPORT your model and upload to azure\n",
    "# deploy to Azure Container Instance\n",
    "# after 20-30 mins, consume tab will appear in your ENDPOINT\n",
    "# and then paste the PYTHON code below!"
   ]
  },
  {
   "cell_type": "code",
   "execution_count": 56,
   "metadata": {
    "id": "mS9l7kc09sse"
   },
   "outputs": [
    {
     "data": {
      "text/plain": [
       "'0.24.2'"
      ]
     },
     "execution_count": 56,
     "metadata": {},
     "output_type": "execute_result"
    }
   ],
   "source": [
    "import sklearn\n",
    "sklearn.__version__"
   ]
  },
  {
   "cell_type": "code",
   "execution_count": null,
   "metadata": {},
   "outputs": [],
   "source": [
    "# PASTE Consume code here"
   ]
  }
 ],
 "metadata": {
  "colab": {
   "name": "Choosing the right estimator Enhanced.ipynb",
   "provenance": []
  },
  "kernelspec": {
   "display_name": "Python 3",
   "language": "python",
   "name": "python3"
  },
  "language_info": {
   "codemirror_mode": {
    "name": "ipython",
    "version": 3
   },
   "file_extension": ".py",
   "mimetype": "text/x-python",
   "name": "python",
   "nbconvert_exporter": "python",
   "pygments_lexer": "ipython3",
   "version": "3.8.1"
  }
 },
 "nbformat": 4,
 "nbformat_minor": 1
}
