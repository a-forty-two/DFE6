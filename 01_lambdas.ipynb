{
  "nbformat": 4,
  "nbformat_minor": 0,
  "metadata": {
    "colab": {
      "name": "01 lambdas.ipynb",
      "provenance": [],
      "authorship_tag": "ABX9TyOt6pBE2j8wMw4uv/vFMwbO",
      "include_colab_link": true
    },
    "kernelspec": {
      "name": "python3",
      "display_name": "Python 3"
    },
    "language_info": {
      "name": "python"
    }
  },
  "cells": [
    {
      "cell_type": "markdown",
      "metadata": {
        "id": "view-in-github",
        "colab_type": "text"
      },
      "source": [
        "<a href=\"https://colab.research.google.com/github/a-forty-two/DFE6/blob/main/01_lambdas.ipynb\" target=\"_parent\"><img src=\"https://colab.research.google.com/assets/colab-badge.svg\" alt=\"Open In Colab\"/></a>"
      ]
    },
    {
      "cell_type": "code",
      "execution_count": 1,
      "metadata": {
        "id": "SvcYASykC-3w"
      },
      "outputs": [],
      "source": [
        "# Lambdas\n",
        "# Anonymous functions\n",
        "# 1 LINE execution\n",
        "# serve like a function, but faster and cleaner exection"
      ]
    },
    {
      "cell_type": "code",
      "source": [
        "# LAMBDA function/1 line execution-> AVOIDS the typical function jump\n",
        "# time is saved!\n"
      ],
      "metadata": {
        "id": "262kzDDADRUL"
      },
      "execution_count": 2,
      "outputs": []
    },
    {
      "cell_type": "code",
      "source": [
        "# name = lambda input : what_do_with_do_with_input\n",
        "inc = lambda num: num + 1"
      ],
      "metadata": {
        "id": "rfJgjuwUDsXg"
      },
      "execution_count": 3,
      "outputs": []
    },
    {
      "cell_type": "code",
      "source": [
        "inc(41)"
      ],
      "metadata": {
        "colab": {
          "base_uri": "https://localhost:8080/"
        },
        "id": "EA9l7jhzEHz9",
        "outputId": "ed723946-d128-4fce-cc49-4880bedf1afd"
      },
      "execution_count": 4,
      "outputs": [
        {
          "output_type": "execute_result",
          "data": {
            "text/plain": [
              "42"
            ]
          },
          "metadata": {},
          "execution_count": 4
        }
      ]
    },
    {
      "cell_type": "code",
      "source": [
        "def power(y):\n",
        "  return lambda x: x**y"
      ],
      "metadata": {
        "id": "Zf4Wi8KhEJM7"
      },
      "execution_count": 5,
      "outputs": []
    },
    {
      "cell_type": "code",
      "source": [
        "square = power(2)\n",
        "cube = power(3)\n",
        "quad = power(4)"
      ],
      "metadata": {
        "id": "qDs5YxZ8EUOI"
      },
      "execution_count": 6,
      "outputs": []
    },
    {
      "cell_type": "code",
      "source": [
        "square(5)"
      ],
      "metadata": {
        "colab": {
          "base_uri": "https://localhost:8080/"
        },
        "id": "QO0JZm4VEYPa",
        "outputId": "25072e31-6749-4c2c-a9b8-23312778507e"
      },
      "execution_count": 7,
      "outputs": [
        {
          "output_type": "execute_result",
          "data": {
            "text/plain": [
              "25"
            ]
          },
          "metadata": {},
          "execution_count": 7
        }
      ]
    },
    {
      "cell_type": "code",
      "source": [
        "cube(10)"
      ],
      "metadata": {
        "colab": {
          "base_uri": "https://localhost:8080/"
        },
        "id": "mxrqFITtEakY",
        "outputId": "590871aa-4fc0-40c7-871f-ff2a8504da32"
      },
      "execution_count": 8,
      "outputs": [
        {
          "output_type": "execute_result",
          "data": {
            "text/plain": [
              "1000"
            ]
          },
          "metadata": {},
          "execution_count": 8
        }
      ]
    },
    {
      "cell_type": "code",
      "source": [
        "quad(8)"
      ],
      "metadata": {
        "colab": {
          "base_uri": "https://localhost:8080/"
        },
        "id": "9FLQr44XEboS",
        "outputId": "5d282366-ed05-44ec-db7a-a72c066ddd01"
      },
      "execution_count": 9,
      "outputs": [
        {
          "output_type": "execute_result",
          "data": {
            "text/plain": [
              "4096"
            ]
          },
          "metadata": {},
          "execution_count": 9
        }
      ]
    },
    {
      "cell_type": "code",
      "source": [
        "#one way!\n",
        "def mysquare(n):\n",
        "  return n*n\n",
        "def mycube(n):\n",
        "  return n*n*n\n",
        "def myquad(n):\n",
        "  return n*n*n*n"
      ],
      "metadata": {
        "id": "tpoNMk4uEdIh"
      },
      "execution_count": null,
      "outputs": []
    },
    {
      "cell_type": "code",
      "source": [
        "randomlambda = lambda a,b,c: a if b<c else b \n",
        "# lambda inputs: return_something if condition else someother_value"
      ],
      "metadata": {
        "id": "TGTuueb0FmXY"
      },
      "execution_count": 10,
      "outputs": []
    },
    {
      "cell_type": "code",
      "source": [
        "# list-> common operation-> use lambdas\n",
        "randomlambda(10,5,1) # b because b!< c"
      ],
      "metadata": {
        "colab": {
          "base_uri": "https://localhost:8080/"
        },
        "id": "Gyddq11RGPLg",
        "outputId": "c4ad90fd-a5f2-47e7-d0da-e2bcd802cfee"
      },
      "execution_count": 11,
      "outputs": [
        {
          "output_type": "execute_result",
          "data": {
            "text/plain": [
              "5"
            ]
          },
          "metadata": {},
          "execution_count": 11
        }
      ]
    },
    {
      "cell_type": "code",
      "source": [
        ""
      ],
      "metadata": {
        "id": "iTKYWYrOGovI"
      },
      "execution_count": null,
      "outputs": []
    }
  ]
}