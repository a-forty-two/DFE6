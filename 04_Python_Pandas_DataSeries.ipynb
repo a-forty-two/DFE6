{
  "cells": [
    {
      "cell_type": "markdown",
      "metadata": {
        "id": "view-in-github",
        "colab_type": "text"
      },
      "source": [
        "<a href=\"https://colab.research.google.com/github/a-forty-two/DFE6/blob/main/04_Python_Pandas_DataSeries.ipynb\" target=\"_parent\"><img src=\"https://colab.research.google.com/assets/colab-badge.svg\" alt=\"Open In Colab\"/></a>"
      ]
    },
    {
      "cell_type": "code",
      "execution_count": 1,
      "metadata": {
        "id": "Gl7f9sKsESx8"
      },
      "outputs": [],
      "source": [
        "import numpy as np\n",
        "import pandas as pd\n",
        "import datetime"
      ]
    },
    {
      "cell_type": "markdown",
      "metadata": {
        "id": "7ExqRf_9ESyB"
      },
      "source": [
        "## DataSeries"
      ]
    },
    {
      "cell_type": "code",
      "execution_count": 51,
      "metadata": {
        "id": "1ehf4mCJESyE"
      },
      "outputs": [],
      "source": [
        "my_readings = [3.12, 4, 3.24, 3.67, 6, 84]"
      ]
    },
    {
      "cell_type": "markdown",
      "metadata": {
        "id": "qK57P9gvESyF"
      },
      "source": [
        "We can create a DataSeries using any list or np.array,"
      ]
    },
    {
      "cell_type": "code",
      "execution_count": 52,
      "metadata": {
        "colab": {
          "base_uri": "https://localhost:8080/"
        },
        "id": "jmOV-pDuESyG",
        "outputId": "6e38fa80-8361-4f9a-afea-1c45ddcd8f5a"
      },
      "outputs": [
        {
          "output_type": "execute_result",
          "data": {
            "text/plain": [
              "0     3.12\n",
              "1     4.00\n",
              "2     3.24\n",
              "3     3.67\n",
              "4     6.00\n",
              "5    84.00\n",
              "dtype: float64"
            ]
          },
          "metadata": {},
          "execution_count": 52
        }
      ],
      "source": [
        "ds_readings = pd.Series(my_readings)\n",
        "ds_readings\n",
        "# Series represent a COLUMN in a dataframe!"
      ]
    },
    {
      "cell_type": "code",
      "execution_count": 53,
      "metadata": {
        "id": "rI9kK7nzESyI"
      },
      "outputs": [],
      "source": [
        "xyz_index = ['a','b','c','d','e','f']\n",
        "ds_readings.index = xyz_index"
      ]
    },
    {
      "cell_type": "code",
      "execution_count": 54,
      "metadata": {
        "colab": {
          "base_uri": "https://localhost:8080/"
        },
        "id": "SiHuzrhCESyI",
        "outputId": "e65ad796-ca59-4a96-a6a2-17a42e111428"
      },
      "outputs": [
        {
          "output_type": "execute_result",
          "data": {
            "text/plain": [
              "Index(['a', 'b', 'c', 'd', 'e', 'f'], dtype='object')"
            ]
          },
          "metadata": {},
          "execution_count": 54
        }
      ],
      "source": [
        "## Output Index\n",
        "ds_readings.index"
      ]
    },
    {
      "cell_type": "code",
      "source": [
        "ds_readings"
      ],
      "metadata": {
        "colab": {
          "base_uri": "https://localhost:8080/"
        },
        "id": "J2CPp753GBzh",
        "outputId": "231ec9b9-d0f2-492c-b4b7-ad81a2606e55"
      },
      "execution_count": 55,
      "outputs": [
        {
          "output_type": "execute_result",
          "data": {
            "text/plain": [
              "a     3.12\n",
              "b     4.00\n",
              "c     3.24\n",
              "d     3.67\n",
              "e     6.00\n",
              "f    84.00\n",
              "dtype: float64"
            ]
          },
          "metadata": {},
          "execution_count": 55
        }
      ]
    },
    {
      "cell_type": "code",
      "source": [
        "# reset it to original so that future ops can run \n",
        "ds_readings = pd.Series(my_readings)\n",
        "ds_readings.index"
      ],
      "metadata": {
        "colab": {
          "base_uri": "https://localhost:8080/"
        },
        "id": "EDQoGdbrGTEN",
        "outputId": "4c61067c-fdcf-4814-fd07-1c2e22b420ca"
      },
      "execution_count": 56,
      "outputs": [
        {
          "output_type": "execute_result",
          "data": {
            "text/plain": [
              "RangeIndex(start=0, stop=6, step=1)"
            ]
          },
          "metadata": {},
          "execution_count": 56
        }
      ]
    },
    {
      "cell_type": "code",
      "execution_count": 57,
      "metadata": {
        "colab": {
          "base_uri": "https://localhost:8080/"
        },
        "id": "Ny_hL89tESyJ",
        "outputId": "281a1d17-7681-49d4-ad4d-936cb9224cac"
      },
      "outputs": [
        {
          "output_type": "execute_result",
          "data": {
            "text/plain": [
              "array([ 3.12,  4.  ,  3.24,  3.67,  6.  , 84.  ])"
            ]
          },
          "metadata": {},
          "execution_count": 57
        }
      ],
      "source": [
        "## Output Value\n",
        "ds_readings.values"
      ]
    },
    {
      "cell_type": "code",
      "execution_count": 57,
      "metadata": {
        "id": "y7bbHHOHESyJ"
      },
      "outputs": [],
      "source": [
        ""
      ]
    },
    {
      "cell_type": "code",
      "execution_count": 58,
      "metadata": {
        "colab": {
          "base_uri": "https://localhost:8080/"
        },
        "id": "R9I6yxTUESyK",
        "outputId": "beb63912-1a30-4245-bfb3-31d54b55bb29"
      },
      "outputs": [
        {
          "output_type": "execute_result",
          "data": {
            "text/plain": [
              "3.12"
            ]
          },
          "metadata": {},
          "execution_count": 58
        }
      ],
      "source": [
        "ds_readings[0]"
      ]
    },
    {
      "cell_type": "code",
      "execution_count": 59,
      "metadata": {
        "colab": {
          "base_uri": "https://localhost:8080/"
        },
        "id": "lXCrGDUAESyK",
        "outputId": "40a8476c-1a92-4072-ee52-758d172808cb"
      },
      "outputs": [
        {
          "output_type": "execute_result",
          "data": {
            "text/plain": [
              "6.0"
            ]
          },
          "metadata": {},
          "execution_count": 59
        }
      ],
      "source": [
        "ds_readings[4]"
      ]
    },
    {
      "cell_type": "markdown",
      "metadata": {
        "id": "dzMMJWqnESyL"
      },
      "source": [
        ""
      ]
    },
    {
      "cell_type": "code",
      "execution_count": 60,
      "metadata": {
        "colab": {
          "base_uri": "https://localhost:8080/"
        },
        "id": "Yry976MDESyL",
        "outputId": "291f7326-27ff-424e-df76-739635187efe"
      },
      "outputs": [
        {
          "output_type": "execute_result",
          "data": {
            "text/plain": [
              "(17.338333333333335, 32.67413069488868)"
            ]
          },
          "metadata": {},
          "execution_count": 60
        }
      ],
      "source": [
        "ds_readings.mean(), ds_readings.std()\n",
        "# zscore = (data-mean)/std"
      ]
    },
    {
      "cell_type": "code",
      "source": [
        "mu, sigma = ds_readings.mean(), ds_readings.std()\n",
        "ds = (ds_readings - mu)/sigma\n",
        "ds"
      ],
      "metadata": {
        "colab": {
          "base_uri": "https://localhost:8080/"
        },
        "id": "jH68nsNqKXgs",
        "outputId": "9fc23bdd-5600-43d5-a37c-1b5ce6c263e8"
      },
      "execution_count": 61,
      "outputs": [
        {
          "output_type": "execute_result",
          "data": {
            "text/plain": [
              "0   -0.435156\n",
              "1   -0.408223\n",
              "2   -0.431483\n",
              "3   -0.418323\n",
              "4   -0.347013\n",
              "5    2.040197\n",
              "dtype: float64"
            ]
          },
          "metadata": {},
          "execution_count": 61
        }
      ]
    },
    {
      "cell_type": "code",
      "source": [
        "(ds<2) "
      ],
      "metadata": {
        "colab": {
          "base_uri": "https://localhost:8080/"
        },
        "id": "bN3KT-4oLYdU",
        "outputId": "a4f5fbad-70a8-462d-e03a-549651155064"
      },
      "execution_count": 70,
      "outputs": [
        {
          "output_type": "execute_result",
          "data": {
            "text/plain": [
              "0     True\n",
              "1     True\n",
              "2     True\n",
              "3     True\n",
              "4     True\n",
              "5    False\n",
              "dtype: bool"
            ]
          },
          "metadata": {},
          "execution_count": 70
        }
      ]
    },
    {
      "cell_type": "code",
      "source": [
        "outliers = ds[(ds>2) | (ds<-2)] # | means OR, & means AND\n",
        "outliers"
      ],
      "metadata": {
        "colab": {
          "base_uri": "https://localhost:8080/"
        },
        "id": "0xbfEVwfLMOL",
        "outputId": "f4106810-fd5b-4f7a-e2e4-04f9df676cac"
      },
      "execution_count": 75,
      "outputs": [
        {
          "output_type": "execute_result",
          "data": {
            "text/plain": [
              "5    2.040197\n",
              "dtype: float64"
            ]
          },
          "metadata": {},
          "execution_count": 75
        }
      ]
    },
    {
      "cell_type": "markdown",
      "metadata": {
        "id": "JhCuvTY-ESyM"
      },
      "source": [
        "**Masking**"
      ]
    },
    {
      "cell_type": "code",
      "source": [
        ""
      ],
      "metadata": {
        "id": "sE7j1ImrMWoo"
      },
      "execution_count": null,
      "outputs": []
    },
    {
      "cell_type": "code",
      "source": [
        ""
      ],
      "metadata": {
        "id": "R17JziStMWju"
      },
      "execution_count": null,
      "outputs": []
    },
    {
      "cell_type": "code",
      "source": [
        ""
      ],
      "metadata": {
        "id": "YGMl1VUjMWTF"
      },
      "execution_count": null,
      "outputs": []
    },
    {
      "cell_type": "code",
      "execution_count": 40,
      "metadata": {
        "colab": {
          "base_uri": "https://localhost:8080/"
        },
        "id": "sz4J7ZKBESyM",
        "outputId": "f738be4b-70d3-4073-d9c5-1174310071db"
      },
      "outputs": [
        {
          "output_type": "execute_result",
          "data": {
            "text/plain": [
              "0    3.12\n",
              "2    3.24\n",
              "4    6.00\n",
              "dtype: float64"
            ]
          },
          "metadata": {},
          "execution_count": 40
        }
      ],
      "source": [
        "## Note list input\n",
        "# [ [ ]] internal [] can be used as FILTERS-> wherever evaluation is TRUE, we get\n",
        "# the value, evaluation is false-> the value is skipped!\n",
        "\n",
        "# only alternate elements \n",
        "\n",
        "ds_readings[[True, False, True, False, True, False]]"
      ]
    },
    {
      "cell_type": "code",
      "source": [
        "x = (ds_readings % 2 == 0)\n",
        "list(x)"
      ],
      "metadata": {
        "colab": {
          "base_uri": "https://localhost:8080/"
        },
        "id": "9a18zHXMH22N",
        "outputId": "33f7cb60-0270-4576-a1d2-af033d2299a9"
      },
      "execution_count": 36,
      "outputs": [
        {
          "output_type": "execute_result",
          "data": {
            "text/plain": [
              "[False, True, False, False, True, False]"
            ]
          },
          "metadata": {},
          "execution_count": 36
        }
      ]
    },
    {
      "cell_type": "code",
      "source": [
        "ds_readings[ds_readings % 2 == 0]"
      ],
      "metadata": {
        "colab": {
          "base_uri": "https://localhost:8080/"
        },
        "id": "45dZqTNjImQ1",
        "outputId": "9806c8b9-8aaf-4c44-9d20-54655a98419f"
      },
      "execution_count": 44,
      "outputs": [
        {
          "output_type": "execute_result",
          "data": {
            "text/plain": [
              "1    4.0\n",
              "4    6.0\n",
              "dtype: float64"
            ]
          },
          "metadata": {},
          "execution_count": 44
        }
      ]
    },
    {
      "cell_type": "markdown",
      "source": [
        ""
      ],
      "metadata": {
        "id": "5EtwCg2UH2pr"
      }
    },
    {
      "cell_type": "markdown",
      "metadata": {
        "id": "q4Wo-SxtESyM"
      },
      "source": [
        ""
      ]
    },
    {
      "cell_type": "code",
      "execution_count": null,
      "metadata": {
        "id": "e52kcjU-ESyN"
      },
      "outputs": [],
      "source": [
        "ds_readings + 10"
      ]
    },
    {
      "cell_type": "markdown",
      "metadata": {
        "id": "hbGfCRpkESyN"
      },
      "source": [
        ""
      ]
    },
    {
      "cell_type": "code",
      "execution_count": null,
      "metadata": {
        "id": "K_qeFylcESyN"
      },
      "outputs": [],
      "source": [
        "ds_readings > 3.5"
      ]
    },
    {
      "cell_type": "markdown",
      "metadata": {
        "id": "GCJmYwkkESyO"
      },
      "source": [
        "### Q: Why might the above be useful?"
      ]
    },
    {
      "cell_type": "markdown",
      "metadata": {
        "id": "MWWZXPokESyO"
      },
      "source": [
        "Output would be very useful when used as a mask for another series"
      ]
    },
    {
      "cell_type": "code",
      "execution_count": null,
      "metadata": {
        "id": "VFXCBI1JESyO"
      },
      "outputs": [],
      "source": [
        "ds_readings[ds_readings > 3.5]"
      ]
    },
    {
      "cell_type": "markdown",
      "metadata": {
        "id": "hTDZ7A3xESyP"
      },
      "source": [
        "We can always combine filtering and operators"
      ]
    },
    {
      "cell_type": "code",
      "execution_count": null,
      "metadata": {
        "id": "xN7Bp4BjESyP"
      },
      "outputs": [],
      "source": [
        "ds_readings[ds_readings > 3.5] * 2"
      ]
    },
    {
      "cell_type": "markdown",
      "metadata": {
        "id": "SXqoMfxhESyP"
      },
      "source": [
        "And to change the values, either all, or partial is easy,"
      ]
    },
    {
      "cell_type": "code",
      "execution_count": null,
      "metadata": {
        "id": "HtVhcBThESyQ"
      },
      "outputs": [],
      "source": [
        "ds_readings[ds_readings > 3.5] = 0"
      ]
    },
    {
      "cell_type": "code",
      "execution_count": null,
      "metadata": {
        "id": "B5uOAm47ESyQ"
      },
      "outputs": [],
      "source": [
        "ds_readings"
      ]
    },
    {
      "cell_type": "markdown",
      "metadata": {
        "id": "xGiMR6ksESyQ"
      },
      "source": [
        "## Exercise\n",
        "   * ### Create a new Dataseries on a topic of your choosing(numeric, length = 8)\n",
        "   * ### Output the 2nd, last, and last two elements\n",
        "   * ### Subtract a number from all elements\n",
        "   * ### Generate and apply a mask\n",
        "   * ### Use the mask to set values to 0"
      ]
    },
    {
      "cell_type": "markdown",
      "metadata": {
        "id": "r854QUdRESyR"
      },
      "source": [
        "### How do I modify index?"
      ]
    },
    {
      "cell_type": "code",
      "execution_count": null,
      "metadata": {
        "id": "rQA1-ziuESyR"
      },
      "outputs": [],
      "source": [
        "timings = [datetime.time(1, 3, increment) for increment in range(6)]"
      ]
    },
    {
      "cell_type": "code",
      "execution_count": null,
      "metadata": {
        "id": "NcWFlPsRESyR"
      },
      "outputs": [],
      "source": [
        "timings"
      ]
    },
    {
      "cell_type": "code",
      "execution_count": null,
      "metadata": {
        "id": "K_ckGxccESyS"
      },
      "outputs": [],
      "source": [
        "ds_readings.index = timings"
      ]
    },
    {
      "cell_type": "code",
      "execution_count": null,
      "metadata": {
        "id": "DpRMGd5EESyS"
      },
      "outputs": [],
      "source": [
        "ds_readings"
      ]
    },
    {
      "cell_type": "markdown",
      "metadata": {
        "id": "7H02MIqPESyS"
      },
      "source": [
        "The `.value_counts` function finds all the unique values in the series and gives the number of ocurrences of the same number in the series,"
      ]
    },
    {
      "cell_type": "code",
      "execution_count": null,
      "metadata": {
        "id": "TnqovgP2ESyS"
      },
      "outputs": [],
      "source": [
        "ds_readings.value_counts()"
      ]
    },
    {
      "cell_type": "markdown",
      "metadata": {
        "id": "PwiSdDHRESyT"
      },
      "source": [
        "we can also sort, ascending and descending"
      ]
    },
    {
      "cell_type": "code",
      "execution_count": null,
      "metadata": {
        "id": "LHTliotfESyT"
      },
      "outputs": [],
      "source": [
        "ds_readings.sort_values()"
      ]
    },
    {
      "cell_type": "code",
      "execution_count": null,
      "metadata": {
        "id": "D4giCK5-ESyT"
      },
      "outputs": [],
      "source": [
        "ds_readings.sort_values(ascending = False)"
      ]
    },
    {
      "cell_type": "markdown",
      "metadata": {
        "id": "JtyHf_1TESyU"
      },
      "source": [
        "### np.nan"
      ]
    },
    {
      "cell_type": "markdown",
      "metadata": {
        "id": "yKV8388JESyU"
      },
      "source": [
        "`np.nan` refers to a value that should be but do not exist. And pandas provides an easiy function to check emptiness"
      ]
    },
    {
      "cell_type": "markdown",
      "metadata": {
        "id": "9KLYx_-0ESyU"
      },
      "source": [
        "We first add np.nan into the seies"
      ]
    },
    {
      "cell_type": "code",
      "execution_count": null,
      "metadata": {
        "id": "NVLRIf36ESyV"
      },
      "outputs": [],
      "source": [
        "ds_readings[datetime.time(0,3,6)] =  np.nan "
      ]
    },
    {
      "cell_type": "code",
      "execution_count": null,
      "metadata": {
        "id": "UDXAu041ESyV"
      },
      "outputs": [],
      "source": [
        "ds_readings"
      ]
    },
    {
      "cell_type": "code",
      "execution_count": null,
      "metadata": {
        "id": "zqQw5rtkESyV"
      },
      "outputs": [],
      "source": [
        "ds_readings[datetime.time(0,3,7)] =  3.48 "
      ]
    },
    {
      "cell_type": "code",
      "execution_count": null,
      "metadata": {
        "id": "I4w08dP-ESyV"
      },
      "outputs": [],
      "source": [
        "ds_readings"
      ]
    },
    {
      "cell_type": "markdown",
      "metadata": {
        "id": "445wPbHHESyW"
      },
      "source": [
        "And pandas provides method for checking emptiness"
      ]
    },
    {
      "cell_type": "code",
      "execution_count": null,
      "metadata": {
        "id": "VrpZsbWhESyW"
      },
      "outputs": [],
      "source": [
        "ds_readings.isna()"
      ]
    },
    {
      "cell_type": "code",
      "execution_count": null,
      "metadata": {
        "id": "V_GUVk6QESyW"
      },
      "outputs": [],
      "source": [
        "ds_readings[ds_readings.isna()]"
      ]
    },
    {
      "cell_type": "code",
      "execution_count": null,
      "metadata": {
        "id": "FSRYEk0ZESyX"
      },
      "outputs": [],
      "source": [
        "result = ds_readings[ds_readings.isna()]"
      ]
    },
    {
      "cell_type": "code",
      "execution_count": null,
      "metadata": {
        "id": "uesW05SrESyX"
      },
      "outputs": [],
      "source": [
        "result.index"
      ]
    },
    {
      "cell_type": "markdown",
      "metadata": {
        "id": "Ijx1SrG4ESyX"
      },
      "source": [
        "To remove items, use drop. You need to refer to the index value."
      ]
    },
    {
      "cell_type": "code",
      "execution_count": null,
      "metadata": {
        "id": "3chD6wexESyY"
      },
      "outputs": [],
      "source": [
        "ds_readings.drop(result.index)"
      ]
    },
    {
      "cell_type": "code",
      "execution_count": null,
      "metadata": {
        "id": "_Yboe59-ESyY"
      },
      "outputs": [],
      "source": [
        "ds_readings.isna()"
      ]
    },
    {
      "cell_type": "markdown",
      "metadata": {
        "id": "3-LvIXWtESyY"
      },
      "source": [
        "There are reduction methods "
      ]
    },
    {
      "cell_type": "code",
      "execution_count": null,
      "metadata": {
        "id": "4WdUzVvJESyY"
      },
      "outputs": [],
      "source": [
        "ds_readings.isna().any()"
      ]
    },
    {
      "cell_type": "code",
      "execution_count": null,
      "metadata": {
        "id": "W0T6yRVJESyY"
      },
      "outputs": [],
      "source": [
        "ds_readings.isna().all()"
      ]
    },
    {
      "cell_type": "code",
      "execution_count": null,
      "metadata": {
        "id": "04n6pLvUESyY"
      },
      "outputs": [],
      "source": [
        "ds_readings.isna().sum()"
      ]
    },
    {
      "cell_type": "code",
      "execution_count": null,
      "metadata": {
        "id": "LvsOft6NESyZ"
      },
      "outputs": [],
      "source": [
        "ds_readings.unique()"
      ]
    },
    {
      "cell_type": "markdown",
      "metadata": {
        "id": "LnqipF0KESyZ"
      },
      "source": [
        "### Mappings"
      ]
    },
    {
      "cell_type": "code",
      "execution_count": null,
      "metadata": {
        "id": "dZ5dn2kaESyZ"
      },
      "outputs": [],
      "source": [
        "mapping = {0: 10.0, np.nan: 0.0}\n",
        "ds_readings.replace(mapping)"
      ]
    },
    {
      "cell_type": "code",
      "execution_count": null,
      "metadata": {
        "id": "3DNXsAXOESya"
      },
      "outputs": [],
      "source": [
        "def myround(x):\n",
        "    return round(x, 1)"
      ]
    },
    {
      "cell_type": "code",
      "execution_count": null,
      "metadata": {
        "id": "NnwC44v4ESya"
      },
      "outputs": [],
      "source": [
        "ds_readings.map(myround)"
      ]
    },
    {
      "cell_type": "code",
      "execution_count": null,
      "metadata": {
        "id": "LTH-ViSsESya"
      },
      "outputs": [],
      "source": [
        "ds_readings.map(lambda x: round(x,1))"
      ]
    },
    {
      "cell_type": "markdown",
      "metadata": {
        "id": "5ngADmIWESya"
      },
      "source": [
        "## Exercise\n",
        "   * ### Change the index of the list you created in the previous exercise so that it is indexed by time\n",
        "   * ### Insert several np.nan values\n",
        "   * ### remove these values using `.isna()` and `.drop()`\n",
        "   * ### Define a function which squares numbers given as input and apply it accross the list using `.map()`\n",
        "    "
      ]
    },
    {
      "cell_type": "code",
      "source": [
        ""
      ],
      "metadata": {
        "id": "HXainm95MaHF"
      },
      "execution_count": null,
      "outputs": []
    },
    {
      "cell_type": "code",
      "source": [
        ""
      ],
      "metadata": {
        "id": "z_jsMclcMaDt"
      },
      "execution_count": null,
      "outputs": []
    },
    {
      "cell_type": "code",
      "source": [
        "a = 1\n",
        "b = 2"
      ],
      "metadata": {
        "id": "2uubqMxgMZ24"
      },
      "execution_count": 76,
      "outputs": []
    },
    {
      "cell_type": "code",
      "source": [
        "# result => a=2, b= 1\n",
        "\n",
        "# WITHOUT using a 3rd variable!"
      ],
      "metadata": {
        "id": "2NdjOBeHMcNC"
      },
      "execution_count": 77,
      "outputs": []
    },
    {
      "cell_type": "code",
      "source": [
        "# write a PYTHON function to swap values of A and B WITHOUT using a 3rd variable!"
      ],
      "metadata": {
        "id": "DmqYK2nfMm1i"
      },
      "execution_count": 78,
      "outputs": []
    },
    {
      "cell_type": "code",
      "source": [
        "# arithmetic-> +-/*\n",
        "# conditional-> > < <= >=\n",
        "# ternary operation-> (condition)?true_value:false_value\n",
        "# bitwise-> \n",
        "# 2-> 0010\n",
        "# 4-> 0100\n",
        "# 2 & 4-> 0010 & 0100-> \n",
        "\n",
        "#   0010\n",
        "# & 0100\n",
        "# ->   "
      ],
      "metadata": {
        "id": "fsTKPB8_Mv63"
      },
      "execution_count": null,
      "outputs": []
    },
    {
      "cell_type": "code",
      "source": [
        "a=1\n",
        "b= 200\n",
        "a = a^b\n",
        "b = a^b\n",
        "a = a^b \n",
        "a,b"
      ],
      "metadata": {
        "colab": {
          "base_uri": "https://localhost:8080/"
        },
        "id": "_b0SXUYmTWNl",
        "outputId": "5f5209ae-8772-4f00-e83c-e7327d1d4cc0"
      },
      "execution_count": 79,
      "outputs": [
        {
          "output_type": "execute_result",
          "data": {
            "text/plain": [
              "(200, 1)"
            ]
          },
          "metadata": {},
          "execution_count": 79
        }
      ]
    },
    {
      "cell_type": "code",
      "source": [
        "# exclusive OR:\n",
        "# ONLY 1 of the bits should be TRUE!\n",
        "# diff from OR-> at least 1 bit should be true!\n",
        "# OR-> 0 | 1 = 1, 1 | 0 = 1, 1 | 1 = 1, 0 | 0 = 0\n",
        "# XOR-> 0 ^ 1 = 1, 1 ^ 0 = 1, 1 ^ 1 = 0, 0 | 0 = 0"
      ],
      "metadata": {
        "id": "AB1pHsY5Tafh"
      },
      "execution_count": 80,
      "outputs": []
    },
    {
      "cell_type": "code",
      "source": [
        "a = 2\n",
        "# 0010\n",
        "\n",
        "b = 3\n",
        "# 0011\n",
        "\n",
        "#  0010 \n",
        "# ^0011\n",
        "#. 0001-> a; b = 0011\n",
        "\n",
        "#  0001\n",
        "# ^0011\n",
        "#. 0010-> b; a-> 0001\n",
        "\n",
        "#    0001\n",
        "#.  ^0010\n",
        "#->. 0011-> a; b -> 0010\n",
        "\n",
        "# INPLACE operations-> that DOn't USE EXTRA SPACE or MEMORY!\n",
        "\n",
        "a= 1\n",
        "b= 2\n",
        "a = a^b\n",
        "b = a^b\n",
        "a = a^b\n",
        "a,b"
      ],
      "metadata": {
        "colab": {
          "base_uri": "https://localhost:8080/"
        },
        "id": "K5dGdym5Tx9f",
        "outputId": "7b51c1e8-bf05-4a92-9b03-f735ec4dbc1a"
      },
      "execution_count": 95,
      "outputs": [
        {
          "output_type": "execute_result",
          "data": {
            "text/plain": [
              "(2, 1)"
            ]
          },
          "metadata": {},
          "execution_count": 95
        }
      ]
    },
    {
      "cell_type": "code",
      "source": [
        "# any operation-> creates a NEW dataframe!"
      ],
      "metadata": {
        "id": "3E0SLxVzT0f-"
      },
      "execution_count": 83,
      "outputs": []
    },
    {
      "cell_type": "code",
      "source": [
        "a = {'num': [1,2,3,4,5],\n",
        "     'isCop': [True, False, True, False, True]}"
      ],
      "metadata": {
        "id": "8vSWsk13VnRV"
      },
      "execution_count": 84,
      "outputs": []
    },
    {
      "cell_type": "code",
      "source": [
        "import pandas as pd\n",
        "df = pd.DataFrame(a)"
      ],
      "metadata": {
        "id": "NuNeY40eVwgI"
      },
      "execution_count": 85,
      "outputs": []
    },
    {
      "cell_type": "code",
      "source": [
        "df"
      ],
      "metadata": {
        "colab": {
          "base_uri": "https://localhost:8080/",
          "height": 206
        },
        "id": "Bf0n_FUtV0hL",
        "outputId": "a99c2154-8439-46ea-f128-da0742ae3db4"
      },
      "execution_count": 86,
      "outputs": [
        {
          "output_type": "execute_result",
          "data": {
            "text/html": [
              "\n",
              "  <div id=\"df-55b87c0b-bf6c-492b-a903-a0d590bcc42b\">\n",
              "    <div class=\"colab-df-container\">\n",
              "      <div>\n",
              "<style scoped>\n",
              "    .dataframe tbody tr th:only-of-type {\n",
              "        vertical-align: middle;\n",
              "    }\n",
              "\n",
              "    .dataframe tbody tr th {\n",
              "        vertical-align: top;\n",
              "    }\n",
              "\n",
              "    .dataframe thead th {\n",
              "        text-align: right;\n",
              "    }\n",
              "</style>\n",
              "<table border=\"1\" class=\"dataframe\">\n",
              "  <thead>\n",
              "    <tr style=\"text-align: right;\">\n",
              "      <th></th>\n",
              "      <th>num</th>\n",
              "      <th>isCop</th>\n",
              "    </tr>\n",
              "  </thead>\n",
              "  <tbody>\n",
              "    <tr>\n",
              "      <th>0</th>\n",
              "      <td>1</td>\n",
              "      <td>True</td>\n",
              "    </tr>\n",
              "    <tr>\n",
              "      <th>1</th>\n",
              "      <td>2</td>\n",
              "      <td>False</td>\n",
              "    </tr>\n",
              "    <tr>\n",
              "      <th>2</th>\n",
              "      <td>3</td>\n",
              "      <td>True</td>\n",
              "    </tr>\n",
              "    <tr>\n",
              "      <th>3</th>\n",
              "      <td>4</td>\n",
              "      <td>False</td>\n",
              "    </tr>\n",
              "    <tr>\n",
              "      <th>4</th>\n",
              "      <td>5</td>\n",
              "      <td>True</td>\n",
              "    </tr>\n",
              "  </tbody>\n",
              "</table>\n",
              "</div>\n",
              "      <button class=\"colab-df-convert\" onclick=\"convertToInteractive('df-55b87c0b-bf6c-492b-a903-a0d590bcc42b')\"\n",
              "              title=\"Convert this dataframe to an interactive table.\"\n",
              "              style=\"display:none;\">\n",
              "        \n",
              "  <svg xmlns=\"http://www.w3.org/2000/svg\" height=\"24px\"viewBox=\"0 0 24 24\"\n",
              "       width=\"24px\">\n",
              "    <path d=\"M0 0h24v24H0V0z\" fill=\"none\"/>\n",
              "    <path d=\"M18.56 5.44l.94 2.06.94-2.06 2.06-.94-2.06-.94-.94-2.06-.94 2.06-2.06.94zm-11 1L8.5 8.5l.94-2.06 2.06-.94-2.06-.94L8.5 2.5l-.94 2.06-2.06.94zm10 10l.94 2.06.94-2.06 2.06-.94-2.06-.94-.94-2.06-.94 2.06-2.06.94z\"/><path d=\"M17.41 7.96l-1.37-1.37c-.4-.4-.92-.59-1.43-.59-.52 0-1.04.2-1.43.59L10.3 9.45l-7.72 7.72c-.78.78-.78 2.05 0 2.83L4 21.41c.39.39.9.59 1.41.59.51 0 1.02-.2 1.41-.59l7.78-7.78 2.81-2.81c.8-.78.8-2.07 0-2.86zM5.41 20L4 18.59l7.72-7.72 1.47 1.35L5.41 20z\"/>\n",
              "  </svg>\n",
              "      </button>\n",
              "      \n",
              "  <style>\n",
              "    .colab-df-container {\n",
              "      display:flex;\n",
              "      flex-wrap:wrap;\n",
              "      gap: 12px;\n",
              "    }\n",
              "\n",
              "    .colab-df-convert {\n",
              "      background-color: #E8F0FE;\n",
              "      border: none;\n",
              "      border-radius: 50%;\n",
              "      cursor: pointer;\n",
              "      display: none;\n",
              "      fill: #1967D2;\n",
              "      height: 32px;\n",
              "      padding: 0 0 0 0;\n",
              "      width: 32px;\n",
              "    }\n",
              "\n",
              "    .colab-df-convert:hover {\n",
              "      background-color: #E2EBFA;\n",
              "      box-shadow: 0px 1px 2px rgba(60, 64, 67, 0.3), 0px 1px 3px 1px rgba(60, 64, 67, 0.15);\n",
              "      fill: #174EA6;\n",
              "    }\n",
              "\n",
              "    [theme=dark] .colab-df-convert {\n",
              "      background-color: #3B4455;\n",
              "      fill: #D2E3FC;\n",
              "    }\n",
              "\n",
              "    [theme=dark] .colab-df-convert:hover {\n",
              "      background-color: #434B5C;\n",
              "      box-shadow: 0px 1px 3px 1px rgba(0, 0, 0, 0.15);\n",
              "      filter: drop-shadow(0px 1px 2px rgba(0, 0, 0, 0.3));\n",
              "      fill: #FFFFFF;\n",
              "    }\n",
              "  </style>\n",
              "\n",
              "      <script>\n",
              "        const buttonEl =\n",
              "          document.querySelector('#df-55b87c0b-bf6c-492b-a903-a0d590bcc42b button.colab-df-convert');\n",
              "        buttonEl.style.display =\n",
              "          google.colab.kernel.accessAllowed ? 'block' : 'none';\n",
              "\n",
              "        async function convertToInteractive(key) {\n",
              "          const element = document.querySelector('#df-55b87c0b-bf6c-492b-a903-a0d590bcc42b');\n",
              "          const dataTable =\n",
              "            await google.colab.kernel.invokeFunction('convertToInteractive',\n",
              "                                                     [key], {});\n",
              "          if (!dataTable) return;\n",
              "\n",
              "          const docLinkHtml = 'Like what you see? Visit the ' +\n",
              "            '<a target=\"_blank\" href=https://colab.research.google.com/notebooks/data_table.ipynb>data table notebook</a>'\n",
              "            + ' to learn more about interactive tables.';\n",
              "          element.innerHTML = '';\n",
              "          dataTable['output_type'] = 'display_data';\n",
              "          await google.colab.output.renderOutput(dataTable, element);\n",
              "          const docLink = document.createElement('div');\n",
              "          docLink.innerHTML = docLinkHtml;\n",
              "          element.appendChild(docLink);\n",
              "        }\n",
              "      </script>\n",
              "    </div>\n",
              "  </div>\n",
              "  "
            ],
            "text/plain": [
              "   num  isCop\n",
              "0    1   True\n",
              "1    2  False\n",
              "2    3   True\n",
              "3    4  False\n",
              "4    5   True"
            ]
          },
          "metadata": {},
          "execution_count": 86
        }
      ]
    },
    {
      "cell_type": "code",
      "source": [
        "df2 = df.set_index('num')\n",
        "df2"
      ],
      "metadata": {
        "colab": {
          "base_uri": "https://localhost:8080/",
          "height": 237
        },
        "id": "7UjmO1iPV2rL",
        "outputId": "ca705baa-c8a6-42d3-bf1a-c3ddb5ba11cb"
      },
      "execution_count": 90,
      "outputs": [
        {
          "output_type": "execute_result",
          "data": {
            "text/html": [
              "\n",
              "  <div id=\"df-0850da93-f389-4fdc-ba29-57775de82d25\">\n",
              "    <div class=\"colab-df-container\">\n",
              "      <div>\n",
              "<style scoped>\n",
              "    .dataframe tbody tr th:only-of-type {\n",
              "        vertical-align: middle;\n",
              "    }\n",
              "\n",
              "    .dataframe tbody tr th {\n",
              "        vertical-align: top;\n",
              "    }\n",
              "\n",
              "    .dataframe thead th {\n",
              "        text-align: right;\n",
              "    }\n",
              "</style>\n",
              "<table border=\"1\" class=\"dataframe\">\n",
              "  <thead>\n",
              "    <tr style=\"text-align: right;\">\n",
              "      <th></th>\n",
              "      <th>isCop</th>\n",
              "    </tr>\n",
              "    <tr>\n",
              "      <th>num</th>\n",
              "      <th></th>\n",
              "    </tr>\n",
              "  </thead>\n",
              "  <tbody>\n",
              "    <tr>\n",
              "      <th>1</th>\n",
              "      <td>True</td>\n",
              "    </tr>\n",
              "    <tr>\n",
              "      <th>2</th>\n",
              "      <td>False</td>\n",
              "    </tr>\n",
              "    <tr>\n",
              "      <th>3</th>\n",
              "      <td>True</td>\n",
              "    </tr>\n",
              "    <tr>\n",
              "      <th>4</th>\n",
              "      <td>False</td>\n",
              "    </tr>\n",
              "    <tr>\n",
              "      <th>5</th>\n",
              "      <td>True</td>\n",
              "    </tr>\n",
              "  </tbody>\n",
              "</table>\n",
              "</div>\n",
              "      <button class=\"colab-df-convert\" onclick=\"convertToInteractive('df-0850da93-f389-4fdc-ba29-57775de82d25')\"\n",
              "              title=\"Convert this dataframe to an interactive table.\"\n",
              "              style=\"display:none;\">\n",
              "        \n",
              "  <svg xmlns=\"http://www.w3.org/2000/svg\" height=\"24px\"viewBox=\"0 0 24 24\"\n",
              "       width=\"24px\">\n",
              "    <path d=\"M0 0h24v24H0V0z\" fill=\"none\"/>\n",
              "    <path d=\"M18.56 5.44l.94 2.06.94-2.06 2.06-.94-2.06-.94-.94-2.06-.94 2.06-2.06.94zm-11 1L8.5 8.5l.94-2.06 2.06-.94-2.06-.94L8.5 2.5l-.94 2.06-2.06.94zm10 10l.94 2.06.94-2.06 2.06-.94-2.06-.94-.94-2.06-.94 2.06-2.06.94z\"/><path d=\"M17.41 7.96l-1.37-1.37c-.4-.4-.92-.59-1.43-.59-.52 0-1.04.2-1.43.59L10.3 9.45l-7.72 7.72c-.78.78-.78 2.05 0 2.83L4 21.41c.39.39.9.59 1.41.59.51 0 1.02-.2 1.41-.59l7.78-7.78 2.81-2.81c.8-.78.8-2.07 0-2.86zM5.41 20L4 18.59l7.72-7.72 1.47 1.35L5.41 20z\"/>\n",
              "  </svg>\n",
              "      </button>\n",
              "      \n",
              "  <style>\n",
              "    .colab-df-container {\n",
              "      display:flex;\n",
              "      flex-wrap:wrap;\n",
              "      gap: 12px;\n",
              "    }\n",
              "\n",
              "    .colab-df-convert {\n",
              "      background-color: #E8F0FE;\n",
              "      border: none;\n",
              "      border-radius: 50%;\n",
              "      cursor: pointer;\n",
              "      display: none;\n",
              "      fill: #1967D2;\n",
              "      height: 32px;\n",
              "      padding: 0 0 0 0;\n",
              "      width: 32px;\n",
              "    }\n",
              "\n",
              "    .colab-df-convert:hover {\n",
              "      background-color: #E2EBFA;\n",
              "      box-shadow: 0px 1px 2px rgba(60, 64, 67, 0.3), 0px 1px 3px 1px rgba(60, 64, 67, 0.15);\n",
              "      fill: #174EA6;\n",
              "    }\n",
              "\n",
              "    [theme=dark] .colab-df-convert {\n",
              "      background-color: #3B4455;\n",
              "      fill: #D2E3FC;\n",
              "    }\n",
              "\n",
              "    [theme=dark] .colab-df-convert:hover {\n",
              "      background-color: #434B5C;\n",
              "      box-shadow: 0px 1px 3px 1px rgba(0, 0, 0, 0.15);\n",
              "      filter: drop-shadow(0px 1px 2px rgba(0, 0, 0, 0.3));\n",
              "      fill: #FFFFFF;\n",
              "    }\n",
              "  </style>\n",
              "\n",
              "      <script>\n",
              "        const buttonEl =\n",
              "          document.querySelector('#df-0850da93-f389-4fdc-ba29-57775de82d25 button.colab-df-convert');\n",
              "        buttonEl.style.display =\n",
              "          google.colab.kernel.accessAllowed ? 'block' : 'none';\n",
              "\n",
              "        async function convertToInteractive(key) {\n",
              "          const element = document.querySelector('#df-0850da93-f389-4fdc-ba29-57775de82d25');\n",
              "          const dataTable =\n",
              "            await google.colab.kernel.invokeFunction('convertToInteractive',\n",
              "                                                     [key], {});\n",
              "          if (!dataTable) return;\n",
              "\n",
              "          const docLinkHtml = 'Like what you see? Visit the ' +\n",
              "            '<a target=\"_blank\" href=https://colab.research.google.com/notebooks/data_table.ipynb>data table notebook</a>'\n",
              "            + ' to learn more about interactive tables.';\n",
              "          element.innerHTML = '';\n",
              "          dataTable['output_type'] = 'display_data';\n",
              "          await google.colab.output.renderOutput(dataTable, element);\n",
              "          const docLink = document.createElement('div');\n",
              "          docLink.innerHTML = docLinkHtml;\n",
              "          element.appendChild(docLink);\n",
              "        }\n",
              "      </script>\n",
              "    </div>\n",
              "  </div>\n",
              "  "
            ],
            "text/plain": [
              "     isCop\n",
              "num       \n",
              "1     True\n",
              "2    False\n",
              "3     True\n",
              "4    False\n",
              "5     True"
            ]
          },
          "metadata": {},
          "execution_count": 90
        }
      ]
    },
    {
      "cell_type": "code",
      "source": [
        "df.set_index('num', inplace=True)"
      ],
      "metadata": {
        "colab": {
          "base_uri": "https://localhost:8080/",
          "height": 206
        },
        "id": "Xn4kNyUrWBlD",
        "outputId": "8a4334eb-7ccb-4905-9ca1-39386d56edb3"
      },
      "execution_count": 89,
      "outputs": [
        {
          "output_type": "execute_result",
          "data": {
            "text/html": [
              "\n",
              "  <div id=\"df-93055e56-6cc9-4f0e-8680-3835687cfada\">\n",
              "    <div class=\"colab-df-container\">\n",
              "      <div>\n",
              "<style scoped>\n",
              "    .dataframe tbody tr th:only-of-type {\n",
              "        vertical-align: middle;\n",
              "    }\n",
              "\n",
              "    .dataframe tbody tr th {\n",
              "        vertical-align: top;\n",
              "    }\n",
              "\n",
              "    .dataframe thead th {\n",
              "        text-align: right;\n",
              "    }\n",
              "</style>\n",
              "<table border=\"1\" class=\"dataframe\">\n",
              "  <thead>\n",
              "    <tr style=\"text-align: right;\">\n",
              "      <th></th>\n",
              "      <th>num</th>\n",
              "      <th>isCop</th>\n",
              "    </tr>\n",
              "  </thead>\n",
              "  <tbody>\n",
              "    <tr>\n",
              "      <th>0</th>\n",
              "      <td>1</td>\n",
              "      <td>True</td>\n",
              "    </tr>\n",
              "    <tr>\n",
              "      <th>1</th>\n",
              "      <td>2</td>\n",
              "      <td>False</td>\n",
              "    </tr>\n",
              "    <tr>\n",
              "      <th>2</th>\n",
              "      <td>3</td>\n",
              "      <td>True</td>\n",
              "    </tr>\n",
              "    <tr>\n",
              "      <th>3</th>\n",
              "      <td>4</td>\n",
              "      <td>False</td>\n",
              "    </tr>\n",
              "    <tr>\n",
              "      <th>4</th>\n",
              "      <td>5</td>\n",
              "      <td>True</td>\n",
              "    </tr>\n",
              "  </tbody>\n",
              "</table>\n",
              "</div>\n",
              "      <button class=\"colab-df-convert\" onclick=\"convertToInteractive('df-93055e56-6cc9-4f0e-8680-3835687cfada')\"\n",
              "              title=\"Convert this dataframe to an interactive table.\"\n",
              "              style=\"display:none;\">\n",
              "        \n",
              "  <svg xmlns=\"http://www.w3.org/2000/svg\" height=\"24px\"viewBox=\"0 0 24 24\"\n",
              "       width=\"24px\">\n",
              "    <path d=\"M0 0h24v24H0V0z\" fill=\"none\"/>\n",
              "    <path d=\"M18.56 5.44l.94 2.06.94-2.06 2.06-.94-2.06-.94-.94-2.06-.94 2.06-2.06.94zm-11 1L8.5 8.5l.94-2.06 2.06-.94-2.06-.94L8.5 2.5l-.94 2.06-2.06.94zm10 10l.94 2.06.94-2.06 2.06-.94-2.06-.94-.94-2.06-.94 2.06-2.06.94z\"/><path d=\"M17.41 7.96l-1.37-1.37c-.4-.4-.92-.59-1.43-.59-.52 0-1.04.2-1.43.59L10.3 9.45l-7.72 7.72c-.78.78-.78 2.05 0 2.83L4 21.41c.39.39.9.59 1.41.59.51 0 1.02-.2 1.41-.59l7.78-7.78 2.81-2.81c.8-.78.8-2.07 0-2.86zM5.41 20L4 18.59l7.72-7.72 1.47 1.35L5.41 20z\"/>\n",
              "  </svg>\n",
              "      </button>\n",
              "      \n",
              "  <style>\n",
              "    .colab-df-container {\n",
              "      display:flex;\n",
              "      flex-wrap:wrap;\n",
              "      gap: 12px;\n",
              "    }\n",
              "\n",
              "    .colab-df-convert {\n",
              "      background-color: #E8F0FE;\n",
              "      border: none;\n",
              "      border-radius: 50%;\n",
              "      cursor: pointer;\n",
              "      display: none;\n",
              "      fill: #1967D2;\n",
              "      height: 32px;\n",
              "      padding: 0 0 0 0;\n",
              "      width: 32px;\n",
              "    }\n",
              "\n",
              "    .colab-df-convert:hover {\n",
              "      background-color: #E2EBFA;\n",
              "      box-shadow: 0px 1px 2px rgba(60, 64, 67, 0.3), 0px 1px 3px 1px rgba(60, 64, 67, 0.15);\n",
              "      fill: #174EA6;\n",
              "    }\n",
              "\n",
              "    [theme=dark] .colab-df-convert {\n",
              "      background-color: #3B4455;\n",
              "      fill: #D2E3FC;\n",
              "    }\n",
              "\n",
              "    [theme=dark] .colab-df-convert:hover {\n",
              "      background-color: #434B5C;\n",
              "      box-shadow: 0px 1px 3px 1px rgba(0, 0, 0, 0.15);\n",
              "      filter: drop-shadow(0px 1px 2px rgba(0, 0, 0, 0.3));\n",
              "      fill: #FFFFFF;\n",
              "    }\n",
              "  </style>\n",
              "\n",
              "      <script>\n",
              "        const buttonEl =\n",
              "          document.querySelector('#df-93055e56-6cc9-4f0e-8680-3835687cfada button.colab-df-convert');\n",
              "        buttonEl.style.display =\n",
              "          google.colab.kernel.accessAllowed ? 'block' : 'none';\n",
              "\n",
              "        async function convertToInteractive(key) {\n",
              "          const element = document.querySelector('#df-93055e56-6cc9-4f0e-8680-3835687cfada');\n",
              "          const dataTable =\n",
              "            await google.colab.kernel.invokeFunction('convertToInteractive',\n",
              "                                                     [key], {});\n",
              "          if (!dataTable) return;\n",
              "\n",
              "          const docLinkHtml = 'Like what you see? Visit the ' +\n",
              "            '<a target=\"_blank\" href=https://colab.research.google.com/notebooks/data_table.ipynb>data table notebook</a>'\n",
              "            + ' to learn more about interactive tables.';\n",
              "          element.innerHTML = '';\n",
              "          dataTable['output_type'] = 'display_data';\n",
              "          await google.colab.output.renderOutput(dataTable, element);\n",
              "          const docLink = document.createElement('div');\n",
              "          docLink.innerHTML = docLinkHtml;\n",
              "          element.appendChild(docLink);\n",
              "        }\n",
              "      </script>\n",
              "    </div>\n",
              "  </div>\n",
              "  "
            ],
            "text/plain": [
              "   num  isCop\n",
              "0    1   True\n",
              "1    2  False\n",
              "2    3   True\n",
              "3    4  False\n",
              "4    5   True"
            ]
          },
          "metadata": {},
          "execution_count": 89
        }
      ]
    },
    {
      "cell_type": "code",
      "source": [
        "# In MEMORY-> inplace dataframes, BITWISE Operations"
      ],
      "metadata": {
        "id": "NnECXR1rWN5D"
      },
      "execution_count": 91,
      "outputs": []
    },
    {
      "cell_type": "code",
      "source": [
        "# generate all 4 bit binary numbers\n",
        "# bit options-> 0 and 1\n",
        "# generate all possible permutations of 0 and 1\n",
        "for a in [0,1]:\n",
        "  for b in [0,1]:\n",
        "    for c in [0,1]:\n",
        "      for d in [0,1]:\n",
        "        print(a ,b,c,d)\n",
        "\n",
        "# GRID SEARCH \n",
        "\n",
        "\n",
        "# 10 planets-> 4 factors-> Oxygen, Nitrogen, Water, U\n",
        "\n",
        "#       O N H2O U\n",
        "# P1    \n",
        "# P2    \n",
        "# P3...."
      ],
      "metadata": {
        "colab": {
          "base_uri": "https://localhost:8080/"
        },
        "id": "g9b3YdJ9W4PQ",
        "outputId": "62b69339-3193-4e24-c3a4-bc38036994f2"
      },
      "execution_count": 92,
      "outputs": [
        {
          "output_type": "stream",
          "name": "stdout",
          "text": [
            "0 0 0 0\n",
            "0 0 0 1\n",
            "0 0 1 0\n",
            "0 0 1 1\n",
            "0 1 0 0\n",
            "0 1 0 1\n",
            "0 1 1 0\n",
            "0 1 1 1\n",
            "1 0 0 0\n",
            "1 0 0 1\n",
            "1 0 1 0\n",
            "1 0 1 1\n",
            "1 1 0 0\n",
            "1 1 0 1\n",
            "1 1 1 0\n",
            "1 1 1 1\n"
          ]
        }
      ]
    },
    {
      "cell_type": "code",
      "source": [
        "# print all 3 digit hexadecimals\n",
        "hex = [0,1,2,3,4,5,6,7,8,9,'A','B','C','D','E','F']\n",
        "for a in hex:\n",
        "  for b in hex:\n",
        "    for c in hex:\n",
        "        print(a ,b,c, end=',')"
      ],
      "metadata": {
        "colab": {
          "base_uri": "https://localhost:8080/"
        },
        "id": "a6Yh6cHofz9C",
        "outputId": "d7a99a03-cf1c-48c9-ac8f-7fad453b6c59"
      },
      "execution_count": 94,
      "outputs": [
        {
          "output_type": "stream",
          "name": "stdout",
          "text": [
            "0 0 0,0 0 1,0 0 2,0 0 3,0 0 4,0 0 5,0 0 6,0 0 7,0 0 8,0 0 9,0 0 A,0 0 B,0 0 C,0 0 D,0 0 E,0 0 F,0 1 0,0 1 1,0 1 2,0 1 3,0 1 4,0 1 5,0 1 6,0 1 7,0 1 8,0 1 9,0 1 A,0 1 B,0 1 C,0 1 D,0 1 E,0 1 F,0 2 0,0 2 1,0 2 2,0 2 3,0 2 4,0 2 5,0 2 6,0 2 7,0 2 8,0 2 9,0 2 A,0 2 B,0 2 C,0 2 D,0 2 E,0 2 F,0 3 0,0 3 1,0 3 2,0 3 3,0 3 4,0 3 5,0 3 6,0 3 7,0 3 8,0 3 9,0 3 A,0 3 B,0 3 C,0 3 D,0 3 E,0 3 F,0 4 0,0 4 1,0 4 2,0 4 3,0 4 4,0 4 5,0 4 6,0 4 7,0 4 8,0 4 9,0 4 A,0 4 B,0 4 C,0 4 D,0 4 E,0 4 F,0 5 0,0 5 1,0 5 2,0 5 3,0 5 4,0 5 5,0 5 6,0 5 7,0 5 8,0 5 9,0 5 A,0 5 B,0 5 C,0 5 D,0 5 E,0 5 F,0 6 0,0 6 1,0 6 2,0 6 3,0 6 4,0 6 5,0 6 6,0 6 7,0 6 8,0 6 9,0 6 A,0 6 B,0 6 C,0 6 D,0 6 E,0 6 F,0 7 0,0 7 1,0 7 2,0 7 3,0 7 4,0 7 5,0 7 6,0 7 7,0 7 8,0 7 9,0 7 A,0 7 B,0 7 C,0 7 D,0 7 E,0 7 F,0 8 0,0 8 1,0 8 2,0 8 3,0 8 4,0 8 5,0 8 6,0 8 7,0 8 8,0 8 9,0 8 A,0 8 B,0 8 C,0 8 D,0 8 E,0 8 F,0 9 0,0 9 1,0 9 2,0 9 3,0 9 4,0 9 5,0 9 6,0 9 7,0 9 8,0 9 9,0 9 A,0 9 B,0 9 C,0 9 D,0 9 E,0 9 F,0 A 0,0 A 1,0 A 2,0 A 3,0 A 4,0 A 5,0 A 6,0 A 7,0 A 8,0 A 9,0 A A,0 A B,0 A C,0 A D,0 A E,0 A F,0 B 0,0 B 1,0 B 2,0 B 3,0 B 4,0 B 5,0 B 6,0 B 7,0 B 8,0 B 9,0 B A,0 B B,0 B C,0 B D,0 B E,0 B F,0 C 0,0 C 1,0 C 2,0 C 3,0 C 4,0 C 5,0 C 6,0 C 7,0 C 8,0 C 9,0 C A,0 C B,0 C C,0 C D,0 C E,0 C F,0 D 0,0 D 1,0 D 2,0 D 3,0 D 4,0 D 5,0 D 6,0 D 7,0 D 8,0 D 9,0 D A,0 D B,0 D C,0 D D,0 D E,0 D F,0 E 0,0 E 1,0 E 2,0 E 3,0 E 4,0 E 5,0 E 6,0 E 7,0 E 8,0 E 9,0 E A,0 E B,0 E C,0 E D,0 E E,0 E F,0 F 0,0 F 1,0 F 2,0 F 3,0 F 4,0 F 5,0 F 6,0 F 7,0 F 8,0 F 9,0 F A,0 F B,0 F C,0 F D,0 F E,0 F F,1 0 0,1 0 1,1 0 2,1 0 3,1 0 4,1 0 5,1 0 6,1 0 7,1 0 8,1 0 9,1 0 A,1 0 B,1 0 C,1 0 D,1 0 E,1 0 F,1 1 0,1 1 1,1 1 2,1 1 3,1 1 4,1 1 5,1 1 6,1 1 7,1 1 8,1 1 9,1 1 A,1 1 B,1 1 C,1 1 D,1 1 E,1 1 F,1 2 0,1 2 1,1 2 2,1 2 3,1 2 4,1 2 5,1 2 6,1 2 7,1 2 8,1 2 9,1 2 A,1 2 B,1 2 C,1 2 D,1 2 E,1 2 F,1 3 0,1 3 1,1 3 2,1 3 3,1 3 4,1 3 5,1 3 6,1 3 7,1 3 8,1 3 9,1 3 A,1 3 B,1 3 C,1 3 D,1 3 E,1 3 F,1 4 0,1 4 1,1 4 2,1 4 3,1 4 4,1 4 5,1 4 6,1 4 7,1 4 8,1 4 9,1 4 A,1 4 B,1 4 C,1 4 D,1 4 E,1 4 F,1 5 0,1 5 1,1 5 2,1 5 3,1 5 4,1 5 5,1 5 6,1 5 7,1 5 8,1 5 9,1 5 A,1 5 B,1 5 C,1 5 D,1 5 E,1 5 F,1 6 0,1 6 1,1 6 2,1 6 3,1 6 4,1 6 5,1 6 6,1 6 7,1 6 8,1 6 9,1 6 A,1 6 B,1 6 C,1 6 D,1 6 E,1 6 F,1 7 0,1 7 1,1 7 2,1 7 3,1 7 4,1 7 5,1 7 6,1 7 7,1 7 8,1 7 9,1 7 A,1 7 B,1 7 C,1 7 D,1 7 E,1 7 F,1 8 0,1 8 1,1 8 2,1 8 3,1 8 4,1 8 5,1 8 6,1 8 7,1 8 8,1 8 9,1 8 A,1 8 B,1 8 C,1 8 D,1 8 E,1 8 F,1 9 0,1 9 1,1 9 2,1 9 3,1 9 4,1 9 5,1 9 6,1 9 7,1 9 8,1 9 9,1 9 A,1 9 B,1 9 C,1 9 D,1 9 E,1 9 F,1 A 0,1 A 1,1 A 2,1 A 3,1 A 4,1 A 5,1 A 6,1 A 7,1 A 8,1 A 9,1 A A,1 A B,1 A C,1 A D,1 A E,1 A F,1 B 0,1 B 1,1 B 2,1 B 3,1 B 4,1 B 5,1 B 6,1 B 7,1 B 8,1 B 9,1 B A,1 B B,1 B C,1 B D,1 B E,1 B F,1 C 0,1 C 1,1 C 2,1 C 3,1 C 4,1 C 5,1 C 6,1 C 7,1 C 8,1 C 9,1 C A,1 C B,1 C C,1 C D,1 C E,1 C F,1 D 0,1 D 1,1 D 2,1 D 3,1 D 4,1 D 5,1 D 6,1 D 7,1 D 8,1 D 9,1 D A,1 D B,1 D C,1 D D,1 D E,1 D F,1 E 0,1 E 1,1 E 2,1 E 3,1 E 4,1 E 5,1 E 6,1 E 7,1 E 8,1 E 9,1 E A,1 E B,1 E C,1 E D,1 E E,1 E F,1 F 0,1 F 1,1 F 2,1 F 3,1 F 4,1 F 5,1 F 6,1 F 7,1 F 8,1 F 9,1 F A,1 F B,1 F C,1 F D,1 F E,1 F F,2 0 0,2 0 1,2 0 2,2 0 3,2 0 4,2 0 5,2 0 6,2 0 7,2 0 8,2 0 9,2 0 A,2 0 B,2 0 C,2 0 D,2 0 E,2 0 F,2 1 0,2 1 1,2 1 2,2 1 3,2 1 4,2 1 5,2 1 6,2 1 7,2 1 8,2 1 9,2 1 A,2 1 B,2 1 C,2 1 D,2 1 E,2 1 F,2 2 0,2 2 1,2 2 2,2 2 3,2 2 4,2 2 5,2 2 6,2 2 7,2 2 8,2 2 9,2 2 A,2 2 B,2 2 C,2 2 D,2 2 E,2 2 F,2 3 0,2 3 1,2 3 2,2 3 3,2 3 4,2 3 5,2 3 6,2 3 7,2 3 8,2 3 9,2 3 A,2 3 B,2 3 C,2 3 D,2 3 E,2 3 F,2 4 0,2 4 1,2 4 2,2 4 3,2 4 4,2 4 5,2 4 6,2 4 7,2 4 8,2 4 9,2 4 A,2 4 B,2 4 C,2 4 D,2 4 E,2 4 F,2 5 0,2 5 1,2 5 2,2 5 3,2 5 4,2 5 5,2 5 6,2 5 7,2 5 8,2 5 9,2 5 A,2 5 B,2 5 C,2 5 D,2 5 E,2 5 F,2 6 0,2 6 1,2 6 2,2 6 3,2 6 4,2 6 5,2 6 6,2 6 7,2 6 8,2 6 9,2 6 A,2 6 B,2 6 C,2 6 D,2 6 E,2 6 F,2 7 0,2 7 1,2 7 2,2 7 3,2 7 4,2 7 5,2 7 6,2 7 7,2 7 8,2 7 9,2 7 A,2 7 B,2 7 C,2 7 D,2 7 E,2 7 F,2 8 0,2 8 1,2 8 2,2 8 3,2 8 4,2 8 5,2 8 6,2 8 7,2 8 8,2 8 9,2 8 A,2 8 B,2 8 C,2 8 D,2 8 E,2 8 F,2 9 0,2 9 1,2 9 2,2 9 3,2 9 4,2 9 5,2 9 6,2 9 7,2 9 8,2 9 9,2 9 A,2 9 B,2 9 C,2 9 D,2 9 E,2 9 F,2 A 0,2 A 1,2 A 2,2 A 3,2 A 4,2 A 5,2 A 6,2 A 7,2 A 8,2 A 9,2 A A,2 A B,2 A C,2 A D,2 A E,2 A F,2 B 0,2 B 1,2 B 2,2 B 3,2 B 4,2 B 5,2 B 6,2 B 7,2 B 8,2 B 9,2 B A,2 B B,2 B C,2 B D,2 B E,2 B F,2 C 0,2 C 1,2 C 2,2 C 3,2 C 4,2 C 5,2 C 6,2 C 7,2 C 8,2 C 9,2 C A,2 C B,2 C C,2 C D,2 C E,2 C F,2 D 0,2 D 1,2 D 2,2 D 3,2 D 4,2 D 5,2 D 6,2 D 7,2 D 8,2 D 9,2 D A,2 D B,2 D C,2 D D,2 D E,2 D F,2 E 0,2 E 1,2 E 2,2 E 3,2 E 4,2 E 5,2 E 6,2 E 7,2 E 8,2 E 9,2 E A,2 E B,2 E C,2 E D,2 E E,2 E F,2 F 0,2 F 1,2 F 2,2 F 3,2 F 4,2 F 5,2 F 6,2 F 7,2 F 8,2 F 9,2 F A,2 F B,2 F C,2 F D,2 F E,2 F F,3 0 0,3 0 1,3 0 2,3 0 3,3 0 4,3 0 5,3 0 6,3 0 7,3 0 8,3 0 9,3 0 A,3 0 B,3 0 C,3 0 D,3 0 E,3 0 F,3 1 0,3 1 1,3 1 2,3 1 3,3 1 4,3 1 5,3 1 6,3 1 7,3 1 8,3 1 9,3 1 A,3 1 B,3 1 C,3 1 D,3 1 E,3 1 F,3 2 0,3 2 1,3 2 2,3 2 3,3 2 4,3 2 5,3 2 6,3 2 7,3 2 8,3 2 9,3 2 A,3 2 B,3 2 C,3 2 D,3 2 E,3 2 F,3 3 0,3 3 1,3 3 2,3 3 3,3 3 4,3 3 5,3 3 6,3 3 7,3 3 8,3 3 9,3 3 A,3 3 B,3 3 C,3 3 D,3 3 E,3 3 F,3 4 0,3 4 1,3 4 2,3 4 3,3 4 4,3 4 5,3 4 6,3 4 7,3 4 8,3 4 9,3 4 A,3 4 B,3 4 C,3 4 D,3 4 E,3 4 F,3 5 0,3 5 1,3 5 2,3 5 3,3 5 4,3 5 5,3 5 6,3 5 7,3 5 8,3 5 9,3 5 A,3 5 B,3 5 C,3 5 D,3 5 E,3 5 F,3 6 0,3 6 1,3 6 2,3 6 3,3 6 4,3 6 5,3 6 6,3 6 7,3 6 8,3 6 9,3 6 A,3 6 B,3 6 C,3 6 D,3 6 E,3 6 F,3 7 0,3 7 1,3 7 2,3 7 3,3 7 4,3 7 5,3 7 6,3 7 7,3 7 8,3 7 9,3 7 A,3 7 B,3 7 C,3 7 D,3 7 E,3 7 F,3 8 0,3 8 1,3 8 2,3 8 3,3 8 4,3 8 5,3 8 6,3 8 7,3 8 8,3 8 9,3 8 A,3 8 B,3 8 C,3 8 D,3 8 E,3 8 F,3 9 0,3 9 1,3 9 2,3 9 3,3 9 4,3 9 5,3 9 6,3 9 7,3 9 8,3 9 9,3 9 A,3 9 B,3 9 C,3 9 D,3 9 E,3 9 F,3 A 0,3 A 1,3 A 2,3 A 3,3 A 4,3 A 5,3 A 6,3 A 7,3 A 8,3 A 9,3 A A,3 A B,3 A C,3 A D,3 A E,3 A F,3 B 0,3 B 1,3 B 2,3 B 3,3 B 4,3 B 5,3 B 6,3 B 7,3 B 8,3 B 9,3 B A,3 B B,3 B C,3 B D,3 B E,3 B F,3 C 0,3 C 1,3 C 2,3 C 3,3 C 4,3 C 5,3 C 6,3 C 7,3 C 8,3 C 9,3 C A,3 C B,3 C C,3 C D,3 C E,3 C F,3 D 0,3 D 1,3 D 2,3 D 3,3 D 4,3 D 5,3 D 6,3 D 7,3 D 8,3 D 9,3 D A,3 D B,3 D C,3 D D,3 D E,3 D F,3 E 0,3 E 1,3 E 2,3 E 3,3 E 4,3 E 5,3 E 6,3 E 7,3 E 8,3 E 9,3 E A,3 E B,3 E C,3 E D,3 E E,3 E F,3 F 0,3 F 1,3 F 2,3 F 3,3 F 4,3 F 5,3 F 6,3 F 7,3 F 8,3 F 9,3 F A,3 F B,3 F C,3 F D,3 F E,3 F F,4 0 0,4 0 1,4 0 2,4 0 3,4 0 4,4 0 5,4 0 6,4 0 7,4 0 8,4 0 9,4 0 A,4 0 B,4 0 C,4 0 D,4 0 E,4 0 F,4 1 0,4 1 1,4 1 2,4 1 3,4 1 4,4 1 5,4 1 6,4 1 7,4 1 8,4 1 9,4 1 A,4 1 B,4 1 C,4 1 D,4 1 E,4 1 F,4 2 0,4 2 1,4 2 2,4 2 3,4 2 4,4 2 5,4 2 6,4 2 7,4 2 8,4 2 9,4 2 A,4 2 B,4 2 C,4 2 D,4 2 E,4 2 F,4 3 0,4 3 1,4 3 2,4 3 3,4 3 4,4 3 5,4 3 6,4 3 7,4 3 8,4 3 9,4 3 A,4 3 B,4 3 C,4 3 D,4 3 E,4 3 F,4 4 0,4 4 1,4 4 2,4 4 3,4 4 4,4 4 5,4 4 6,4 4 7,4 4 8,4 4 9,4 4 A,4 4 B,4 4 C,4 4 D,4 4 E,4 4 F,4 5 0,4 5 1,4 5 2,4 5 3,4 5 4,4 5 5,4 5 6,4 5 7,4 5 8,4 5 9,4 5 A,4 5 B,4 5 C,4 5 D,4 5 E,4 5 F,4 6 0,4 6 1,4 6 2,4 6 3,4 6 4,4 6 5,4 6 6,4 6 7,4 6 8,4 6 9,4 6 A,4 6 B,4 6 C,4 6 D,4 6 E,4 6 F,4 7 0,4 7 1,4 7 2,4 7 3,4 7 4,4 7 5,4 7 6,4 7 7,4 7 8,4 7 9,4 7 A,4 7 B,4 7 C,4 7 D,4 7 E,4 7 F,4 8 0,4 8 1,4 8 2,4 8 3,4 8 4,4 8 5,4 8 6,4 8 7,4 8 8,4 8 9,4 8 A,4 8 B,4 8 C,4 8 D,4 8 E,4 8 F,4 9 0,4 9 1,4 9 2,4 9 3,4 9 4,4 9 5,4 9 6,4 9 7,4 9 8,4 9 9,4 9 A,4 9 B,4 9 C,4 9 D,4 9 E,4 9 F,4 A 0,4 A 1,4 A 2,4 A 3,4 A 4,4 A 5,4 A 6,4 A 7,4 A 8,4 A 9,4 A A,4 A B,4 A C,4 A D,4 A E,4 A F,4 B 0,4 B 1,4 B 2,4 B 3,4 B 4,4 B 5,4 B 6,4 B 7,4 B 8,4 B 9,4 B A,4 B B,4 B C,4 B D,4 B E,4 B F,4 C 0,4 C 1,4 C 2,4 C 3,4 C 4,4 C 5,4 C 6,4 C 7,4 C 8,4 C 9,4 C A,4 C B,4 C C,4 C D,4 C E,4 C F,4 D 0,4 D 1,4 D 2,4 D 3,4 D 4,4 D 5,4 D 6,4 D 7,4 D 8,4 D 9,4 D A,4 D B,4 D C,4 D D,4 D E,4 D F,4 E 0,4 E 1,4 E 2,4 E 3,4 E 4,4 E 5,4 E 6,4 E 7,4 E 8,4 E 9,4 E A,4 E B,4 E C,4 E D,4 E E,4 E F,4 F 0,4 F 1,4 F 2,4 F 3,4 F 4,4 F 5,4 F 6,4 F 7,4 F 8,4 F 9,4 F A,4 F B,4 F C,4 F D,4 F E,4 F F,5 0 0,5 0 1,5 0 2,5 0 3,5 0 4,5 0 5,5 0 6,5 0 7,5 0 8,5 0 9,5 0 A,5 0 B,5 0 C,5 0 D,5 0 E,5 0 F,5 1 0,5 1 1,5 1 2,5 1 3,5 1 4,5 1 5,5 1 6,5 1 7,5 1 8,5 1 9,5 1 A,5 1 B,5 1 C,5 1 D,5 1 E,5 1 F,5 2 0,5 2 1,5 2 2,5 2 3,5 2 4,5 2 5,5 2 6,5 2 7,5 2 8,5 2 9,5 2 A,5 2 B,5 2 C,5 2 D,5 2 E,5 2 F,5 3 0,5 3 1,5 3 2,5 3 3,5 3 4,5 3 5,5 3 6,5 3 7,5 3 8,5 3 9,5 3 A,5 3 B,5 3 C,5 3 D,5 3 E,5 3 F,5 4 0,5 4 1,5 4 2,5 4 3,5 4 4,5 4 5,5 4 6,5 4 7,5 4 8,5 4 9,5 4 A,5 4 B,5 4 C,5 4 D,5 4 E,5 4 F,5 5 0,5 5 1,5 5 2,5 5 3,5 5 4,5 5 5,5 5 6,5 5 7,5 5 8,5 5 9,5 5 A,5 5 B,5 5 C,5 5 D,5 5 E,5 5 F,5 6 0,5 6 1,5 6 2,5 6 3,5 6 4,5 6 5,5 6 6,5 6 7,5 6 8,5 6 9,5 6 A,5 6 B,5 6 C,5 6 D,5 6 E,5 6 F,5 7 0,5 7 1,5 7 2,5 7 3,5 7 4,5 7 5,5 7 6,5 7 7,5 7 8,5 7 9,5 7 A,5 7 B,5 7 C,5 7 D,5 7 E,5 7 F,5 8 0,5 8 1,5 8 2,5 8 3,5 8 4,5 8 5,5 8 6,5 8 7,5 8 8,5 8 9,5 8 A,5 8 B,5 8 C,5 8 D,5 8 E,5 8 F,5 9 0,5 9 1,5 9 2,5 9 3,5 9 4,5 9 5,5 9 6,5 9 7,5 9 8,5 9 9,5 9 A,5 9 B,5 9 C,5 9 D,5 9 E,5 9 F,5 A 0,5 A 1,5 A 2,5 A 3,5 A 4,5 A 5,5 A 6,5 A 7,5 A 8,5 A 9,5 A A,5 A B,5 A C,5 A D,5 A E,5 A F,5 B 0,5 B 1,5 B 2,5 B 3,5 B 4,5 B 5,5 B 6,5 B 7,5 B 8,5 B 9,5 B A,5 B B,5 B C,5 B D,5 B E,5 B F,5 C 0,5 C 1,5 C 2,5 C 3,5 C 4,5 C 5,5 C 6,5 C 7,5 C 8,5 C 9,5 C A,5 C B,5 C C,5 C D,5 C E,5 C F,5 D 0,5 D 1,5 D 2,5 D 3,5 D 4,5 D 5,5 D 6,5 D 7,5 D 8,5 D 9,5 D A,5 D B,5 D C,5 D D,5 D E,5 D F,5 E 0,5 E 1,5 E 2,5 E 3,5 E 4,5 E 5,5 E 6,5 E 7,5 E 8,5 E 9,5 E A,5 E B,5 E C,5 E D,5 E E,5 E F,5 F 0,5 F 1,5 F 2,5 F 3,5 F 4,5 F 5,5 F 6,5 F 7,5 F 8,5 F 9,5 F A,5 F B,5 F C,5 F D,5 F E,5 F F,6 0 0,6 0 1,6 0 2,6 0 3,6 0 4,6 0 5,6 0 6,6 0 7,6 0 8,6 0 9,6 0 A,6 0 B,6 0 C,6 0 D,6 0 E,6 0 F,6 1 0,6 1 1,6 1 2,6 1 3,6 1 4,6 1 5,6 1 6,6 1 7,6 1 8,6 1 9,6 1 A,6 1 B,6 1 C,6 1 D,6 1 E,6 1 F,6 2 0,6 2 1,6 2 2,6 2 3,6 2 4,6 2 5,6 2 6,6 2 7,6 2 8,6 2 9,6 2 A,6 2 B,6 2 C,6 2 D,6 2 E,6 2 F,6 3 0,6 3 1,6 3 2,6 3 3,6 3 4,6 3 5,6 3 6,6 3 7,6 3 8,6 3 9,6 3 A,6 3 B,6 3 C,6 3 D,6 3 E,6 3 F,6 4 0,6 4 1,6 4 2,6 4 3,6 4 4,6 4 5,6 4 6,6 4 7,6 4 8,6 4 9,6 4 A,6 4 B,6 4 C,6 4 D,6 4 E,6 4 F,6 5 0,6 5 1,6 5 2,6 5 3,6 5 4,6 5 5,6 5 6,6 5 7,6 5 8,6 5 9,6 5 A,6 5 B,6 5 C,6 5 D,6 5 E,6 5 F,6 6 0,6 6 1,6 6 2,6 6 3,6 6 4,6 6 5,6 6 6,6 6 7,6 6 8,6 6 9,6 6 A,6 6 B,6 6 C,6 6 D,6 6 E,6 6 F,6 7 0,6 7 1,6 7 2,6 7 3,6 7 4,6 7 5,6 7 6,6 7 7,6 7 8,6 7 9,6 7 A,6 7 B,6 7 C,6 7 D,6 7 E,6 7 F,6 8 0,6 8 1,6 8 2,6 8 3,6 8 4,6 8 5,6 8 6,6 8 7,6 8 8,6 8 9,6 8 A,6 8 B,6 8 C,6 8 D,6 8 E,6 8 F,6 9 0,6 9 1,6 9 2,6 9 3,6 9 4,6 9 5,6 9 6,6 9 7,6 9 8,6 9 9,6 9 A,6 9 B,6 9 C,6 9 D,6 9 E,6 9 F,6 A 0,6 A 1,6 A 2,6 A 3,6 A 4,6 A 5,6 A 6,6 A 7,6 A 8,6 A 9,6 A A,6 A B,6 A C,6 A D,6 A E,6 A F,6 B 0,6 B 1,6 B 2,6 B 3,6 B 4,6 B 5,6 B 6,6 B 7,6 B 8,6 B 9,6 B A,6 B B,6 B C,6 B D,6 B E,6 B F,6 C 0,6 C 1,6 C 2,6 C 3,6 C 4,6 C 5,6 C 6,6 C 7,6 C 8,6 C 9,6 C A,6 C B,6 C C,6 C D,6 C E,6 C F,6 D 0,6 D 1,6 D 2,6 D 3,6 D 4,6 D 5,6 D 6,6 D 7,6 D 8,6 D 9,6 D A,6 D B,6 D C,6 D D,6 D E,6 D F,6 E 0,6 E 1,6 E 2,6 E 3,6 E 4,6 E 5,6 E 6,6 E 7,6 E 8,6 E 9,6 E A,6 E B,6 E C,6 E D,6 E E,6 E F,6 F 0,6 F 1,6 F 2,6 F 3,6 F 4,6 F 5,6 F 6,6 F 7,6 F 8,6 F 9,6 F A,6 F B,6 F C,6 F D,6 F E,6 F F,7 0 0,7 0 1,7 0 2,7 0 3,7 0 4,7 0 5,7 0 6,7 0 7,7 0 8,7 0 9,7 0 A,7 0 B,7 0 C,7 0 D,7 0 E,7 0 F,7 1 0,7 1 1,7 1 2,7 1 3,7 1 4,7 1 5,7 1 6,7 1 7,7 1 8,7 1 9,7 1 A,7 1 B,7 1 C,7 1 D,7 1 E,7 1 F,7 2 0,7 2 1,7 2 2,7 2 3,7 2 4,7 2 5,7 2 6,7 2 7,7 2 8,7 2 9,7 2 A,7 2 B,7 2 C,7 2 D,7 2 E,7 2 F,7 3 0,7 3 1,7 3 2,7 3 3,7 3 4,7 3 5,7 3 6,7 3 7,7 3 8,7 3 9,7 3 A,7 3 B,7 3 C,7 3 D,7 3 E,7 3 F,7 4 0,7 4 1,7 4 2,7 4 3,7 4 4,7 4 5,7 4 6,7 4 7,7 4 8,7 4 9,7 4 A,7 4 B,7 4 C,7 4 D,7 4 E,7 4 F,7 5 0,7 5 1,7 5 2,7 5 3,7 5 4,7 5 5,7 5 6,7 5 7,7 5 8,7 5 9,7 5 A,7 5 B,7 5 C,7 5 D,7 5 E,7 5 F,7 6 0,7 6 1,7 6 2,7 6 3,7 6 4,7 6 5,7 6 6,7 6 7,7 6 8,7 6 9,7 6 A,7 6 B,7 6 C,7 6 D,7 6 E,7 6 F,7 7 0,7 7 1,7 7 2,7 7 3,7 7 4,7 7 5,7 7 6,7 7 7,7 7 8,7 7 9,7 7 A,7 7 B,7 7 C,7 7 D,7 7 E,7 7 F,7 8 0,7 8 1,7 8 2,7 8 3,7 8 4,7 8 5,7 8 6,7 8 7,7 8 8,7 8 9,7 8 A,7 8 B,7 8 C,7 8 D,7 8 E,7 8 F,7 9 0,7 9 1,7 9 2,7 9 3,7 9 4,7 9 5,7 9 6,7 9 7,7 9 8,7 9 9,7 9 A,7 9 B,7 9 C,7 9 D,7 9 E,7 9 F,7 A 0,7 A 1,7 A 2,7 A 3,7 A 4,7 A 5,7 A 6,7 A 7,7 A 8,7 A 9,7 A A,7 A B,7 A C,7 A D,7 A E,7 A F,7 B 0,7 B 1,7 B 2,7 B 3,7 B 4,7 B 5,7 B 6,7 B 7,7 B 8,7 B 9,7 B A,7 B B,7 B C,7 B D,7 B E,7 B F,7 C 0,7 C 1,7 C 2,7 C 3,7 C 4,7 C 5,7 C 6,7 C 7,7 C 8,7 C 9,7 C A,7 C B,7 C C,7 C D,7 C E,7 C F,7 D 0,7 D 1,7 D 2,7 D 3,7 D 4,7 D 5,7 D 6,7 D 7,7 D 8,7 D 9,7 D A,7 D B,7 D C,7 D D,7 D E,7 D F,7 E 0,7 E 1,7 E 2,7 E 3,7 E 4,7 E 5,7 E 6,7 E 7,7 E 8,7 E 9,7 E A,7 E B,7 E C,7 E D,7 E E,7 E F,7 F 0,7 F 1,7 F 2,7 F 3,7 F 4,7 F 5,7 F 6,7 F 7,7 F 8,7 F 9,7 F A,7 F B,7 F C,7 F D,7 F E,7 F F,8 0 0,8 0 1,8 0 2,8 0 3,8 0 4,8 0 5,8 0 6,8 0 7,8 0 8,8 0 9,8 0 A,8 0 B,8 0 C,8 0 D,8 0 E,8 0 F,8 1 0,8 1 1,8 1 2,8 1 3,8 1 4,8 1 5,8 1 6,8 1 7,8 1 8,8 1 9,8 1 A,8 1 B,8 1 C,8 1 D,8 1 E,8 1 F,8 2 0,8 2 1,8 2 2,8 2 3,8 2 4,8 2 5,8 2 6,8 2 7,8 2 8,8 2 9,8 2 A,8 2 B,8 2 C,8 2 D,8 2 E,8 2 F,8 3 0,8 3 1,8 3 2,8 3 3,8 3 4,8 3 5,8 3 6,8 3 7,8 3 8,8 3 9,8 3 A,8 3 B,8 3 C,8 3 D,8 3 E,8 3 F,8 4 0,8 4 1,8 4 2,8 4 3,8 4 4,8 4 5,8 4 6,8 4 7,8 4 8,8 4 9,8 4 A,8 4 B,8 4 C,8 4 D,8 4 E,8 4 F,8 5 0,8 5 1,8 5 2,8 5 3,8 5 4,8 5 5,8 5 6,8 5 7,8 5 8,8 5 9,8 5 A,8 5 B,8 5 C,8 5 D,8 5 E,8 5 F,8 6 0,8 6 1,8 6 2,8 6 3,8 6 4,8 6 5,8 6 6,8 6 7,8 6 8,8 6 9,8 6 A,8 6 B,8 6 C,8 6 D,8 6 E,8 6 F,8 7 0,8 7 1,8 7 2,8 7 3,8 7 4,8 7 5,8 7 6,8 7 7,8 7 8,8 7 9,8 7 A,8 7 B,8 7 C,8 7 D,8 7 E,8 7 F,8 8 0,8 8 1,8 8 2,8 8 3,8 8 4,8 8 5,8 8 6,8 8 7,8 8 8,8 8 9,8 8 A,8 8 B,8 8 C,8 8 D,8 8 E,8 8 F,8 9 0,8 9 1,8 9 2,8 9 3,8 9 4,8 9 5,8 9 6,8 9 7,8 9 8,8 9 9,8 9 A,8 9 B,8 9 C,8 9 D,8 9 E,8 9 F,8 A 0,8 A 1,8 A 2,8 A 3,8 A 4,8 A 5,8 A 6,8 A 7,8 A 8,8 A 9,8 A A,8 A B,8 A C,8 A D,8 A E,8 A F,8 B 0,8 B 1,8 B 2,8 B 3,8 B 4,8 B 5,8 B 6,8 B 7,8 B 8,8 B 9,8 B A,8 B B,8 B C,8 B D,8 B E,8 B F,8 C 0,8 C 1,8 C 2,8 C 3,8 C 4,8 C 5,8 C 6,8 C 7,8 C 8,8 C 9,8 C A,8 C B,8 C C,8 C D,8 C E,8 C F,8 D 0,8 D 1,8 D 2,8 D 3,8 D 4,8 D 5,8 D 6,8 D 7,8 D 8,8 D 9,8 D A,8 D B,8 D C,8 D D,8 D E,8 D F,8 E 0,8 E 1,8 E 2,8 E 3,8 E 4,8 E 5,8 E 6,8 E 7,8 E 8,8 E 9,8 E A,8 E B,8 E C,8 E D,8 E E,8 E F,8 F 0,8 F 1,8 F 2,8 F 3,8 F 4,8 F 5,8 F 6,8 F 7,8 F 8,8 F 9,8 F A,8 F B,8 F C,8 F D,8 F E,8 F F,9 0 0,9 0 1,9 0 2,9 0 3,9 0 4,9 0 5,9 0 6,9 0 7,9 0 8,9 0 9,9 0 A,9 0 B,9 0 C,9 0 D,9 0 E,9 0 F,9 1 0,9 1 1,9 1 2,9 1 3,9 1 4,9 1 5,9 1 6,9 1 7,9 1 8,9 1 9,9 1 A,9 1 B,9 1 C,9 1 D,9 1 E,9 1 F,9 2 0,9 2 1,9 2 2,9 2 3,9 2 4,9 2 5,9 2 6,9 2 7,9 2 8,9 2 9,9 2 A,9 2 B,9 2 C,9 2 D,9 2 E,9 2 F,9 3 0,9 3 1,9 3 2,9 3 3,9 3 4,9 3 5,9 3 6,9 3 7,9 3 8,9 3 9,9 3 A,9 3 B,9 3 C,9 3 D,9 3 E,9 3 F,9 4 0,9 4 1,9 4 2,9 4 3,9 4 4,9 4 5,9 4 6,9 4 7,9 4 8,9 4 9,9 4 A,9 4 B,9 4 C,9 4 D,9 4 E,9 4 F,9 5 0,9 5 1,9 5 2,9 5 3,9 5 4,9 5 5,9 5 6,9 5 7,9 5 8,9 5 9,9 5 A,9 5 B,9 5 C,9 5 D,9 5 E,9 5 F,9 6 0,9 6 1,9 6 2,9 6 3,9 6 4,9 6 5,9 6 6,9 6 7,9 6 8,9 6 9,9 6 A,9 6 B,9 6 C,9 6 D,9 6 E,9 6 F,9 7 0,9 7 1,9 7 2,9 7 3,9 7 4,9 7 5,9 7 6,9 7 7,9 7 8,9 7 9,9 7 A,9 7 B,9 7 C,9 7 D,9 7 E,9 7 F,9 8 0,9 8 1,9 8 2,9 8 3,9 8 4,9 8 5,9 8 6,9 8 7,9 8 8,9 8 9,9 8 A,9 8 B,9 8 C,9 8 D,9 8 E,9 8 F,9 9 0,9 9 1,9 9 2,9 9 3,9 9 4,9 9 5,9 9 6,9 9 7,9 9 8,9 9 9,9 9 A,9 9 B,9 9 C,9 9 D,9 9 E,9 9 F,9 A 0,9 A 1,9 A 2,9 A 3,9 A 4,9 A 5,9 A 6,9 A 7,9 A 8,9 A 9,9 A A,9 A B,9 A C,9 A D,9 A E,9 A F,9 B 0,9 B 1,9 B 2,9 B 3,9 B 4,9 B 5,9 B 6,9 B 7,9 B 8,9 B 9,9 B A,9 B B,9 B C,9 B D,9 B E,9 B F,9 C 0,9 C 1,9 C 2,9 C 3,9 C 4,9 C 5,9 C 6,9 C 7,9 C 8,9 C 9,9 C A,9 C B,9 C C,9 C D,9 C E,9 C F,9 D 0,9 D 1,9 D 2,9 D 3,9 D 4,9 D 5,9 D 6,9 D 7,9 D 8,9 D 9,9 D A,9 D B,9 D C,9 D D,9 D E,9 D F,9 E 0,9 E 1,9 E 2,9 E 3,9 E 4,9 E 5,9 E 6,9 E 7,9 E 8,9 E 9,9 E A,9 E B,9 E C,9 E D,9 E E,9 E F,9 F 0,9 F 1,9 F 2,9 F 3,9 F 4,9 F 5,9 F 6,9 F 7,9 F 8,9 F 9,9 F A,9 F B,9 F C,9 F D,9 F E,9 F F,A 0 0,A 0 1,A 0 2,A 0 3,A 0 4,A 0 5,A 0 6,A 0 7,A 0 8,A 0 9,A 0 A,A 0 B,A 0 C,A 0 D,A 0 E,A 0 F,A 1 0,A 1 1,A 1 2,A 1 3,A 1 4,A 1 5,A 1 6,A 1 7,A 1 8,A 1 9,A 1 A,A 1 B,A 1 C,A 1 D,A 1 E,A 1 F,A 2 0,A 2 1,A 2 2,A 2 3,A 2 4,A 2 5,A 2 6,A 2 7,A 2 8,A 2 9,A 2 A,A 2 B,A 2 C,A 2 D,A 2 E,A 2 F,A 3 0,A 3 1,A 3 2,A 3 3,A 3 4,A 3 5,A 3 6,A 3 7,A 3 8,A 3 9,A 3 A,A 3 B,A 3 C,A 3 D,A 3 E,A 3 F,A 4 0,A 4 1,A 4 2,A 4 3,A 4 4,A 4 5,A 4 6,A 4 7,A 4 8,A 4 9,A 4 A,A 4 B,A 4 C,A 4 D,A 4 E,A 4 F,A 5 0,A 5 1,A 5 2,A 5 3,A 5 4,A 5 5,A 5 6,A 5 7,A 5 8,A 5 9,A 5 A,A 5 B,A 5 C,A 5 D,A 5 E,A 5 F,A 6 0,A 6 1,A 6 2,A 6 3,A 6 4,A 6 5,A 6 6,A 6 7,A 6 8,A 6 9,A 6 A,A 6 B,A 6 C,A 6 D,A 6 E,A 6 F,A 7 0,A 7 1,A 7 2,A 7 3,A 7 4,A 7 5,A 7 6,A 7 7,A 7 8,A 7 9,A 7 A,A 7 B,A 7 C,A 7 D,A 7 E,A 7 F,A 8 0,A 8 1,A 8 2,A 8 3,A 8 4,A 8 5,A 8 6,A 8 7,A 8 8,A 8 9,A 8 A,A 8 B,A 8 C,A 8 D,A 8 E,A 8 F,A 9 0,A 9 1,A 9 2,A 9 3,A 9 4,A 9 5,A 9 6,A 9 7,A 9 8,A 9 9,A 9 A,A 9 B,A 9 C,A 9 D,A 9 E,A 9 F,A A 0,A A 1,A A 2,A A 3,A A 4,A A 5,A A 6,A A 7,A A 8,A A 9,A A A,A A B,A A C,A A D,A A E,A A F,A B 0,A B 1,A B 2,A B 3,A B 4,A B 5,A B 6,A B 7,A B 8,A B 9,A B A,A B B,A B C,A B D,A B E,A B F,A C 0,A C 1,A C 2,A C 3,A C 4,A C 5,A C 6,A C 7,A C 8,A C 9,A C A,A C B,A C C,A C D,A C E,A C F,A D 0,A D 1,A D 2,A D 3,A D 4,A D 5,A D 6,A D 7,A D 8,A D 9,A D A,A D B,A D C,A D D,A D E,A D F,A E 0,A E 1,A E 2,A E 3,A E 4,A E 5,A E 6,A E 7,A E 8,A E 9,A E A,A E B,A E C,A E D,A E E,A E F,A F 0,A F 1,A F 2,A F 3,A F 4,A F 5,A F 6,A F 7,A F 8,A F 9,A F A,A F B,A F C,A F D,A F E,A F F,B 0 0,B 0 1,B 0 2,B 0 3,B 0 4,B 0 5,B 0 6,B 0 7,B 0 8,B 0 9,B 0 A,B 0 B,B 0 C,B 0 D,B 0 E,B 0 F,B 1 0,B 1 1,B 1 2,B 1 3,B 1 4,B 1 5,B 1 6,B 1 7,B 1 8,B 1 9,B 1 A,B 1 B,B 1 C,B 1 D,B 1 E,B 1 F,B 2 0,B 2 1,B 2 2,B 2 3,B 2 4,B 2 5,B 2 6,B 2 7,B 2 8,B 2 9,B 2 A,B 2 B,B 2 C,B 2 D,B 2 E,B 2 F,B 3 0,B 3 1,B 3 2,B 3 3,B 3 4,B 3 5,B 3 6,B 3 7,B 3 8,B 3 9,B 3 A,B 3 B,B 3 C,B 3 D,B 3 E,B 3 F,B 4 0,B 4 1,B 4 2,B 4 3,B 4 4,B 4 5,B 4 6,B 4 7,B 4 8,B 4 9,B 4 A,B 4 B,B 4 C,B 4 D,B 4 E,B 4 F,B 5 0,B 5 1,B 5 2,B 5 3,B 5 4,B 5 5,B 5 6,B 5 7,B 5 8,B 5 9,B 5 A,B 5 B,B 5 C,B 5 D,B 5 E,B 5 F,B 6 0,B 6 1,B 6 2,B 6 3,B 6 4,B 6 5,B 6 6,B 6 7,B 6 8,B 6 9,B 6 A,B 6 B,B 6 C,B 6 D,B 6 E,B 6 F,B 7 0,B 7 1,B 7 2,B 7 3,B 7 4,B 7 5,B 7 6,B 7 7,B 7 8,B 7 9,B 7 A,B 7 B,B 7 C,B 7 D,B 7 E,B 7 F,B 8 0,B 8 1,B 8 2,B 8 3,B 8 4,B 8 5,B 8 6,B 8 7,B 8 8,B 8 9,B 8 A,B 8 B,B 8 C,B 8 D,B 8 E,B 8 F,B 9 0,B 9 1,B 9 2,B 9 3,B 9 4,B 9 5,B 9 6,B 9 7,B 9 8,B 9 9,B 9 A,B 9 B,B 9 C,B 9 D,B 9 E,B 9 F,B A 0,B A 1,B A 2,B A 3,B A 4,B A 5,B A 6,B A 7,B A 8,B A 9,B A A,B A B,B A C,B A D,B A E,B A F,B B 0,B B 1,B B 2,B B 3,B B 4,B B 5,B B 6,B B 7,B B 8,B B 9,B B A,B B B,B B C,B B D,B B E,B B F,B C 0,B C 1,B C 2,B C 3,B C 4,B C 5,B C 6,B C 7,B C 8,B C 9,B C A,B C B,B C C,B C D,B C E,B C F,B D 0,B D 1,B D 2,B D 3,B D 4,B D 5,B D 6,B D 7,B D 8,B D 9,B D A,B D B,B D C,B D D,B D E,B D F,B E 0,B E 1,B E 2,B E 3,B E 4,B E 5,B E 6,B E 7,B E 8,B E 9,B E A,B E B,B E C,B E D,B E E,B E F,B F 0,B F 1,B F 2,B F 3,B F 4,B F 5,B F 6,B F 7,B F 8,B F 9,B F A,B F B,B F C,B F D,B F E,B F F,C 0 0,C 0 1,C 0 2,C 0 3,C 0 4,C 0 5,C 0 6,C 0 7,C 0 8,C 0 9,C 0 A,C 0 B,C 0 C,C 0 D,C 0 E,C 0 F,C 1 0,C 1 1,C 1 2,C 1 3,C 1 4,C 1 5,C 1 6,C 1 7,C 1 8,C 1 9,C 1 A,C 1 B,C 1 C,C 1 D,C 1 E,C 1 F,C 2 0,C 2 1,C 2 2,C 2 3,C 2 4,C 2 5,C 2 6,C 2 7,C 2 8,C 2 9,C 2 A,C 2 B,C 2 C,C 2 D,C 2 E,C 2 F,C 3 0,C 3 1,C 3 2,C 3 3,C 3 4,C 3 5,C 3 6,C 3 7,C 3 8,C 3 9,C 3 A,C 3 B,C 3 C,C 3 D,C 3 E,C 3 F,C 4 0,C 4 1,C 4 2,C 4 3,C 4 4,C 4 5,C 4 6,C 4 7,C 4 8,C 4 9,C 4 A,C 4 B,C 4 C,C 4 D,C 4 E,C 4 F,C 5 0,C 5 1,C 5 2,C 5 3,C 5 4,C 5 5,C 5 6,C 5 7,C 5 8,C 5 9,C 5 A,C 5 B,C 5 C,C 5 D,C 5 E,C 5 F,C 6 0,C 6 1,C 6 2,C 6 3,C 6 4,C 6 5,C 6 6,C 6 7,C 6 8,C 6 9,C 6 A,C 6 B,C 6 C,C 6 D,C 6 E,C 6 F,C 7 0,C 7 1,C 7 2,C 7 3,C 7 4,C 7 5,C 7 6,C 7 7,C 7 8,C 7 9,C 7 A,C 7 B,C 7 C,C 7 D,C 7 E,C 7 F,C 8 0,C 8 1,C 8 2,C 8 3,C 8 4,C 8 5,C 8 6,C 8 7,C 8 8,C 8 9,C 8 A,C 8 B,C 8 C,C 8 D,C 8 E,C 8 F,C 9 0,C 9 1,C 9 2,C 9 3,C 9 4,C 9 5,C 9 6,C 9 7,C 9 8,C 9 9,C 9 A,C 9 B,C 9 C,C 9 D,C 9 E,C 9 F,C A 0,C A 1,C A 2,C A 3,C A 4,C A 5,C A 6,C A 7,C A 8,C A 9,C A A,C A B,C A C,C A D,C A E,C A F,C B 0,C B 1,C B 2,C B 3,C B 4,C B 5,C B 6,C B 7,C B 8,C B 9,C B A,C B B,C B C,C B D,C B E,C B F,C C 0,C C 1,C C 2,C C 3,C C 4,C C 5,C C 6,C C 7,C C 8,C C 9,C C A,C C B,C C C,C C D,C C E,C C F,C D 0,C D 1,C D 2,C D 3,C D 4,C D 5,C D 6,C D 7,C D 8,C D 9,C D A,C D B,C D C,C D D,C D E,C D F,C E 0,C E 1,C E 2,C E 3,C E 4,C E 5,C E 6,C E 7,C E 8,C E 9,C E A,C E B,C E C,C E D,C E E,C E F,C F 0,C F 1,C F 2,C F 3,C F 4,C F 5,C F 6,C F 7,C F 8,C F 9,C F A,C F B,C F C,C F D,C F E,C F F,D 0 0,D 0 1,D 0 2,D 0 3,D 0 4,D 0 5,D 0 6,D 0 7,D 0 8,D 0 9,D 0 A,D 0 B,D 0 C,D 0 D,D 0 E,D 0 F,D 1 0,D 1 1,D 1 2,D 1 3,D 1 4,D 1 5,D 1 6,D 1 7,D 1 8,D 1 9,D 1 A,D 1 B,D 1 C,D 1 D,D 1 E,D 1 F,D 2 0,D 2 1,D 2 2,D 2 3,D 2 4,D 2 5,D 2 6,D 2 7,D 2 8,D 2 9,D 2 A,D 2 B,D 2 C,D 2 D,D 2 E,D 2 F,D 3 0,D 3 1,D 3 2,D 3 3,D 3 4,D 3 5,D 3 6,D 3 7,D 3 8,D 3 9,D 3 A,D 3 B,D 3 C,D 3 D,D 3 E,D 3 F,D 4 0,D 4 1,D 4 2,D 4 3,D 4 4,D 4 5,D 4 6,D 4 7,D 4 8,D 4 9,D 4 A,D 4 B,D 4 C,D 4 D,D 4 E,D 4 F,D 5 0,D 5 1,D 5 2,D 5 3,D 5 4,D 5 5,D 5 6,D 5 7,D 5 8,D 5 9,D 5 A,D 5 B,D 5 C,D 5 D,D 5 E,D 5 F,D 6 0,D 6 1,D 6 2,D 6 3,D 6 4,D 6 5,D 6 6,D 6 7,D 6 8,D 6 9,D 6 A,D 6 B,D 6 C,D 6 D,D 6 E,D 6 F,D 7 0,D 7 1,D 7 2,D 7 3,D 7 4,D 7 5,D 7 6,D 7 7,D 7 8,D 7 9,D 7 A,D 7 B,D 7 C,D 7 D,D 7 E,D 7 F,D 8 0,D 8 1,D 8 2,D 8 3,D 8 4,D 8 5,D 8 6,D 8 7,D 8 8,D 8 9,D 8 A,D 8 B,D 8 C,D 8 D,D 8 E,D 8 F,D 9 0,D 9 1,D 9 2,D 9 3,D 9 4,D 9 5,D 9 6,D 9 7,D 9 8,D 9 9,D 9 A,D 9 B,D 9 C,D 9 D,D 9 E,D 9 F,D A 0,D A 1,D A 2,D A 3,D A 4,D A 5,D A 6,D A 7,D A 8,D A 9,D A A,D A B,D A C,D A D,D A E,D A F,D B 0,D B 1,D B 2,D B 3,D B 4,D B 5,D B 6,D B 7,D B 8,D B 9,D B A,D B B,D B C,D B D,D B E,D B F,D C 0,D C 1,D C 2,D C 3,D C 4,D C 5,D C 6,D C 7,D C 8,D C 9,D C A,D C B,D C C,D C D,D C E,D C F,D D 0,D D 1,D D 2,D D 3,D D 4,D D 5,D D 6,D D 7,D D 8,D D 9,D D A,D D B,D D C,D D D,D D E,D D F,D E 0,D E 1,D E 2,D E 3,D E 4,D E 5,D E 6,D E 7,D E 8,D E 9,D E A,D E B,D E C,D E D,D E E,D E F,D F 0,D F 1,D F 2,D F 3,D F 4,D F 5,D F 6,D F 7,D F 8,D F 9,D F A,D F B,D F C,D F D,D F E,D F F,E 0 0,E 0 1,E 0 2,E 0 3,E 0 4,E 0 5,E 0 6,E 0 7,E 0 8,E 0 9,E 0 A,E 0 B,E 0 C,E 0 D,E 0 E,E 0 F,E 1 0,E 1 1,E 1 2,E 1 3,E 1 4,E 1 5,E 1 6,E 1 7,E 1 8,E 1 9,E 1 A,E 1 B,E 1 C,E 1 D,E 1 E,E 1 F,E 2 0,E 2 1,E 2 2,E 2 3,E 2 4,E 2 5,E 2 6,E 2 7,E 2 8,E 2 9,E 2 A,E 2 B,E 2 C,E 2 D,E 2 E,E 2 F,E 3 0,E 3 1,E 3 2,E 3 3,E 3 4,E 3 5,E 3 6,E 3 7,E 3 8,E 3 9,E 3 A,E 3 B,E 3 C,E 3 D,E 3 E,E 3 F,E 4 0,E 4 1,E 4 2,E 4 3,E 4 4,E 4 5,E 4 6,E 4 7,E 4 8,E 4 9,E 4 A,E 4 B,E 4 C,E 4 D,E 4 E,E 4 F,E 5 0,E 5 1,E 5 2,E 5 3,E 5 4,E 5 5,E 5 6,E 5 7,E 5 8,E 5 9,E 5 A,E 5 B,E 5 C,E 5 D,E 5 E,E 5 F,E 6 0,E 6 1,E 6 2,E 6 3,E 6 4,E 6 5,E 6 6,E 6 7,E 6 8,E 6 9,E 6 A,E 6 B,E 6 C,E 6 D,E 6 E,E 6 F,E 7 0,E 7 1,E 7 2,E 7 3,E 7 4,E 7 5,E 7 6,E 7 7,E 7 8,E 7 9,E 7 A,E 7 B,E 7 C,E 7 D,E 7 E,E 7 F,E 8 0,E 8 1,E 8 2,E 8 3,E 8 4,E 8 5,E 8 6,E 8 7,E 8 8,E 8 9,E 8 A,E 8 B,E 8 C,E 8 D,E 8 E,E 8 F,E 9 0,E 9 1,E 9 2,E 9 3,E 9 4,E 9 5,E 9 6,E 9 7,E 9 8,E 9 9,E 9 A,E 9 B,E 9 C,E 9 D,E 9 E,E 9 F,E A 0,E A 1,E A 2,E A 3,E A 4,E A 5,E A 6,E A 7,E A 8,E A 9,E A A,E A B,E A C,E A D,E A E,E A F,E B 0,E B 1,E B 2,E B 3,E B 4,E B 5,E B 6,E B 7,E B 8,E B 9,E B A,E B B,E B C,E B D,E B E,E B F,E C 0,E C 1,E C 2,E C 3,E C 4,E C 5,E C 6,E C 7,E C 8,E C 9,E C A,E C B,E C C,E C D,E C E,E C F,E D 0,E D 1,E D 2,E D 3,E D 4,E D 5,E D 6,E D 7,E D 8,E D 9,E D A,E D B,E D C,E D D,E D E,E D F,E E 0,E E 1,E E 2,E E 3,E E 4,E E 5,E E 6,E E 7,E E 8,E E 9,E E A,E E B,E E C,E E D,E E E,E E F,E F 0,E F 1,E F 2,E F 3,E F 4,E F 5,E F 6,E F 7,E F 8,E F 9,E F A,E F B,E F C,E F D,E F E,E F F,F 0 0,F 0 1,F 0 2,F 0 3,F 0 4,F 0 5,F 0 6,F 0 7,F 0 8,F 0 9,F 0 A,F 0 B,F 0 C,F 0 D,F 0 E,F 0 F,F 1 0,F 1 1,F 1 2,F 1 3,F 1 4,F 1 5,F 1 6,F 1 7,F 1 8,F 1 9,F 1 A,F 1 B,F 1 C,F 1 D,F 1 E,F 1 F,F 2 0,F 2 1,F 2 2,F 2 3,F 2 4,F 2 5,F 2 6,F 2 7,F 2 8,F 2 9,F 2 A,F 2 B,F 2 C,F 2 D,F 2 E,F 2 F,F 3 0,F 3 1,F 3 2,F 3 3,F 3 4,F 3 5,F 3 6,F 3 7,F 3 8,F 3 9,F 3 A,F 3 B,F 3 C,F 3 D,F 3 E,F 3 F,F 4 0,F 4 1,F 4 2,F 4 3,F 4 4,F 4 5,F 4 6,F 4 7,F 4 8,F 4 9,F 4 A,F 4 B,F 4 C,F 4 D,F 4 E,F 4 F,F 5 0,F 5 1,F 5 2,F 5 3,F 5 4,F 5 5,F 5 6,F 5 7,F 5 8,F 5 9,F 5 A,F 5 B,F 5 C,F 5 D,F 5 E,F 5 F,F 6 0,F 6 1,F 6 2,F 6 3,F 6 4,F 6 5,F 6 6,F 6 7,F 6 8,F 6 9,F 6 A,F 6 B,F 6 C,F 6 D,F 6 E,F 6 F,F 7 0,F 7 1,F 7 2,F 7 3,F 7 4,F 7 5,F 7 6,F 7 7,F 7 8,F 7 9,F 7 A,F 7 B,F 7 C,F 7 D,F 7 E,F 7 F,F 8 0,F 8 1,F 8 2,F 8 3,F 8 4,F 8 5,F 8 6,F 8 7,F 8 8,F 8 9,F 8 A,F 8 B,F 8 C,F 8 D,F 8 E,F 8 F,F 9 0,F 9 1,F 9 2,F 9 3,F 9 4,F 9 5,F 9 6,F 9 7,F 9 8,F 9 9,F 9 A,F 9 B,F 9 C,F 9 D,F 9 E,F 9 F,F A 0,F A 1,F A 2,F A 3,F A 4,F A 5,F A 6,F A 7,F A 8,F A 9,F A A,F A B,F A C,F A D,F A E,F A F,F B 0,F B 1,F B 2,F B 3,F B 4,F B 5,F B 6,F B 7,F B 8,F B 9,F B A,F B B,F B C,F B D,F B E,F B F,F C 0,F C 1,F C 2,F C 3,F C 4,F C 5,F C 6,F C 7,F C 8,F C 9,F C A,F C B,F C C,F C D,F C E,F C F,F D 0,F D 1,F D 2,F D 3,F D 4,F D 5,F D 6,F D 7,F D 8,F D 9,F D A,F D B,F D C,F D D,F D E,F D F,F E 0,F E 1,F E 2,F E 3,F E 4,F E 5,F E 6,F E 7,F E 8,F E 9,F E A,F E B,F E C,F E D,F E E,F E F,F F 0,F F 1,F F 2,F F 3,F F 4,F F 5,F F 6,F F 7,F F 8,F F 9,F F A,F F B,F F C,F F D,F F E,F F F,"
          ]
        }
      ]
    },
    {
      "cell_type": "code",
      "source": [
        ""
      ],
      "metadata": {
        "id": "2-kqBdR5gRu2"
      },
      "execution_count": null,
      "outputs": []
    }
  ],
  "metadata": {
    "kernelspec": {
      "display_name": "Python 3",
      "language": "python",
      "name": "python3"
    },
    "language_info": {
      "codemirror_mode": {
        "name": "ipython",
        "version": 3
      },
      "file_extension": ".py",
      "mimetype": "text/x-python",
      "name": "python",
      "nbconvert_exporter": "python",
      "pygments_lexer": "ipython3",
      "version": "3.7.4"
    },
    "colab": {
      "name": "02_Python-Pandas-DataSeries.ipynb",
      "provenance": [],
      "include_colab_link": true
    }
  },
  "nbformat": 4,
  "nbformat_minor": 0
}